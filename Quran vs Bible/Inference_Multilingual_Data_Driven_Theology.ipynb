{
  "nbformat": 4,
  "nbformat_minor": 0,
  "metadata": {
    "colab": {
      "provenance": [],
      "collapsed_sections": []
    },
    "kernelspec": {
      "name": "python3",
      "display_name": "Python 3"
    },
    "language_info": {
      "name": "python"
    },
    "accelerator": "GPU",
    "gpuClass": "standard"
  },
  "cells": [
    {
      "cell_type": "code",
      "execution_count": 1,
      "metadata": {
        "colab": {
          "base_uri": "https://localhost:8080/"
        },
        "id": "v_jbQpEJDigx",
        "outputId": "8147b76d-b6cd-4010-ca85-aa0bc834c308"
      },
      "outputs": [
        {
          "output_type": "stream",
          "name": "stdout",
          "text": [
            "Looking in indexes: https://pypi.org/simple, https://us-python.pkg.dev/colab-wheels/public/simple/\n",
            "Collecting laserembeddings==1.1.2\n",
            "  Downloading laserembeddings-1.1.2-py3-none-any.whl (13 kB)\n",
            "Collecting sacremoses==0.0.35\n",
            "  Downloading sacremoses-0.0.35.tar.gz (859 kB)\n",
            "\u001b[K     |████████████████████████████████| 859 kB 6.4 MB/s \n",
            "\u001b[?25hRequirement already satisfied: numpy<2.0.0,>=1.15.4 in /usr/local/lib/python3.7/dist-packages (from laserembeddings==1.1.2) (1.21.6)\n",
            "Collecting transliterate==1.10.2\n",
            "  Downloading transliterate-1.10.2-py2.py3-none-any.whl (45 kB)\n",
            "\u001b[K     |████████████████████████████████| 45 kB 4.5 MB/s \n",
            "\u001b[?25hCollecting subword-nmt<0.4.0,>=0.3.6\n",
            "  Downloading subword_nmt-0.3.8-py3-none-any.whl (27 kB)\n",
            "Requirement already satisfied: torch<2.0.0,>=1.0.1.post2 in /usr/local/lib/python3.7/dist-packages (from laserembeddings==1.1.2) (1.12.1+cu113)\n",
            "Requirement already satisfied: six in /usr/local/lib/python3.7/dist-packages (from sacremoses==0.0.35->laserembeddings==1.1.2) (1.15.0)\n",
            "Requirement already satisfied: click in /usr/local/lib/python3.7/dist-packages (from sacremoses==0.0.35->laserembeddings==1.1.2) (7.1.2)\n",
            "Requirement already satisfied: joblib in /usr/local/lib/python3.7/dist-packages (from sacremoses==0.0.35->laserembeddings==1.1.2) (1.1.0)\n",
            "Requirement already satisfied: tqdm in /usr/local/lib/python3.7/dist-packages (from sacremoses==0.0.35->laserembeddings==1.1.2) (4.64.0)\n",
            "Collecting mock\n",
            "  Downloading mock-4.0.3-py3-none-any.whl (28 kB)\n",
            "Requirement already satisfied: typing-extensions in /usr/local/lib/python3.7/dist-packages (from torch<2.0.0,>=1.0.1.post2->laserembeddings==1.1.2) (4.1.1)\n",
            "Building wheels for collected packages: sacremoses\n",
            "  Building wheel for sacremoses (setup.py) ... \u001b[?25l\u001b[?25hdone\n",
            "  Created wheel for sacremoses: filename=sacremoses-0.0.35-py3-none-any.whl size=883989 sha256=7dc30b85c3371d2993e7637db39c0442bb40cca99a5680f05a6e0bba773ed38e\n",
            "  Stored in directory: /root/.cache/pip/wheels/d1/ff/0e/e00ff1e22100702ac8b24e709551ae0fb29db9ffc843510a64\n",
            "Successfully built sacremoses\n",
            "Installing collected packages: mock, transliterate, subword-nmt, sacremoses, laserembeddings\n",
            "Successfully installed laserembeddings-1.1.2 mock-4.0.3 sacremoses-0.0.35 subword-nmt-0.3.8 transliterate-1.10.2\n"
          ]
        }
      ],
      "source": [
        "\n",
        "!pip install laserembeddings==1.1.2\n",
        "#!python -m laserembeddings download-models\n",
        "import torch\n",
        "from tqdm.auto import tqdm\n",
        "import re\n",
        "tqdm.pandas()\n",
        "import numpy as np # linear algebra\n",
        "import pandas as pd # data processing, CSV file I/O (e.g. pd.read_csv)\n",
        "\n",
        "from laserembeddings import Laser\n",
        "import site\n",
        "import sys\n",
        "import os\n",
        "import gdown\n",
        "import shutil\n",
        "pd.set_option('display.max_colwidth', None)\n",
        "#os.system('python -m laserembeddings download-models')\n"
      ]
    },
    {
      "cell_type": "code",
      "source": [
        "torch.__version__"
      ],
      "metadata": {
        "colab": {
          "base_uri": "https://localhost:8080/",
          "height": 35
        },
        "id": "1P1QjJAeFGzx",
        "outputId": "6f42d997-c811-4399-a9fe-65a787bba77b"
      },
      "execution_count": 2,
      "outputs": [
        {
          "output_type": "execute_result",
          "data": {
            "text/plain": [
              "'1.12.1+cu113'"
            ],
            "application/vnd.google.colaboratory.intrinsic+json": {
              "type": "string"
            }
          },
          "metadata": {},
          "execution_count": 2
        }
      ]
    },
    {
      "cell_type": "code",
      "source": [
        "torch.cuda.is_available()"
      ],
      "metadata": {
        "colab": {
          "base_uri": "https://localhost:8080/"
        },
        "id": "my7dge3_FCWn",
        "outputId": "9a380408-dbf1-4d36-b3b0-17f88f51ff5f"
      },
      "execution_count": 3,
      "outputs": [
        {
          "output_type": "execute_result",
          "data": {
            "text/plain": [
              "True"
            ]
          },
          "metadata": {},
          "execution_count": 3
        }
      ]
    },
    {
      "cell_type": "code",
      "source": [
        "\n",
        "loc = site.getsitepackages() \n",
        "data_path = loc[0]+'/laserembeddings/data'\n",
        "print(site.getusersitepackages()) # String for user-specific package location)\n",
        "loc[0]"
      ],
      "metadata": {
        "colab": {
          "base_uri": "https://localhost:8080/",
          "height": 53
        },
        "id": "Q60itEd-ET9X",
        "outputId": "bf329880-bc6c-4eaa-ff5a-3e71943f14b5"
      },
      "execution_count": 4,
      "outputs": [
        {
          "output_type": "stream",
          "name": "stdout",
          "text": [
            "/root/.local/lib/python3.7/site-packages\n"
          ]
        },
        {
          "output_type": "execute_result",
          "data": {
            "text/plain": [
              "'/usr/local/lib/python3.7/dist-packages'"
            ],
            "application/vnd.google.colaboratory.intrinsic+json": {
              "type": "string"
            }
          },
          "metadata": {},
          "execution_count": 4
        }
      ]
    },
    {
      "cell_type": "code",
      "source": [
        "\n",
        "# assets folder\n",
        "url = \"https://drive.google.com/drive/folders/1gMDdBPFYcc0ACCVZr5tJ82JoaN-Le0aR?usp=sharing\"\n",
        "id = \"1gMDdBPFYcc0ACCVZr5tJ82JoaN-Le0aR\""
      ],
      "metadata": {
        "id": "7jmE53QlFa61"
      },
      "execution_count": 5,
      "outputs": []
    },
    {
      "cell_type": "code",
      "source": [
        "%%time\n",
        "\n",
        "dir = './data_driven_theology/'\n",
        "if not os.path.exists(dir):\n",
        "    os.mkdir(dir)\n",
        "\n",
        "files = os.listdir(dir)\n",
        "if(len(files)<5):\n",
        "    print(\"downloading necessary files....\")\n",
        "    gdown.download_folder(id=id, quiet=True, use_cookies=False)    \n",
        "\n",
        "    shutil.copy('/content/data_driven_theology/93langs.fcodes', data_path)\n",
        "    shutil.copy('/content/data_driven_theology/93langs.fvocab', data_path)\n",
        "    shutil.copy('/content/data_driven_theology/bilstm.93langs.2018-12-26.pt', data_path)\n"
      ],
      "metadata": {
        "colab": {
          "base_uri": "https://localhost:8080/"
        },
        "id": "zNgiRg-8FjUl",
        "outputId": "055926c7-943e-4a56-e168-7063b8c08f31"
      },
      "execution_count": 6,
      "outputs": [
        {
          "output_type": "stream",
          "name": "stdout",
          "text": [
            "downloading necessary files....\n",
            "CPU times: user 681 ms, sys: 663 ms, total: 1.34 s\n",
            "Wall time: 10.2 s\n"
          ]
        }
      ]
    },
    {
      "cell_type": "code",
      "source": [
        "def similarity(v1, v2):\n",
        "    n1 = np.linalg.norm(v1)\n",
        "    n2 = np.linalg.norm(v2)\n",
        "    return np.dot(v1, v2) / n1 / n2\n",
        "\n",
        "def pairwise_euclidean_dists(x, y):\n",
        "    dists = -2 * np.matmul(x, y.T)\n",
        "    dists +=  np.sum(x**2, axis=1)[:, np.newaxis]\n",
        "    dists += np.sum(y**2, axis=1)\n",
        "    return  np.sqrt(dists)\n",
        "\n",
        "\n",
        "laser = Laser()"
      ],
      "metadata": {
        "id": "EyPUNCM3ElSx"
      },
      "execution_count": 7,
      "outputs": []
    },
    {
      "cell_type": "code",
      "source": [
        "sim_quran_torah = pd.read_csv('./data_driven_theology/ensemble_preds_most_sim_pairs_quran_and_old_testament.csv')\n",
        "corpus_emb = np.load('./data_driven_theology/mlt_quran_torah_emb.npy')\n",
        "sim_quran_torah.head(1)"
      ],
      "metadata": {
        "colab": {
          "base_uri": "https://localhost:8080/",
          "height": 246
        },
        "id": "3t8EJnK8Eous",
        "outputId": "474961e3-d6f7-4b75-afed-e27f5130cc8e"
      },
      "execution_count": 8,
      "outputs": [
        {
          "output_type": "execute_result",
          "data": {
            "text/plain": [
              "       t_citation    t_book  t_chapter  t_verse  \\\n",
              "0  Jeremiah 51:15  Jeremiah         51       15   \n",
              "\n",
              "                                                                                                                                         t_text  \\\n",
              "0  He hath made the earth by his power, he hath established the world by his wisdom, and hath stretched out the heaven by his understanding. \\n   \n",
              "\n",
              "    q_Name  q_Surah  q_Ayat  \\\n",
              "0  The Bee       16       3   \n",
              "\n",
              "                                                                                                              q_Verse  \\\n",
              "0  He hath created the heavens and the earth with truth. High be He Exalted above all that they associate (with Him).   \n",
              "\n",
              "   similarity_score  \n",
              "0                93  "
            ],
            "text/html": [
              "\n",
              "  <div id=\"df-e721f086-9d9a-4665-b942-f79b4f2c67be\">\n",
              "    <div class=\"colab-df-container\">\n",
              "      <div>\n",
              "<style scoped>\n",
              "    .dataframe tbody tr th:only-of-type {\n",
              "        vertical-align: middle;\n",
              "    }\n",
              "\n",
              "    .dataframe tbody tr th {\n",
              "        vertical-align: top;\n",
              "    }\n",
              "\n",
              "    .dataframe thead th {\n",
              "        text-align: right;\n",
              "    }\n",
              "</style>\n",
              "<table border=\"1\" class=\"dataframe\">\n",
              "  <thead>\n",
              "    <tr style=\"text-align: right;\">\n",
              "      <th></th>\n",
              "      <th>t_citation</th>\n",
              "      <th>t_book</th>\n",
              "      <th>t_chapter</th>\n",
              "      <th>t_verse</th>\n",
              "      <th>t_text</th>\n",
              "      <th>q_Name</th>\n",
              "      <th>q_Surah</th>\n",
              "      <th>q_Ayat</th>\n",
              "      <th>q_Verse</th>\n",
              "      <th>similarity_score</th>\n",
              "    </tr>\n",
              "  </thead>\n",
              "  <tbody>\n",
              "    <tr>\n",
              "      <th>0</th>\n",
              "      <td>Jeremiah 51:15</td>\n",
              "      <td>Jeremiah</td>\n",
              "      <td>51</td>\n",
              "      <td>15</td>\n",
              "      <td>He hath made the earth by his power, he hath established the world by his wisdom, and hath stretched out the heaven by his understanding. \\n</td>\n",
              "      <td>The Bee</td>\n",
              "      <td>16</td>\n",
              "      <td>3</td>\n",
              "      <td>He hath created the heavens and the earth with truth. High be He Exalted above all that they associate (with Him).</td>\n",
              "      <td>93</td>\n",
              "    </tr>\n",
              "  </tbody>\n",
              "</table>\n",
              "</div>\n",
              "      <button class=\"colab-df-convert\" onclick=\"convertToInteractive('df-e721f086-9d9a-4665-b942-f79b4f2c67be')\"\n",
              "              title=\"Convert this dataframe to an interactive table.\"\n",
              "              style=\"display:none;\">\n",
              "        \n",
              "  <svg xmlns=\"http://www.w3.org/2000/svg\" height=\"24px\"viewBox=\"0 0 24 24\"\n",
              "       width=\"24px\">\n",
              "    <path d=\"M0 0h24v24H0V0z\" fill=\"none\"/>\n",
              "    <path d=\"M18.56 5.44l.94 2.06.94-2.06 2.06-.94-2.06-.94-.94-2.06-.94 2.06-2.06.94zm-11 1L8.5 8.5l.94-2.06 2.06-.94-2.06-.94L8.5 2.5l-.94 2.06-2.06.94zm10 10l.94 2.06.94-2.06 2.06-.94-2.06-.94-.94-2.06-.94 2.06-2.06.94z\"/><path d=\"M17.41 7.96l-1.37-1.37c-.4-.4-.92-.59-1.43-.59-.52 0-1.04.2-1.43.59L10.3 9.45l-7.72 7.72c-.78.78-.78 2.05 0 2.83L4 21.41c.39.39.9.59 1.41.59.51 0 1.02-.2 1.41-.59l7.78-7.78 2.81-2.81c.8-.78.8-2.07 0-2.86zM5.41 20L4 18.59l7.72-7.72 1.47 1.35L5.41 20z\"/>\n",
              "  </svg>\n",
              "      </button>\n",
              "      \n",
              "  <style>\n",
              "    .colab-df-container {\n",
              "      display:flex;\n",
              "      flex-wrap:wrap;\n",
              "      gap: 12px;\n",
              "    }\n",
              "\n",
              "    .colab-df-convert {\n",
              "      background-color: #E8F0FE;\n",
              "      border: none;\n",
              "      border-radius: 50%;\n",
              "      cursor: pointer;\n",
              "      display: none;\n",
              "      fill: #1967D2;\n",
              "      height: 32px;\n",
              "      padding: 0 0 0 0;\n",
              "      width: 32px;\n",
              "    }\n",
              "\n",
              "    .colab-df-convert:hover {\n",
              "      background-color: #E2EBFA;\n",
              "      box-shadow: 0px 1px 2px rgba(60, 64, 67, 0.3), 0px 1px 3px 1px rgba(60, 64, 67, 0.15);\n",
              "      fill: #174EA6;\n",
              "    }\n",
              "\n",
              "    [theme=dark] .colab-df-convert {\n",
              "      background-color: #3B4455;\n",
              "      fill: #D2E3FC;\n",
              "    }\n",
              "\n",
              "    [theme=dark] .colab-df-convert:hover {\n",
              "      background-color: #434B5C;\n",
              "      box-shadow: 0px 1px 3px 1px rgba(0, 0, 0, 0.15);\n",
              "      filter: drop-shadow(0px 1px 2px rgba(0, 0, 0, 0.3));\n",
              "      fill: #FFFFFF;\n",
              "    }\n",
              "  </style>\n",
              "\n",
              "      <script>\n",
              "        const buttonEl =\n",
              "          document.querySelector('#df-e721f086-9d9a-4665-b942-f79b4f2c67be button.colab-df-convert');\n",
              "        buttonEl.style.display =\n",
              "          google.colab.kernel.accessAllowed ? 'block' : 'none';\n",
              "\n",
              "        async function convertToInteractive(key) {\n",
              "          const element = document.querySelector('#df-e721f086-9d9a-4665-b942-f79b4f2c67be');\n",
              "          const dataTable =\n",
              "            await google.colab.kernel.invokeFunction('convertToInteractive',\n",
              "                                                     [key], {});\n",
              "          if (!dataTable) return;\n",
              "\n",
              "          const docLinkHtml = 'Like what you see? Visit the ' +\n",
              "            '<a target=\"_blank\" href=https://colab.research.google.com/notebooks/data_table.ipynb>data table notebook</a>'\n",
              "            + ' to learn more about interactive tables.';\n",
              "          element.innerHTML = '';\n",
              "          dataTable['output_type'] = 'display_data';\n",
              "          await google.colab.output.renderOutput(dataTable, element);\n",
              "          const docLink = document.createElement('div');\n",
              "          docLink.innerHTML = docLinkHtml;\n",
              "          element.appendChild(docLink);\n",
              "        }\n",
              "      </script>\n",
              "    </div>\n",
              "  </div>\n",
              "  "
            ]
          },
          "metadata": {},
          "execution_count": 8
        }
      ]
    },
    {
      "cell_type": "code",
      "source": [
        "def Multilingual_Quran_Bible_Search_Engine(query,size=10,language = 'en',metric = 'dot'):\n",
        "\n",
        "    query_embedding = laser.embed_sentences(query, lang=language)\n",
        "\n",
        "    if(metric == 'dot'):\n",
        "        query_embedding = np.squeeze(np.asarray(query_embedding))\n",
        "        linear_similarities = similarity(corpus_emb, query_embedding)\n",
        "    else:\n",
        "        linear_similarities = pairwise_euclidean_dists(corpus_emb, query_embedding)\n",
        "        linear_similarities = np.squeeze(np.asarray(linear_similarities))\n",
        "        linear_similarities = np.array(linear_similarities, dtype=np.float32)\n",
        "\n",
        "    if(metric == 'dot'):\n",
        "        Top_index_doc = linear_similarities.argsort()[:-(size+1):-1]\n",
        "    else:\n",
        "        Top_index_doc = linear_similarities.argsort()[:-(size+1):]\n",
        "        Top_index_doc = Top_index_doc[:size]\n",
        "\n",
        "  \n",
        "    linear_similarities.sort()\n",
        "    find = pd.DataFrame()\n",
        "    for i,index in enumerate(Top_index_doc):\n",
        "        find.loc[i,'t_citation'] = str(sim_quran_torah['t_citation'][index])\n",
        "        find.loc[i,'t_book'] = str(sim_quran_torah['t_book'][index])\n",
        "        find.loc[i,'t_chapter'] = str(sim_quran_torah['t_chapter'][index])\n",
        "        find.loc[i,'t_verse'] = str(sim_quran_torah['t_verse'][index]) \n",
        "        find.loc[i,'t_text'] = str(sim_quran_torah['t_text'][index]) \n",
        "        \n",
        "        find.loc[i,'q_Name'] = str(sim_quran_torah['q_Name'][index])\n",
        "        find.loc[i,'q_Surah'] = str(sim_quran_torah['q_Surah'][index])\n",
        "        find.loc[i,'q_Ayat'] = str(sim_quran_torah['q_Ayat'][index])\n",
        "        find.loc[i,'q_Verse'] = str(sim_quran_torah['q_Verse'][index])\n",
        "        find.loc[i,'similarity_score'] = str(sim_quran_torah['similarity_score'][index])\n",
        "\n",
        "    for j,simScore in enumerate(linear_similarities[:-(size+1):-1]):\n",
        "        find.loc[j,'Score'] = simScore\n",
        "  \n",
        "    return find"
      ],
      "metadata": {
        "id": "VmMQd56iEsXT"
      },
      "execution_count": 9,
      "outputs": []
    },
    {
      "cell_type": "code",
      "source": [
        "%%time\n",
        "result = Multilingual_Quran_Bible_Search_Engine(\"what is calamity?\",size=2,language = 'en',metric = 'l2')"
      ],
      "metadata": {
        "colab": {
          "base_uri": "https://localhost:8080/"
        },
        "id": "PDDJ4OWtEwMr",
        "outputId": "5876dfce-6c60-4277-ab2f-d72a80e3b8bc"
      },
      "execution_count": 10,
      "outputs": [
        {
          "output_type": "stream",
          "name": "stdout",
          "text": [
            "CPU times: user 577 ms, sys: 88.1 ms, total: 665 ms\n",
            "Wall time: 1.42 s\n"
          ]
        }
      ]
    },
    {
      "cell_type": "code",
      "source": [
        "result"
      ],
      "metadata": {
        "colab": {
          "base_uri": "https://localhost:8080/",
          "height": 347
        },
        "id": "F-WzGZp_E1Bi",
        "outputId": "7929ca0e-10ff-4576-f024-d1b4d672adfc"
      },
      "execution_count": 11,
      "outputs": [
        {
          "output_type": "execute_result",
          "data": {
            "text/plain": [
              "            t_citation           t_book t_chapter t_verse  \\\n",
              "0       Proverbs 24:22         Proverbs        24      22   \n",
              "1  Song of Solomon 2:6  Song of Solomon         2       6   \n",
              "\n",
              "                                                                              t_text  \\\n",
              "0  For their calamity shall rise suddenly; and who knoweth the ruin of them both? \\n   \n",
              "1             His left hand is under my head, and his right hand doth embrace me. \\n   \n",
              "\n",
              "         q_Name q_Surah q_Ayat  \\\n",
              "0  The Calamity     101      3   \n",
              "1     The Event      56      9   \n",
              "\n",
              "                                                               q_Verse  \\\n",
              "0                 Ah, what will convey unto thee what the Calamity is!   \n",
              "1  And (then) those on the left hand; what of those on the left hand ?   \n",
              "\n",
              "  similarity_score     Score  \n",
              "0               71  0.801299  \n",
              "1               76  0.759881  "
            ],
            "text/html": [
              "\n",
              "  <div id=\"df-7bbd0ebc-7b44-49f6-b81d-45b19bbdfd90\">\n",
              "    <div class=\"colab-df-container\">\n",
              "      <div>\n",
              "<style scoped>\n",
              "    .dataframe tbody tr th:only-of-type {\n",
              "        vertical-align: middle;\n",
              "    }\n",
              "\n",
              "    .dataframe tbody tr th {\n",
              "        vertical-align: top;\n",
              "    }\n",
              "\n",
              "    .dataframe thead th {\n",
              "        text-align: right;\n",
              "    }\n",
              "</style>\n",
              "<table border=\"1\" class=\"dataframe\">\n",
              "  <thead>\n",
              "    <tr style=\"text-align: right;\">\n",
              "      <th></th>\n",
              "      <th>t_citation</th>\n",
              "      <th>t_book</th>\n",
              "      <th>t_chapter</th>\n",
              "      <th>t_verse</th>\n",
              "      <th>t_text</th>\n",
              "      <th>q_Name</th>\n",
              "      <th>q_Surah</th>\n",
              "      <th>q_Ayat</th>\n",
              "      <th>q_Verse</th>\n",
              "      <th>similarity_score</th>\n",
              "      <th>Score</th>\n",
              "    </tr>\n",
              "  </thead>\n",
              "  <tbody>\n",
              "    <tr>\n",
              "      <th>0</th>\n",
              "      <td>Proverbs 24:22</td>\n",
              "      <td>Proverbs</td>\n",
              "      <td>24</td>\n",
              "      <td>22</td>\n",
              "      <td>For their calamity shall rise suddenly; and who knoweth the ruin of them both? \\n</td>\n",
              "      <td>The Calamity</td>\n",
              "      <td>101</td>\n",
              "      <td>3</td>\n",
              "      <td>Ah, what will convey unto thee what the Calamity is!</td>\n",
              "      <td>71</td>\n",
              "      <td>0.801299</td>\n",
              "    </tr>\n",
              "    <tr>\n",
              "      <th>1</th>\n",
              "      <td>Song of Solomon 2:6</td>\n",
              "      <td>Song of Solomon</td>\n",
              "      <td>2</td>\n",
              "      <td>6</td>\n",
              "      <td>His left hand is under my head, and his right hand doth embrace me. \\n</td>\n",
              "      <td>The Event</td>\n",
              "      <td>56</td>\n",
              "      <td>9</td>\n",
              "      <td>And (then) those on the left hand; what of those on the left hand ?</td>\n",
              "      <td>76</td>\n",
              "      <td>0.759881</td>\n",
              "    </tr>\n",
              "  </tbody>\n",
              "</table>\n",
              "</div>\n",
              "      <button class=\"colab-df-convert\" onclick=\"convertToInteractive('df-7bbd0ebc-7b44-49f6-b81d-45b19bbdfd90')\"\n",
              "              title=\"Convert this dataframe to an interactive table.\"\n",
              "              style=\"display:none;\">\n",
              "        \n",
              "  <svg xmlns=\"http://www.w3.org/2000/svg\" height=\"24px\"viewBox=\"0 0 24 24\"\n",
              "       width=\"24px\">\n",
              "    <path d=\"M0 0h24v24H0V0z\" fill=\"none\"/>\n",
              "    <path d=\"M18.56 5.44l.94 2.06.94-2.06 2.06-.94-2.06-.94-.94-2.06-.94 2.06-2.06.94zm-11 1L8.5 8.5l.94-2.06 2.06-.94-2.06-.94L8.5 2.5l-.94 2.06-2.06.94zm10 10l.94 2.06.94-2.06 2.06-.94-2.06-.94-.94-2.06-.94 2.06-2.06.94z\"/><path d=\"M17.41 7.96l-1.37-1.37c-.4-.4-.92-.59-1.43-.59-.52 0-1.04.2-1.43.59L10.3 9.45l-7.72 7.72c-.78.78-.78 2.05 0 2.83L4 21.41c.39.39.9.59 1.41.59.51 0 1.02-.2 1.41-.59l7.78-7.78 2.81-2.81c.8-.78.8-2.07 0-2.86zM5.41 20L4 18.59l7.72-7.72 1.47 1.35L5.41 20z\"/>\n",
              "  </svg>\n",
              "      </button>\n",
              "      \n",
              "  <style>\n",
              "    .colab-df-container {\n",
              "      display:flex;\n",
              "      flex-wrap:wrap;\n",
              "      gap: 12px;\n",
              "    }\n",
              "\n",
              "    .colab-df-convert {\n",
              "      background-color: #E8F0FE;\n",
              "      border: none;\n",
              "      border-radius: 50%;\n",
              "      cursor: pointer;\n",
              "      display: none;\n",
              "      fill: #1967D2;\n",
              "      height: 32px;\n",
              "      padding: 0 0 0 0;\n",
              "      width: 32px;\n",
              "    }\n",
              "\n",
              "    .colab-df-convert:hover {\n",
              "      background-color: #E2EBFA;\n",
              "      box-shadow: 0px 1px 2px rgba(60, 64, 67, 0.3), 0px 1px 3px 1px rgba(60, 64, 67, 0.15);\n",
              "      fill: #174EA6;\n",
              "    }\n",
              "\n",
              "    [theme=dark] .colab-df-convert {\n",
              "      background-color: #3B4455;\n",
              "      fill: #D2E3FC;\n",
              "    }\n",
              "\n",
              "    [theme=dark] .colab-df-convert:hover {\n",
              "      background-color: #434B5C;\n",
              "      box-shadow: 0px 1px 3px 1px rgba(0, 0, 0, 0.15);\n",
              "      filter: drop-shadow(0px 1px 2px rgba(0, 0, 0, 0.3));\n",
              "      fill: #FFFFFF;\n",
              "    }\n",
              "  </style>\n",
              "\n",
              "      <script>\n",
              "        const buttonEl =\n",
              "          document.querySelector('#df-7bbd0ebc-7b44-49f6-b81d-45b19bbdfd90 button.colab-df-convert');\n",
              "        buttonEl.style.display =\n",
              "          google.colab.kernel.accessAllowed ? 'block' : 'none';\n",
              "\n",
              "        async function convertToInteractive(key) {\n",
              "          const element = document.querySelector('#df-7bbd0ebc-7b44-49f6-b81d-45b19bbdfd90');\n",
              "          const dataTable =\n",
              "            await google.colab.kernel.invokeFunction('convertToInteractive',\n",
              "                                                     [key], {});\n",
              "          if (!dataTable) return;\n",
              "\n",
              "          const docLinkHtml = 'Like what you see? Visit the ' +\n",
              "            '<a target=\"_blank\" href=https://colab.research.google.com/notebooks/data_table.ipynb>data table notebook</a>'\n",
              "            + ' to learn more about interactive tables.';\n",
              "          element.innerHTML = '';\n",
              "          dataTable['output_type'] = 'display_data';\n",
              "          await google.colab.output.renderOutput(dataTable, element);\n",
              "          const docLink = document.createElement('div');\n",
              "          docLink.innerHTML = docLinkHtml;\n",
              "          element.appendChild(docLink);\n",
              "        }\n",
              "      </script>\n",
              "    </div>\n",
              "  </div>\n",
              "  "
            ]
          },
          "metadata": {},
          "execution_count": 11
        }
      ]
    },
    {
      "cell_type": "code",
      "source": [
        "%%time\n",
        "\n",
        "result = Multilingual_Quran_Bible_Search_Engine(\"খারাপ জিনিস\",size=5,language = 'bn',metric = 'l2')\n",
        "result"
      ],
      "metadata": {
        "colab": {
          "base_uri": "https://localhost:8080/",
          "height": 945
        },
        "id": "wkHkjmD9E7EY",
        "outputId": "828a3851-763b-4436-9061-ab1194dfb351"
      },
      "execution_count": 12,
      "outputs": [
        {
          "output_type": "stream",
          "name": "stdout",
          "text": [
            "CPU times: user 57.1 ms, sys: 28.9 ms, total: 86.1 ms\n",
            "Wall time: 95.4 ms\n"
          ]
        },
        {
          "output_type": "execute_result",
          "data": {
            "text/plain": [
              "       t_citation    t_book t_chapter t_verse  \\\n",
              "0  Proverbs 24:22  Proverbs        24      22   \n",
              "1    Psalms 37:38    Psalms        37      38   \n",
              "2  Proverbs 21:18  Proverbs        21      18   \n",
              "3    Psalms 35:12    Psalms        35      12   \n",
              "4   Numbers 19:22   Numbers        19      22   \n",
              "\n",
              "                                                                                                                       t_text  \\\n",
              "0                                           For their calamity shall rise suddenly; and who knoweth the ruin of them both? \\n   \n",
              "1                               But the transgressors shall be destroyed together: the end of the wicked shall be cut off. \\n   \n",
              "2                                    The wicked shall be a ransom for the righteous, and the transgressor for the upright. \\n   \n",
              "3                                                               They rewarded me evil for good to the spoiling of my soul. \\n   \n",
              "4  And whatsoever the unclean person toucheth shall be unclean; and the soul that toucheth it shall be unclean until even. \\n   \n",
              "\n",
              "         q_Name q_Surah q_Ayat  \\\n",
              "0  The Calamity     101      3   \n",
              "1           Sâd      38     55   \n",
              "2           Sâd      38     55   \n",
              "3   The Tidings      78     26   \n",
              "4     The Event      56     79   \n",
              "\n",
              "                                                                                           q_Verse  \\\n",
              "0                                             Ah, what will convey unto thee what the Calamity is!   \n",
              "1  This (is for the righteous). And lo! for the transgressors there with be an evil journey’s end,   \n",
              "2  This (is for the righteous). And lo! for the transgressors there with be an evil journey’s end,   \n",
              "3                                                       Reward proportioned (to their evil deeds).   \n",
              "4                                                           Which none toucheth save the purified,   \n",
              "\n",
              "  similarity_score     Score  \n",
              "0               71  0.808398  \n",
              "1               71  0.803452  \n",
              "2               71  0.781635  \n",
              "3               76  0.780270  \n",
              "4               71  0.741315  "
            ],
            "text/html": [
              "\n",
              "  <div id=\"df-8b8b82f9-bff2-4fbe-91e9-2c5aa23b4016\">\n",
              "    <div class=\"colab-df-container\">\n",
              "      <div>\n",
              "<style scoped>\n",
              "    .dataframe tbody tr th:only-of-type {\n",
              "        vertical-align: middle;\n",
              "    }\n",
              "\n",
              "    .dataframe tbody tr th {\n",
              "        vertical-align: top;\n",
              "    }\n",
              "\n",
              "    .dataframe thead th {\n",
              "        text-align: right;\n",
              "    }\n",
              "</style>\n",
              "<table border=\"1\" class=\"dataframe\">\n",
              "  <thead>\n",
              "    <tr style=\"text-align: right;\">\n",
              "      <th></th>\n",
              "      <th>t_citation</th>\n",
              "      <th>t_book</th>\n",
              "      <th>t_chapter</th>\n",
              "      <th>t_verse</th>\n",
              "      <th>t_text</th>\n",
              "      <th>q_Name</th>\n",
              "      <th>q_Surah</th>\n",
              "      <th>q_Ayat</th>\n",
              "      <th>q_Verse</th>\n",
              "      <th>similarity_score</th>\n",
              "      <th>Score</th>\n",
              "    </tr>\n",
              "  </thead>\n",
              "  <tbody>\n",
              "    <tr>\n",
              "      <th>0</th>\n",
              "      <td>Proverbs 24:22</td>\n",
              "      <td>Proverbs</td>\n",
              "      <td>24</td>\n",
              "      <td>22</td>\n",
              "      <td>For their calamity shall rise suddenly; and who knoweth the ruin of them both? \\n</td>\n",
              "      <td>The Calamity</td>\n",
              "      <td>101</td>\n",
              "      <td>3</td>\n",
              "      <td>Ah, what will convey unto thee what the Calamity is!</td>\n",
              "      <td>71</td>\n",
              "      <td>0.808398</td>\n",
              "    </tr>\n",
              "    <tr>\n",
              "      <th>1</th>\n",
              "      <td>Psalms 37:38</td>\n",
              "      <td>Psalms</td>\n",
              "      <td>37</td>\n",
              "      <td>38</td>\n",
              "      <td>But the transgressors shall be destroyed together: the end of the wicked shall be cut off. \\n</td>\n",
              "      <td>Sâd</td>\n",
              "      <td>38</td>\n",
              "      <td>55</td>\n",
              "      <td>This (is for the righteous). And lo! for the transgressors there with be an evil journey’s end,</td>\n",
              "      <td>71</td>\n",
              "      <td>0.803452</td>\n",
              "    </tr>\n",
              "    <tr>\n",
              "      <th>2</th>\n",
              "      <td>Proverbs 21:18</td>\n",
              "      <td>Proverbs</td>\n",
              "      <td>21</td>\n",
              "      <td>18</td>\n",
              "      <td>The wicked shall be a ransom for the righteous, and the transgressor for the upright. \\n</td>\n",
              "      <td>Sâd</td>\n",
              "      <td>38</td>\n",
              "      <td>55</td>\n",
              "      <td>This (is for the righteous). And lo! for the transgressors there with be an evil journey’s end,</td>\n",
              "      <td>71</td>\n",
              "      <td>0.781635</td>\n",
              "    </tr>\n",
              "    <tr>\n",
              "      <th>3</th>\n",
              "      <td>Psalms 35:12</td>\n",
              "      <td>Psalms</td>\n",
              "      <td>35</td>\n",
              "      <td>12</td>\n",
              "      <td>They rewarded me evil for good to the spoiling of my soul. \\n</td>\n",
              "      <td>The Tidings</td>\n",
              "      <td>78</td>\n",
              "      <td>26</td>\n",
              "      <td>Reward proportioned (to their evil deeds).</td>\n",
              "      <td>76</td>\n",
              "      <td>0.780270</td>\n",
              "    </tr>\n",
              "    <tr>\n",
              "      <th>4</th>\n",
              "      <td>Numbers 19:22</td>\n",
              "      <td>Numbers</td>\n",
              "      <td>19</td>\n",
              "      <td>22</td>\n",
              "      <td>And whatsoever the unclean person toucheth shall be unclean; and the soul that toucheth it shall be unclean until even. \\n</td>\n",
              "      <td>The Event</td>\n",
              "      <td>56</td>\n",
              "      <td>79</td>\n",
              "      <td>Which none toucheth save the purified,</td>\n",
              "      <td>71</td>\n",
              "      <td>0.741315</td>\n",
              "    </tr>\n",
              "  </tbody>\n",
              "</table>\n",
              "</div>\n",
              "      <button class=\"colab-df-convert\" onclick=\"convertToInteractive('df-8b8b82f9-bff2-4fbe-91e9-2c5aa23b4016')\"\n",
              "              title=\"Convert this dataframe to an interactive table.\"\n",
              "              style=\"display:none;\">\n",
              "        \n",
              "  <svg xmlns=\"http://www.w3.org/2000/svg\" height=\"24px\"viewBox=\"0 0 24 24\"\n",
              "       width=\"24px\">\n",
              "    <path d=\"M0 0h24v24H0V0z\" fill=\"none\"/>\n",
              "    <path d=\"M18.56 5.44l.94 2.06.94-2.06 2.06-.94-2.06-.94-.94-2.06-.94 2.06-2.06.94zm-11 1L8.5 8.5l.94-2.06 2.06-.94-2.06-.94L8.5 2.5l-.94 2.06-2.06.94zm10 10l.94 2.06.94-2.06 2.06-.94-2.06-.94-.94-2.06-.94 2.06-2.06.94z\"/><path d=\"M17.41 7.96l-1.37-1.37c-.4-.4-.92-.59-1.43-.59-.52 0-1.04.2-1.43.59L10.3 9.45l-7.72 7.72c-.78.78-.78 2.05 0 2.83L4 21.41c.39.39.9.59 1.41.59.51 0 1.02-.2 1.41-.59l7.78-7.78 2.81-2.81c.8-.78.8-2.07 0-2.86zM5.41 20L4 18.59l7.72-7.72 1.47 1.35L5.41 20z\"/>\n",
              "  </svg>\n",
              "      </button>\n",
              "      \n",
              "  <style>\n",
              "    .colab-df-container {\n",
              "      display:flex;\n",
              "      flex-wrap:wrap;\n",
              "      gap: 12px;\n",
              "    }\n",
              "\n",
              "    .colab-df-convert {\n",
              "      background-color: #E8F0FE;\n",
              "      border: none;\n",
              "      border-radius: 50%;\n",
              "      cursor: pointer;\n",
              "      display: none;\n",
              "      fill: #1967D2;\n",
              "      height: 32px;\n",
              "      padding: 0 0 0 0;\n",
              "      width: 32px;\n",
              "    }\n",
              "\n",
              "    .colab-df-convert:hover {\n",
              "      background-color: #E2EBFA;\n",
              "      box-shadow: 0px 1px 2px rgba(60, 64, 67, 0.3), 0px 1px 3px 1px rgba(60, 64, 67, 0.15);\n",
              "      fill: #174EA6;\n",
              "    }\n",
              "\n",
              "    [theme=dark] .colab-df-convert {\n",
              "      background-color: #3B4455;\n",
              "      fill: #D2E3FC;\n",
              "    }\n",
              "\n",
              "    [theme=dark] .colab-df-convert:hover {\n",
              "      background-color: #434B5C;\n",
              "      box-shadow: 0px 1px 3px 1px rgba(0, 0, 0, 0.15);\n",
              "      filter: drop-shadow(0px 1px 2px rgba(0, 0, 0, 0.3));\n",
              "      fill: #FFFFFF;\n",
              "    }\n",
              "  </style>\n",
              "\n",
              "      <script>\n",
              "        const buttonEl =\n",
              "          document.querySelector('#df-8b8b82f9-bff2-4fbe-91e9-2c5aa23b4016 button.colab-df-convert');\n",
              "        buttonEl.style.display =\n",
              "          google.colab.kernel.accessAllowed ? 'block' : 'none';\n",
              "\n",
              "        async function convertToInteractive(key) {\n",
              "          const element = document.querySelector('#df-8b8b82f9-bff2-4fbe-91e9-2c5aa23b4016');\n",
              "          const dataTable =\n",
              "            await google.colab.kernel.invokeFunction('convertToInteractive',\n",
              "                                                     [key], {});\n",
              "          if (!dataTable) return;\n",
              "\n",
              "          const docLinkHtml = 'Like what you see? Visit the ' +\n",
              "            '<a target=\"_blank\" href=https://colab.research.google.com/notebooks/data_table.ipynb>data table notebook</a>'\n",
              "            + ' to learn more about interactive tables.';\n",
              "          element.innerHTML = '';\n",
              "          dataTable['output_type'] = 'display_data';\n",
              "          await google.colab.output.renderOutput(dataTable, element);\n",
              "          const docLink = document.createElement('div');\n",
              "          docLink.innerHTML = docLinkHtml;\n",
              "          element.appendChild(docLink);\n",
              "        }\n",
              "      </script>\n",
              "    </div>\n",
              "  </div>\n",
              "  "
            ]
          },
          "metadata": {},
          "execution_count": 12
        }
      ]
    },
    {
      "cell_type": "code",
      "source": [],
      "metadata": {
        "id": "LA_A6qhMHrnu"
      },
      "execution_count": 12,
      "outputs": []
    }
  ]
}
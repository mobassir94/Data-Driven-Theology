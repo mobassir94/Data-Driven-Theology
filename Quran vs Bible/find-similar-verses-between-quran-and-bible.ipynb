{
 "cells": [
  {
   "cell_type": "code",
   "execution_count": 1,
   "id": "c6a2dc7c",
   "metadata": {
    "_cell_guid": "b1076dfc-b9ad-4769-8c92-a6c4dae69d19",
    "_uuid": "8f2839f25d086af736a60e9eeb907d3b93b6e0e5",
    "execution": {
     "iopub.execute_input": "2022-09-03T16:29:20.194249Z",
     "iopub.status.busy": "2022-09-03T16:29:20.193821Z",
     "iopub.status.idle": "2022-09-03T16:29:20.217039Z",
     "shell.execute_reply": "2022-09-03T16:29:20.216131Z"
    },
    "papermill": {
     "duration": 0.035753,
     "end_time": "2022-09-03T16:29:20.220408",
     "exception": false,
     "start_time": "2022-09-03T16:29:20.184655",
     "status": "completed"
    },
    "tags": []
   },
   "outputs": [
    {
     "name": "stdout",
     "output_type": "stream",
     "text": [
      "/kaggle/input/quran-vs-bible/all-MiniLM-L12-v2_similarities_between_quran_and_torah.csv\n",
      "/kaggle/input/quran-vs-bible/msmarco_similarities_between_quran_and_torah.csv\n",
      "/kaggle/input/quran-vs-bible/google_USE_similarities_between_quran_and_torah.csv\n",
      "/kaggle/input/quran-vs-bible/MiniLM_L6_similarities_between_quran_and_torah.csv\n",
      "/kaggle/input/quran-vs-bible/mpnet_v2_similarities_between_quran_and_torah.csv\n"
     ]
    }
   ],
   "source": [
    "# This Python 3 environment comes with many helpful analytics libraries installed\n",
    "# It is defined by the kaggle/python Docker image: https://github.com/kaggle/docker-python\n",
    "# For example, here's several helpful packages to load\n",
    "\n",
    "import numpy as np # linear algebra\n",
    "import pandas as pd # data processing, CSV file I/O (e.g. pd.read_csv)\n",
    "\n",
    "# Input data files are available in the read-only \"../input/\" directory\n",
    "# For example, running this (by clicking run or pressing Shift+Enter) will list all files under the input directory\n",
    "pd.set_option('display.max_colwidth', None)\n",
    "import os\n",
    "for dirname, _, filenames in os.walk('/kaggle/input'):\n",
    "    for filename in filenames:\n",
    "        print(os.path.join(dirname, filename))\n",
    "\n",
    "# You can write up to 20GB to the current directory (/kaggle/working/) that gets preserved as output when you create a version using \"Save & Run All\" \n",
    "# You can also write temporary files to /kaggle/temp/, but they won't be saved outside of the current session"
   ]
  },
  {
   "cell_type": "markdown",
   "id": "bc7748e2",
   "metadata": {
    "papermill": {
     "duration": 0.005704,
     "end_time": "2022-09-03T16:29:20.233417",
     "exception": false,
     "start_time": "2022-09-03T16:29:20.227713",
     "status": "completed"
    },
    "tags": []
   },
   "source": [
    "in this notebook we will be using this dataset [Quran vs Torah](https://www.kaggle.com/datasets/mobassir/quran-vs-bible)\n",
    "\n",
    "we will use these 5 datasets,\n",
    "\n",
    "1. all-MiniLM-L12-v2_similarities_between_quran_and_torah.csv\n",
    "\n",
    "2. msmarco_similarities_between_quran_and_torah.csv\n",
    "\n",
    "3. google_USE_similarities_between_quran_and_torah.csv\n",
    "\n",
    "4. MiniLM_L6_similarities_between_quran_and_torah.csv\n",
    "\n",
    "5. mpnet_v2_similarities_between_quran_and_torah.csv"
   ]
  },
  {
   "cell_type": "markdown",
   "id": "44da0e8c",
   "metadata": {
    "papermill": {
     "duration": 0.005548,
     "end_time": "2022-09-03T16:29:20.244863",
     "exception": false,
     "start_time": "2022-09-03T16:29:20.239315",
     "status": "completed"
    },
    "tags": []
   },
   "source": [
    "the idea of this notebook is similar to ensemble approach. we pick the verses pairs from each dataframe with highest confident score (we take the decision based on histogram score distribution), then we merge all the filtered dataset and drop duplicates except first. then we sort the final filtered dataset and save that dataset for next level research."
   ]
  },
  {
   "cell_type": "code",
   "execution_count": 2,
   "id": "d681799f",
   "metadata": {
    "execution": {
     "iopub.execute_input": "2022-09-03T16:29:20.258840Z",
     "iopub.status.busy": "2022-09-03T16:29:20.258117Z",
     "iopub.status.idle": "2022-09-03T16:29:21.374837Z",
     "shell.execute_reply": "2022-09-03T16:29:21.373560Z"
    },
    "papermill": {
     "duration": 1.126801,
     "end_time": "2022-09-03T16:29:21.377546",
     "exception": false,
     "start_time": "2022-09-03T16:29:20.250745",
     "status": "completed"
    },
    "tags": []
   },
   "outputs": [],
   "source": [
    "minilml12 = pd.read_csv('/kaggle/input/quran-vs-bible/all-MiniLM-L12-v2_similarities_between_quran_and_torah.csv')\n",
    "msmarco = pd.read_csv('/kaggle/input/quran-vs-bible/msmarco_similarities_between_quran_and_torah.csv')\n",
    "use = pd.read_csv('/kaggle/input/quran-vs-bible/google_USE_similarities_between_quran_and_torah.csv')\n",
    "minilml6 = pd.read_csv('/kaggle/input/quran-vs-bible/MiniLM_L6_similarities_between_quran_and_torah.csv')\n",
    "mpnetv2 = pd.read_csv('/kaggle/input/quran-vs-bible/mpnet_v2_similarities_between_quran_and_torah.csv')"
   ]
  },
  {
   "cell_type": "code",
   "execution_count": 3,
   "id": "1eef5d82",
   "metadata": {
    "execution": {
     "iopub.execute_input": "2022-09-03T16:29:21.391618Z",
     "iopub.status.busy": "2022-09-03T16:29:21.391209Z",
     "iopub.status.idle": "2022-09-03T16:29:21.412904Z",
     "shell.execute_reply": "2022-09-03T16:29:21.411736Z"
    },
    "papermill": {
     "duration": 0.03175,
     "end_time": "2022-09-03T16:29:21.415461",
     "exception": false,
     "start_time": "2022-09-03T16:29:21.383711",
     "status": "completed"
    },
    "tags": []
   },
   "outputs": [],
   "source": [
    "minilml12['similarity_score'] = minilml12['similarity_score'] * 100\n",
    "minilml12['similarity_score'] =minilml12['similarity_score'].astype(int)\n",
    "msmarco['similarity_score'] = msmarco['similarity_score'] * 100\n",
    "msmarco['similarity_score'] =msmarco['similarity_score'].astype(int)\n",
    "use['similarity_score'] = use['similarity_score'] * 100\n",
    "use['similarity_score'] =use['similarity_score'].astype(int)\n",
    "minilml6['similarity_score'] = minilml6['similarity_score'] * 100\n",
    "minilml6['similarity_score'] =minilml6['similarity_score'].astype(int)\n",
    "mpnetv2['similarity_score'] = mpnetv2['similarity_score'] * 100\n",
    "mpnetv2['similarity_score'] =mpnetv2['similarity_score'].astype(int)"
   ]
  },
  {
   "cell_type": "code",
   "execution_count": 4,
   "id": "f17dea2d",
   "metadata": {
    "execution": {
     "iopub.execute_input": "2022-09-03T16:29:21.429319Z",
     "iopub.status.busy": "2022-09-03T16:29:21.428920Z",
     "iopub.status.idle": "2022-09-03T16:29:21.722723Z",
     "shell.execute_reply": "2022-09-03T16:29:21.721231Z"
    },
    "papermill": {
     "duration": 0.303784,
     "end_time": "2022-09-03T16:29:21.725395",
     "exception": false,
     "start_time": "2022-09-03T16:29:21.421611",
     "status": "completed"
    },
    "tags": []
   },
   "outputs": [
    {
     "data": {
      "image/png": "[encoded data removed]",
      "text/plain": [
       "<Figure size 432x288 with 1 Axes>"
      ]
     },
     "metadata": {
      "needs_background": "light"
     },
     "output_type": "display_data"
    }
   ],
   "source": [
    "minilml12['similarity_score'].hist()\n",
    "\n",
    "top_minilml12 = minilml12[minilml12['similarity_score']>75]"
   ]
  },
  {
   "cell_type": "code",
   "execution_count": 5,
   "id": "9a88e10d",
   "metadata": {
    "execution": {
     "iopub.execute_input": "2022-09-03T16:29:21.739633Z",
     "iopub.status.busy": "2022-09-03T16:29:21.739242Z",
     "iopub.status.idle": "2022-09-03T16:29:21.966504Z",
     "shell.execute_reply": "2022-09-03T16:29:21.965256Z"
    },
    "papermill": {
     "duration": 0.23724,
     "end_time": "2022-09-03T16:29:21.969013",
     "exception": false,
     "start_time": "2022-09-03T16:29:21.731773",
     "status": "completed"
    },
    "tags": []
   },
   "outputs": [
    {
     "data": {
      "image/png": "[encoded data removed]",
      "text/plain": [
       "<Figure size 432x288 with 1 Axes>"
      ]
     },
     "metadata": {
      "needs_background": "light"
     },
     "output_type": "display_data"
    }
   ],
   "source": [
    "msmarco['similarity_score'].hist()\n",
    "\n",
    "top_msmarco = msmarco[msmarco['similarity_score']>88]"
   ]
  },
  {
   "cell_type": "code",
   "execution_count": 6,
   "id": "5e951248",
   "metadata": {
    "execution": {
     "iopub.execute_input": "2022-09-03T16:29:21.984488Z",
     "iopub.status.busy": "2022-09-03T16:29:21.983774Z",
     "iopub.status.idle": "2022-09-03T16:29:22.226086Z",
     "shell.execute_reply": "2022-09-03T16:29:22.224905Z"
    },
    "papermill": {
     "duration": 0.253679,
     "end_time": "2022-09-03T16:29:22.229094",
     "exception": false,
     "start_time": "2022-09-03T16:29:21.975415",
     "status": "completed"
    },
    "tags": []
   },
   "outputs": [
    {
     "data": {
      "image/png": "[encoded data removed]",
      "text/plain": [
       "<Figure size 432x288 with 1 Axes>"
      ]
     },
     "metadata": {
      "needs_background": "light"
     },
     "output_type": "display_data"
    }
   ],
   "source": [
    "use['similarity_score'].hist()\n",
    "\n",
    "top_use = use[use['similarity_score']>60]"
   ]
  },
  {
   "cell_type": "code",
   "execution_count": 7,
   "id": "4ef17813",
   "metadata": {
    "execution": {
     "iopub.execute_input": "2022-09-03T16:29:22.244083Z",
     "iopub.status.busy": "2022-09-03T16:29:22.243654Z",
     "iopub.status.idle": "2022-09-03T16:29:22.493909Z",
     "shell.execute_reply": "2022-09-03T16:29:22.492708Z"
    },
    "papermill": {
     "duration": 0.261196,
     "end_time": "2022-09-03T16:29:22.496856",
     "exception": false,
     "start_time": "2022-09-03T16:29:22.235660",
     "status": "completed"
    },
    "tags": []
   },
   "outputs": [
    {
     "data": {
      "image/png": "[encoded data removed]",
      "text/plain": [
       "<Figure size 432x288 with 1 Axes>"
      ]
     },
     "metadata": {
      "needs_background": "light"
     },
     "output_type": "display_data"
    }
   ],
   "source": [
    "minilml6['similarity_score'].hist()\n",
    "\n",
    "top_minilml6 = minilml6[minilml6['similarity_score']>70]"
   ]
  },
  {
   "cell_type": "code",
   "execution_count": 8,
   "id": "f141b5b1",
   "metadata": {
    "execution": {
     "iopub.execute_input": "2022-09-03T16:29:22.513090Z",
     "iopub.status.busy": "2022-09-03T16:29:22.512637Z",
     "iopub.status.idle": "2022-09-03T16:29:22.759469Z",
     "shell.execute_reply": "2022-09-03T16:29:22.758072Z"
    },
    "papermill": {
     "duration": 0.258258,
     "end_time": "2022-09-03T16:29:22.762437",
     "exception": false,
     "start_time": "2022-09-03T16:29:22.504179",
     "status": "completed"
    },
    "tags": []
   },
   "outputs": [
    {
     "data": {
      "image/png": "[encoded data removed]",
      "text/plain": [
       "<Figure size 432x288 with 1 Axes>"
      ]
     },
     "metadata": {
      "needs_background": "light"
     },
     "output_type": "display_data"
    }
   ],
   "source": [
    "mpnetv2['similarity_score'].hist()\n",
    "\n",
    "top_mpnetv2 = mpnetv2[mpnetv2['similarity_score']>70]"
   ]
  },
  {
   "cell_type": "code",
   "execution_count": 9,
   "id": "a08d45a5",
   "metadata": {
    "execution": {
     "iopub.execute_input": "2022-09-03T16:29:22.778757Z",
     "iopub.status.busy": "2022-09-03T16:29:22.778318Z",
     "iopub.status.idle": "2022-09-03T16:29:22.786768Z",
     "shell.execute_reply": "2022-09-03T16:29:22.785604Z"
    },
    "papermill": {
     "duration": 0.01939,
     "end_time": "2022-09-03T16:29:22.789148",
     "exception": false,
     "start_time": "2022-09-03T16:29:22.769758",
     "status": "completed"
    },
    "tags": []
   },
   "outputs": [],
   "source": [
    "top_minilml12 = top_minilml12.reset_index(drop=True)\n",
    "top_msmarco = top_msmarco.reset_index(drop=True)\n",
    "top_use = top_use.reset_index(drop=True)\n",
    "top_minilml6 = top_minilml6.reset_index(drop=True)\n",
    "top_mpnetv2 = top_mpnetv2.reset_index(drop=True)"
   ]
  },
  {
   "cell_type": "code",
   "execution_count": 10,
   "id": "7315a6eb",
   "metadata": {
    "execution": {
     "iopub.execute_input": "2022-09-03T16:29:22.805194Z",
     "iopub.status.busy": "2022-09-03T16:29:22.804780Z",
     "iopub.status.idle": "2022-09-03T16:29:22.814163Z",
     "shell.execute_reply": "2022-09-03T16:29:22.813009Z"
    },
    "papermill": {
     "duration": 0.020202,
     "end_time": "2022-09-03T16:29:22.816665",
     "exception": false,
     "start_time": "2022-09-03T16:29:22.796463",
     "status": "completed"
    },
    "tags": []
   },
   "outputs": [
    {
     "data": {
      "text/plain": [
       "(4950, 1845, 758, 371, 1217)"
      ]
     },
     "execution_count": 10,
     "metadata": {},
     "output_type": "execute_result"
    }
   ],
   "source": [
    "len(top_minilml12), len(top_msmarco), len(top_use), len(top_minilml6), len(top_mpnetv2)"
   ]
  },
  {
   "cell_type": "code",
   "execution_count": 11,
   "id": "c970c1fe",
   "metadata": {
    "execution": {
     "iopub.execute_input": "2022-09-03T16:29:22.832469Z",
     "iopub.status.busy": "2022-09-03T16:29:22.832078Z",
     "iopub.status.idle": "2022-09-03T16:29:22.847861Z",
     "shell.execute_reply": "2022-09-03T16:29:22.846729Z"
    },
    "papermill": {
     "duration": 0.026667,
     "end_time": "2022-09-03T16:29:22.850461",
     "exception": false,
     "start_time": "2022-09-03T16:29:22.823794",
     "status": "completed"
    },
    "tags": []
   },
   "outputs": [],
   "source": [
    "merged_df = pd.concat([top_minilml12,top_msmarco,top_use,top_minilml6,top_mpnetv2],ignore_index=True)\n",
    "merged_df = merged_df.reset_index(drop=True)"
   ]
  },
  {
   "cell_type": "code",
   "execution_count": 12,
   "id": "69817ff6",
   "metadata": {
    "execution": {
     "iopub.execute_input": "2022-09-03T16:29:22.866946Z",
     "iopub.status.busy": "2022-09-03T16:29:22.866526Z",
     "iopub.status.idle": "2022-09-03T16:29:22.873823Z",
     "shell.execute_reply": "2022-09-03T16:29:22.872658Z"
    },
    "papermill": {
     "duration": 0.018028,
     "end_time": "2022-09-03T16:29:22.876340",
     "exception": false,
     "start_time": "2022-09-03T16:29:22.858312",
     "status": "completed"
    },
    "tags": []
   },
   "outputs": [
    {
     "data": {
      "text/plain": [
       "9141"
      ]
     },
     "execution_count": 12,
     "metadata": {},
     "output_type": "execute_result"
    }
   ],
   "source": [
    "len(merged_df)"
   ]
  },
  {
   "cell_type": "code",
   "execution_count": 13,
   "id": "08c6e3f7",
   "metadata": {
    "execution": {
     "iopub.execute_input": "2022-09-03T16:29:22.893197Z",
     "iopub.status.busy": "2022-09-03T16:29:22.892193Z",
     "iopub.status.idle": "2022-09-03T16:29:22.918225Z",
     "shell.execute_reply": "2022-09-03T16:29:22.917235Z"
    },
    "papermill": {
     "duration": 0.037089,
     "end_time": "2022-09-03T16:29:22.920919",
     "exception": false,
     "start_time": "2022-09-03T16:29:22.883830",
     "status": "completed"
    },
    "tags": []
   },
   "outputs": [],
   "source": [
    "merged_df = merged_df.drop_duplicates( keep='first')\n"
   ]
  },
  {
   "cell_type": "code",
   "execution_count": 14,
   "id": "d9e2dd63",
   "metadata": {
    "execution": {
     "iopub.execute_input": "2022-09-03T16:29:22.937997Z",
     "iopub.status.busy": "2022-09-03T16:29:22.937030Z",
     "iopub.status.idle": "2022-09-03T16:29:23.072394Z",
     "shell.execute_reply": "2022-09-03T16:29:23.071308Z"
    },
    "papermill": {
     "duration": 0.14728,
     "end_time": "2022-09-03T16:29:23.075360",
     "exception": false,
     "start_time": "2022-09-03T16:29:22.928080",
     "status": "completed"
    },
    "tags": []
   },
   "outputs": [
    {
     "data": {
      "text/html": [
       "<div>\n",
       "<style scoped>\n",
       "    .dataframe tbody tr th:only-of-type {\n",
       "        vertical-align: middle;\n",
       "    }\n",
       "\n",
       "    .dataframe tbody tr th {\n",
       "        vertical-align: top;\n",
       "    }\n",
       "\n",
       "    .dataframe thead th {\n",
       "        text-align: right;\n",
       "    }\n",
       "</style>\n",
       "<table border=\"1\" class=\"dataframe\">\n",
       "  <thead>\n",
       "    <tr style=\"text-align: right;\">\n",
       "      <th></th>\n",
       "      <th>t_citation</th>\n",
       "      <th>t_book</th>\n",
       "      <th>t_chapter</th>\n",
       "      <th>t_verse</th>\n",
       "      <th>t_text</th>\n",
       "      <th>q_Name</th>\n",
       "      <th>q_Surah</th>\n",
       "      <th>q_Ayat</th>\n",
       "      <th>q_Verse</th>\n",
       "      <th>similarity_score</th>\n",
       "    </tr>\n",
       "  </thead>\n",
       "  <tbody>\n",
       "    <tr>\n",
       "      <th>0</th>\n",
       "      <td>Exodus 7:6</td>\n",
       "      <td>Exodus</td>\n",
       "      <td>7</td>\n",
       "      <td>6</td>\n",
       "      <td>And Moses and Aaron did as the LORD commanded them, so did they. \\n</td>\n",
       "      <td>The Poets</td>\n",
       "      <td>26</td>\n",
       "      <td>48</td>\n",
       "      <td>The Lord of Moses and Aaron.</td>\n",
       "      <td>89</td>\n",
       "    </tr>\n",
       "    <tr>\n",
       "      <th>1</th>\n",
       "      <td>Exodus 2:15</td>\n",
       "      <td>Exodus</td>\n",
       "      <td>2</td>\n",
       "      <td>15</td>\n",
       "      <td>Now when Pharaoh heard this thing, he sought to slay Moses. But Moses fled from the face of Pharaoh, and dwelt in the land of Midian: and he sat down by a well. \\n</td>\n",
       "      <td>The Believer</td>\n",
       "      <td>40</td>\n",
       "      <td>26</td>\n",
       "      <td>And Pharaoh said: Suffer me to kill Moses, and let him cry unto his Lord. Lo! I fear that he will alter your religion or that he will cause confusion in the land.</td>\n",
       "      <td>88</td>\n",
       "    </tr>\n",
       "  </tbody>\n",
       "</table>\n",
       "</div>"
      ],
      "text/plain": [
       "    t_citation  t_book  t_chapter  t_verse  \\\n",
       "0   Exodus 7:6  Exodus          7        6   \n",
       "1  Exodus 2:15  Exodus          2       15   \n",
       "\n",
       "                                                                                                                                                                t_text  \\\n",
       "0                                                                                                  And Moses and Aaron did as the LORD commanded them, so did they. \\n   \n",
       "1  Now when Pharaoh heard this thing, he sought to slay Moses. But Moses fled from the face of Pharaoh, and dwelt in the land of Midian: and he sat down by a well. \\n   \n",
       "\n",
       "         q_Name  q_Surah  q_Ayat  \\\n",
       "0     The Poets       26      48   \n",
       "1  The Believer       40      26   \n",
       "\n",
       "                                                                                                                                                              q_Verse  \\\n",
       "0                                                                                                                                        The Lord of Moses and Aaron.   \n",
       "1  And Pharaoh said: Suffer me to kill Moses, and let him cry unto his Lord. Lo! I fear that he will alter your religion or that he will cause confusion in the land.   \n",
       "\n",
       "   similarity_score  \n",
       "0                89  \n",
       "1                88  "
      ]
     },
     "execution_count": 14,
     "metadata": {},
     "output_type": "execute_result"
    }
   ],
   "source": [
    "merged_df.head(2)"
   ]
  },
  {
   "cell_type": "code",
   "execution_count": 15,
   "id": "7ecb64fb",
   "metadata": {
    "execution": {
     "iopub.execute_input": "2022-09-03T16:29:23.092223Z",
     "iopub.status.busy": "2022-09-03T16:29:23.091466Z",
     "iopub.status.idle": "2022-09-03T16:29:23.100340Z",
     "shell.execute_reply": "2022-09-03T16:29:23.099181Z"
    },
    "papermill": {
     "duration": 0.019899,
     "end_time": "2022-09-03T16:29:23.102791",
     "exception": false,
     "start_time": "2022-09-03T16:29:23.082892",
     "status": "completed"
    },
    "tags": []
   },
   "outputs": [],
   "source": [
    "merged_df = merged_df.sort_values(by=['similarity_score'], ascending=False)\n",
    "merged_df = merged_df.reset_index(drop=True)"
   ]
  },
  {
   "cell_type": "code",
   "execution_count": 16,
   "id": "2f89bc06",
   "metadata": {
    "execution": {
     "iopub.execute_input": "2022-09-03T16:29:23.119472Z",
     "iopub.status.busy": "2022-09-03T16:29:23.119078Z",
     "iopub.status.idle": "2022-09-03T16:29:23.134152Z",
     "shell.execute_reply": "2022-09-03T16:29:23.133020Z"
    },
    "papermill": {
     "duration": 0.026061,
     "end_time": "2022-09-03T16:29:23.136409",
     "exception": false,
     "start_time": "2022-09-03T16:29:23.110348",
     "status": "completed"
    },
    "tags": []
   },
   "outputs": [
    {
     "data": {
      "text/html": [
       "<div>\n",
       "<style scoped>\n",
       "    .dataframe tbody tr th:only-of-type {\n",
       "        vertical-align: middle;\n",
       "    }\n",
       "\n",
       "    .dataframe tbody tr th {\n",
       "        vertical-align: top;\n",
       "    }\n",
       "\n",
       "    .dataframe thead th {\n",
       "        text-align: right;\n",
       "    }\n",
       "</style>\n",
       "<table border=\"1\" class=\"dataframe\">\n",
       "  <thead>\n",
       "    <tr style=\"text-align: right;\">\n",
       "      <th></th>\n",
       "      <th>t_citation</th>\n",
       "      <th>t_book</th>\n",
       "      <th>t_chapter</th>\n",
       "      <th>t_verse</th>\n",
       "      <th>t_text</th>\n",
       "      <th>q_Name</th>\n",
       "      <th>q_Surah</th>\n",
       "      <th>q_Ayat</th>\n",
       "      <th>q_Verse</th>\n",
       "      <th>similarity_score</th>\n",
       "    </tr>\n",
       "  </thead>\n",
       "  <tbody>\n",
       "    <tr>\n",
       "      <th>0</th>\n",
       "      <td>Genesis 42:8</td>\n",
       "      <td>Genesis</td>\n",
       "      <td>42</td>\n",
       "      <td>8</td>\n",
       "      <td>And Joseph knew his brethren, but they knew not him. \\n</td>\n",
       "      <td>Joseph</td>\n",
       "      <td>12</td>\n",
       "      <td>58</td>\n",
       "      <td>And Joseph’s brethren came and presented themselves before him, and he knew them but they knew him not.</td>\n",
       "      <td>96</td>\n",
       "    </tr>\n",
       "    <tr>\n",
       "      <th>1</th>\n",
       "      <td>Deuteronomy 6:13</td>\n",
       "      <td>Deuteronomy</td>\n",
       "      <td>6</td>\n",
       "      <td>13</td>\n",
       "      <td>Thou shalt fear the LORD thy God, and serve him, and shalt swear by his name. \\n</td>\n",
       "      <td>Those Who Drag Forth</td>\n",
       "      <td>79</td>\n",
       "      <td>19</td>\n",
       "      <td>Then I will guide thee to thy Lord and thou shalt fear (Him).</td>\n",
       "      <td>94</td>\n",
       "    </tr>\n",
       "    <tr>\n",
       "      <th>2</th>\n",
       "      <td>Exodus 9:30</td>\n",
       "      <td>Exodus</td>\n",
       "      <td>9</td>\n",
       "      <td>30</td>\n",
       "      <td>But as for thee and thy servants, I know that ye will not yet fear the LORD God. \\n</td>\n",
       "      <td>Those Who Drag Forth</td>\n",
       "      <td>79</td>\n",
       "      <td>19</td>\n",
       "      <td>Then I will guide thee to thy Lord and thou shalt fear (Him).</td>\n",
       "      <td>94</td>\n",
       "    </tr>\n",
       "    <tr>\n",
       "      <th>3</th>\n",
       "      <td>Deuteronomy 10:20</td>\n",
       "      <td>Deuteronomy</td>\n",
       "      <td>10</td>\n",
       "      <td>20</td>\n",
       "      <td>Thou shalt fear the LORD thy God; him shalt thou serve, and to him shalt thou cleave, and swear by his name. \\n</td>\n",
       "      <td>Those Who Drag Forth</td>\n",
       "      <td>79</td>\n",
       "      <td>19</td>\n",
       "      <td>Then I will guide thee to thy Lord and thou shalt fear (Him).</td>\n",
       "      <td>93</td>\n",
       "    </tr>\n",
       "    <tr>\n",
       "      <th>4</th>\n",
       "      <td>1 Kings 2:16</td>\n",
       "      <td>1 Kings</td>\n",
       "      <td>2</td>\n",
       "      <td>16</td>\n",
       "      <td>And now I ask one petition of thee, deny me not. And she said unto him, Say on. \\n</td>\n",
       "      <td>Defrauding</td>\n",
       "      <td>83</td>\n",
       "      <td>17</td>\n",
       "      <td>And it will be said (unto them): This is that which ye used to deny.</td>\n",
       "      <td>93</td>\n",
       "    </tr>\n",
       "  </tbody>\n",
       "</table>\n",
       "</div>"
      ],
      "text/plain": [
       "          t_citation       t_book  t_chapter  t_verse  \\\n",
       "0       Genesis 42:8      Genesis         42        8   \n",
       "1   Deuteronomy 6:13  Deuteronomy          6       13   \n",
       "2        Exodus 9:30       Exodus          9       30   \n",
       "3  Deuteronomy 10:20  Deuteronomy         10       20   \n",
       "4       1 Kings 2:16      1 Kings          2       16   \n",
       "\n",
       "                                                                                                            t_text  \\\n",
       "0                                                          And Joseph knew his brethren, but they knew not him. \\n   \n",
       "1                                 Thou shalt fear the LORD thy God, and serve him, and shalt swear by his name. \\n   \n",
       "2                              But as for thee and thy servants, I know that ye will not yet fear the LORD God. \\n   \n",
       "3  Thou shalt fear the LORD thy God; him shalt thou serve, and to him shalt thou cleave, and swear by his name. \\n   \n",
       "4                               And now I ask one petition of thee, deny me not. And she said unto him, Say on. \\n   \n",
       "\n",
       "                 q_Name  q_Surah  q_Ayat  \\\n",
       "0                Joseph       12      58   \n",
       "1  Those Who Drag Forth       79      19   \n",
       "2  Those Who Drag Forth       79      19   \n",
       "3  Those Who Drag Forth       79      19   \n",
       "4            Defrauding       83      17   \n",
       "\n",
       "                                                                                                   q_Verse  \\\n",
       "0  And Joseph’s brethren came and presented themselves before him, and he knew them but they knew him not.   \n",
       "1                                            Then I will guide thee to thy Lord and thou shalt fear (Him).   \n",
       "2                                            Then I will guide thee to thy Lord and thou shalt fear (Him).   \n",
       "3                                            Then I will guide thee to thy Lord and thou shalt fear (Him).   \n",
       "4                                     And it will be said (unto them): This is that which ye used to deny.   \n",
       "\n",
       "   similarity_score  \n",
       "0                96  \n",
       "1                94  \n",
       "2                94  \n",
       "3                93  \n",
       "4                93  "
      ]
     },
     "execution_count": 16,
     "metadata": {},
     "output_type": "execute_result"
    }
   ],
   "source": [
    "merged_df.head()"
   ]
  },
  {
   "cell_type": "code",
   "execution_count": 17,
   "id": "eebfe08d",
   "metadata": {
    "execution": {
     "iopub.execute_input": "2022-09-03T16:29:23.154455Z",
     "iopub.status.busy": "2022-09-03T16:29:23.154040Z",
     "iopub.status.idle": "2022-09-03T16:29:23.402567Z",
     "shell.execute_reply": "2022-09-03T16:29:23.401457Z"
    },
    "papermill": {
     "duration": 0.260193,
     "end_time": "2022-09-03T16:29:23.404971",
     "exception": false,
     "start_time": "2022-09-03T16:29:23.144778",
     "status": "completed"
    },
    "tags": []
   },
   "outputs": [
    {
     "data": {
      "text/plain": [
       "<AxesSubplot:>"
      ]
     },
     "execution_count": 17,
     "metadata": {},
     "output_type": "execute_result"
    },
    {
     "data": {
      "image/png": "[encoded data removed]",
      "text/plain": [
       "<Figure size 432x288 with 1 Axes>"
      ]
     },
     "metadata": {
      "needs_background": "light"
     },
     "output_type": "display_data"
    }
   ],
   "source": [
    "merged_df['similarity_score'].hist()"
   ]
  },
  {
   "cell_type": "code",
   "execution_count": 18,
   "id": "d5644760",
   "metadata": {
    "execution": {
     "iopub.execute_input": "2022-09-03T16:29:23.423474Z",
     "iopub.status.busy": "2022-09-03T16:29:23.423043Z",
     "iopub.status.idle": "2022-09-03T16:29:23.515169Z",
     "shell.execute_reply": "2022-09-03T16:29:23.513884Z"
    },
    "papermill": {
     "duration": 0.10517,
     "end_time": "2022-09-03T16:29:23.518482",
     "exception": false,
     "start_time": "2022-09-03T16:29:23.413312",
     "status": "completed"
    },
    "tags": []
   },
   "outputs": [],
   "source": [
    "merged_df.to_csv(\"ensemble_preds_most_sim_pairs_quran_and_old_testament.csv\",index = False)"
   ]
  },
  {
   "cell_type": "code",
   "execution_count": 19,
   "id": "9e83b4f6",
   "metadata": {
    "execution": {
     "iopub.execute_input": "2022-09-03T16:29:23.537265Z",
     "iopub.status.busy": "2022-09-03T16:29:23.536876Z",
     "iopub.status.idle": "2022-09-03T16:29:23.544528Z",
     "shell.execute_reply": "2022-09-03T16:29:23.543282Z"
    },
    "papermill": {
     "duration": 0.01986,
     "end_time": "2022-09-03T16:29:23.546983",
     "exception": false,
     "start_time": "2022-09-03T16:29:23.527123",
     "status": "completed"
    },
    "tags": []
   },
   "outputs": [
    {
     "data": {
      "text/plain": [
       "9120    And it shall be, when thou art come in unto the land which the LORD thy God giveth thee for an inheritance, and possessest it, and dwellest therein; \\n\n",
       "9121                      And Moses went into the midst of the cloud, and gat him up into the mount: and Moses was in the mount forty days and forty nights. \\n\n",
       "9122                                                      Forasmuch as there is none like unto thee, O LORD; thou art great, and thy name is great in might. \\n\n",
       "9123                                                           And they came to Jerusalem with psalteries and harps and trumpets unto the house of the LORD. \\n\n",
       "9124                                                                                                  Depart from evil, and do good; and dwell for evermore. \\n\n",
       "Name: t_text, dtype: object"
      ]
     },
     "execution_count": 19,
     "metadata": {},
     "output_type": "execute_result"
    }
   ],
   "source": [
    "\n",
    "merged_df.iloc[-5:].t_text"
   ]
  },
  {
   "cell_type": "code",
   "execution_count": 20,
   "id": "0d3cc81a",
   "metadata": {
    "execution": {
     "iopub.execute_input": "2022-09-03T16:29:23.565553Z",
     "iopub.status.busy": "2022-09-03T16:29:23.565112Z",
     "iopub.status.idle": "2022-09-03T16:29:23.575049Z",
     "shell.execute_reply": "2022-09-03T16:29:23.573915Z"
    },
    "papermill": {
     "duration": 0.022251,
     "end_time": "2022-09-03T16:29:23.577598",
     "exception": false,
     "start_time": "2022-09-03T16:29:23.555347",
     "status": "completed"
    },
    "tags": []
   },
   "outputs": [
    {
     "data": {
      "text/plain": [
       "9120                                                                                                                                                                                   And say: My Lord! Cause me to land at a blessed landing-place, for Thou art Best of all who bring to land.\n",
       "9121    And when We did appoint for Moses thirty nights (of solitude), and added to them ten, and he completed the whole time appointed by his Lord of forty nights; and Moses said unto his brother, Aaron: Take my place among the people. Do right, and follow not the way of mischief-makers.\n",
       "9122                                                                                                                                                                                                                                        Blessed be the name of thy Lord, Mighty and glorious!\n",
       "9123                                                                                                                                                                                                                   And the trumpet is blown and lo! from the graves they hie unto their Lord,\n",
       "9124                                                                                                                                                                                              This (is for the righteous). And lo! for the transgressors there with be an evil journey’s end,\n",
       "Name: q_Verse, dtype: object"
      ]
     },
     "execution_count": 20,
     "metadata": {},
     "output_type": "execute_result"
    }
   ],
   "source": [
    "merged_df.iloc[-5:].q_Verse"
   ]
  },
  {
   "cell_type": "code",
   "execution_count": null,
   "id": "919e0920",
   "metadata": {
    "papermill": {
     "duration": 0.008129,
     "end_time": "2022-09-03T16:29:23.594406",
     "exception": false,
     "start_time": "2022-09-03T16:29:23.586277",
     "status": "completed"
    },
    "tags": []
   },
   "outputs": [],
   "source": []
  }
 ],
 "metadata": {
  "kernelspec": {
   "display_name": "Python 3",
   "language": "python",
   "name": "python3"
  },
  "language_info": {
   "codemirror_mode": {
    "name": "ipython",
    "version": 3
   },
   "file_extension": ".py",
   "mimetype": "text/x-python",
   "name": "python",
   "nbconvert_exporter": "python",
   "pygments_lexer": "ipython3",
   "version": "3.7.12"
  },
  "papermill": {
   "default_parameters": {},
   "duration": 14.057482,
   "end_time": "2022-09-03T16:29:24.326086",
   "environment_variables": {},
   "exception": null,
   "input_path": "__notebook__.ipynb",
   "output_path": "__notebook__.ipynb",
   "parameters": {},
   "start_time": "2022-09-03T16:29:10.268604",
   "version": "2.3.4"
  }
 },
 "nbformat": 4,
 "nbformat_minor": 5
}

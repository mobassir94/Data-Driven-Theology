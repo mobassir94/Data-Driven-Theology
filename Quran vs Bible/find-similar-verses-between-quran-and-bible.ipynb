{
 "cells": [
  {
   "cell_type": "code",
   "execution_count": 1,
   "id": "606931af",
   "metadata": {
    "_cell_guid": "b1076dfc-b9ad-4769-8c92-a6c4dae69d19",
    "_uuid": "8f2839f25d086af736a60e9eeb907d3b93b6e0e5",
    "execution": {
     "iopub.execute_input": "2022-09-05T10:33:53.329261Z",
     "iopub.status.busy": "2022-09-05T10:33:53.327739Z",
     "iopub.status.idle": "2022-09-05T10:33:53.355014Z",
     "shell.execute_reply": "2022-09-05T10:33:53.352165Z"
    },
    "papermill": {
     "duration": 0.04118,
     "end_time": "2022-09-05T10:33:53.358653",
     "exception": false,
     "start_time": "2022-09-05T10:33:53.317473",
     "status": "completed"
    },
    "tags": []
   },
   "outputs": [
    {
     "name": "stdout",
     "output_type": "stream",
     "text": [
      "/kaggle/input/quran-vs-bible/all-MiniLM-L12-v2_similarities_between_quran_and_torah.csv\n",
      "/kaggle/input/quran-vs-bible/msmarco_similarities_between_quran_and_torah.csv\n",
      "/kaggle/input/quran-vs-bible/google_USE_similarities_between_quran_and_torah.csv\n",
      "/kaggle/input/quran-vs-bible/MiniLM_L6_similarities_between_quran_and_torah.csv\n",
      "/kaggle/input/quran-vs-bible/ensemble_preds_most_sim_pairs_quran_and_old_testament.csv\n",
      "/kaggle/input/quran-vs-bible/mpnet_v2_similarities_between_quran_and_torah.csv\n"
     ]
    }
   ],
   "source": [
    "# This Python 3 environment comes with many helpful analytics libraries installed\n",
    "# It is defined by the kaggle/python Docker image: https://github.com/kaggle/docker-python\n",
    "# For example, here's several helpful packages to load\n",
    "\n",
    "import numpy as np # linear algebra\n",
    "import pandas as pd # data processing, CSV file I/O (e.g. pd.read_csv)\n",
    "\n",
    "# Input data files are available in the read-only \"../input/\" directory\n",
    "# For example, running this (by clicking run or pressing Shift+Enter) will list all files under the input directory\n",
    "pd.set_option('display.max_colwidth', None)\n",
    "import os\n",
    "for dirname, _, filenames in os.walk('/kaggle/input'):\n",
    "    for filename in filenames:\n",
    "        print(os.path.join(dirname, filename))\n",
    "\n",
    "# You can write up to 20GB to the current directory (/kaggle/working/) that gets preserved as output when you create a version using \"Save & Run All\" \n",
    "# You can also write temporary files to /kaggle/temp/, but they won't be saved outside of the current session"
   ]
  },
  {
   "cell_type": "markdown",
   "id": "94868bbc",
   "metadata": {
    "papermill": {
     "duration": 0.006581,
     "end_time": "2022-09-05T10:33:53.372098",
     "exception": false,
     "start_time": "2022-09-05T10:33:53.365517",
     "status": "completed"
    },
    "tags": []
   },
   "source": [
    "in this notebook we will be using this dataset [Quran vs Torah](https://www.kaggle.com/datasets/mobassir/quran-vs-bible)\n",
    "\n",
    "we will use these 5 datasets,\n",
    "\n",
    "1. all-MiniLM-L12-v2_similarities_between_quran_and_torah.csv\n",
    "\n",
    "2. msmarco_similarities_between_quran_and_torah.csv\n",
    "\n",
    "3. google_USE_similarities_between_quran_and_torah.csv\n",
    "\n",
    "4. MiniLM_L6_similarities_between_quran_and_torah.csv\n",
    "\n",
    "5. mpnet_v2_similarities_between_quran_and_torah.csv"
   ]
  },
  {
   "cell_type": "markdown",
   "id": "34c05762",
   "metadata": {
    "papermill": {
     "duration": 0.008418,
     "end_time": "2022-09-05T10:33:53.386699",
     "exception": false,
     "start_time": "2022-09-05T10:33:53.378281",
     "status": "completed"
    },
    "tags": []
   },
   "source": [
    "the idea of this notebook is similar to ensemble approach. we pick the verses pairs from each dataframe with highest confident score (we take the decision based on histogram score distribution), then we merge all the filtered dataset and drop duplicates except first. then we sort the final filtered dataset and save that dataset for next level research."
   ]
  },
  {
   "cell_type": "code",
   "execution_count": 2,
   "id": "af2b8964",
   "metadata": {
    "execution": {
     "iopub.execute_input": "2022-09-05T10:33:53.409671Z",
     "iopub.status.busy": "2022-09-05T10:33:53.409139Z",
     "iopub.status.idle": "2022-09-05T10:33:54.603021Z",
     "shell.execute_reply": "2022-09-05T10:33:54.601966Z"
    },
    "papermill": {
     "duration": 1.209619,
     "end_time": "2022-09-05T10:33:54.605463",
     "exception": false,
     "start_time": "2022-09-05T10:33:53.395844",
     "status": "completed"
    },
    "tags": []
   },
   "outputs": [],
   "source": [
    "minilml12 = pd.read_csv('/kaggle/input/quran-vs-bible/all-MiniLM-L12-v2_similarities_between_quran_and_torah.csv')\n",
    "msmarco = pd.read_csv('/kaggle/input/quran-vs-bible/msmarco_similarities_between_quran_and_torah.csv')\n",
    "use = pd.read_csv('/kaggle/input/quran-vs-bible/google_USE_similarities_between_quran_and_torah.csv')\n",
    "minilml6 = pd.read_csv('/kaggle/input/quran-vs-bible/MiniLM_L6_similarities_between_quran_and_torah.csv')\n",
    "mpnetv2 = pd.read_csv('/kaggle/input/quran-vs-bible/mpnet_v2_similarities_between_quran_and_torah.csv')"
   ]
  },
  {
   "cell_type": "code",
   "execution_count": 3,
   "id": "b8a70629",
   "metadata": {
    "execution": {
     "iopub.execute_input": "2022-09-05T10:33:54.619797Z",
     "iopub.status.busy": "2022-09-05T10:33:54.619114Z",
     "iopub.status.idle": "2022-09-05T10:33:54.637747Z",
     "shell.execute_reply": "2022-09-05T10:33:54.636855Z"
    },
    "papermill": {
     "duration": 0.028679,
     "end_time": "2022-09-05T10:33:54.640363",
     "exception": false,
     "start_time": "2022-09-05T10:33:54.611684",
     "status": "completed"
    },
    "tags": []
   },
   "outputs": [],
   "source": [
    "minilml12['similarity_score'] = minilml12['similarity_score'] * 100\n",
    "minilml12['similarity_score'] =minilml12['similarity_score'].astype(int)\n",
    "msmarco['similarity_score'] = msmarco['similarity_score'] * 100\n",
    "msmarco['similarity_score'] =msmarco['similarity_score'].astype(int)\n",
    "use['similarity_score'] = use['similarity_score'] * 100\n",
    "use['similarity_score'] =use['similarity_score'].astype(int)\n",
    "minilml6['similarity_score'] = minilml6['similarity_score'] * 100\n",
    "minilml6['similarity_score'] =minilml6['similarity_score'].astype(int)\n",
    "mpnetv2['similarity_score'] = mpnetv2['similarity_score'] * 100\n",
    "mpnetv2['similarity_score'] =mpnetv2['similarity_score'].astype(int)"
   ]
  },
  {
   "cell_type": "code",
   "execution_count": 4,
   "id": "0a169d5a",
   "metadata": {
    "execution": {
     "iopub.execute_input": "2022-09-05T10:33:54.654583Z",
     "iopub.status.busy": "2022-09-05T10:33:54.653684Z",
     "iopub.status.idle": "2022-09-05T10:33:54.930944Z",
     "shell.execute_reply": "2022-09-05T10:33:54.929757Z"
    },
    "papermill": {
     "duration": 0.286967,
     "end_time": "2022-09-05T10:33:54.933441",
     "exception": false,
     "start_time": "2022-09-05T10:33:54.646474",
     "status": "completed"
    },
    "tags": []
   },
   "outputs": [
    {
     "data": {
      "image/png": "[encoded data removed]",
      "text/plain": [
       "<Figure size 432x288 with 1 Axes>"
      ]
     },
     "metadata": {
      "needs_background": "light"
     },
     "output_type": "display_data"
    }
   ],
   "source": [
    "minilml12['similarity_score'].hist()\n",
    "\n",
    "top_minilml12 = minilml12[minilml12['similarity_score']>75]"
   ]
  },
  {
   "cell_type": "code",
   "execution_count": 5,
   "id": "b5283065",
   "metadata": {
    "execution": {
     "iopub.execute_input": "2022-09-05T10:33:54.947593Z",
     "iopub.status.busy": "2022-09-05T10:33:54.947196Z",
     "iopub.status.idle": "2022-09-05T10:33:55.170653Z",
     "shell.execute_reply": "2022-09-05T10:33:55.169500Z"
    },
    "papermill": {
     "duration": 0.233203,
     "end_time": "2022-09-05T10:33:55.173041",
     "exception": false,
     "start_time": "2022-09-05T10:33:54.939838",
     "status": "completed"
    },
    "tags": []
   },
   "outputs": [
    {
     "data": {
      "image/png": "[encoded data removed]",
      "text/plain": [
       "<Figure size 432x288 with 1 Axes>"
      ]
     },
     "metadata": {
      "needs_background": "light"
     },
     "output_type": "display_data"
    }
   ],
   "source": [
    "msmarco['similarity_score'].hist()\n",
    "\n",
    "top_msmarco = msmarco[msmarco['similarity_score']>88]"
   ]
  },
  {
   "cell_type": "code",
   "execution_count": 6,
   "id": "c6d756a1",
   "metadata": {
    "execution": {
     "iopub.execute_input": "2022-09-05T10:33:55.187049Z",
     "iopub.status.busy": "2022-09-05T10:33:55.186655Z",
     "iopub.status.idle": "2022-09-05T10:33:55.445652Z",
     "shell.execute_reply": "2022-09-05T10:33:55.444679Z"
    },
    "papermill": {
     "duration": 0.268638,
     "end_time": "2022-09-05T10:33:55.447931",
     "exception": false,
     "start_time": "2022-09-05T10:33:55.179293",
     "status": "completed"
    },
    "tags": []
   },
   "outputs": [
    {
     "data": {
      "image/png": "[encoded data removed]",
      "text/plain": [
       "<Figure size 432x288 with 1 Axes>"
      ]
     },
     "metadata": {
      "needs_background": "light"
     },
     "output_type": "display_data"
    }
   ],
   "source": [
    "use['similarity_score'].hist()\n",
    "\n",
    "top_use = use[use['similarity_score']>65]"
   ]
  },
  {
   "cell_type": "code",
   "execution_count": 7,
   "id": "ff0579c3",
   "metadata": {
    "execution": {
     "iopub.execute_input": "2022-09-05T10:33:55.463196Z",
     "iopub.status.busy": "2022-09-05T10:33:55.462167Z",
     "iopub.status.idle": "2022-09-05T10:33:55.701975Z",
     "shell.execute_reply": "2022-09-05T10:33:55.700884Z"
    },
    "papermill": {
     "duration": 0.250109,
     "end_time": "2022-09-05T10:33:55.704630",
     "exception": false,
     "start_time": "2022-09-05T10:33:55.454521",
     "status": "completed"
    },
    "tags": []
   },
   "outputs": [
    {
     "data": {
      "image/png": "[encoded data removed]",
      "text/plain": [
       "<Figure size 432x288 with 1 Axes>"
      ]
     },
     "metadata": {
      "needs_background": "light"
     },
     "output_type": "display_data"
    }
   ],
   "source": [
    "minilml6['similarity_score'].hist()\n",
    "\n",
    "top_minilml6 = minilml6[minilml6['similarity_score']>70]"
   ]
  },
  {
   "cell_type": "code",
   "execution_count": 8,
   "id": "309f2141",
   "metadata": {
    "execution": {
     "iopub.execute_input": "2022-09-05T10:33:55.719909Z",
     "iopub.status.busy": "2022-09-05T10:33:55.719506Z",
     "iopub.status.idle": "2022-09-05T10:33:55.957483Z",
     "shell.execute_reply": "2022-09-05T10:33:55.956208Z"
    },
    "papermill": {
     "duration": 0.248403,
     "end_time": "2022-09-05T10:33:55.959981",
     "exception": false,
     "start_time": "2022-09-05T10:33:55.711578",
     "status": "completed"
    },
    "tags": []
   },
   "outputs": [
    {
     "data": {
      "image/png": "[encoded data removed]",
      "text/plain": [
       "<Figure size 432x288 with 1 Axes>"
      ]
     },
     "metadata": {
      "needs_background": "light"
     },
     "output_type": "display_data"
    }
   ],
   "source": [
    "mpnetv2['similarity_score'].hist()\n",
    "\n",
    "top_mpnetv2 = mpnetv2[mpnetv2['similarity_score']>70]"
   ]
  },
  {
   "cell_type": "code",
   "execution_count": 9,
   "id": "a12aae87",
   "metadata": {
    "execution": {
     "iopub.execute_input": "2022-09-05T10:33:55.976223Z",
     "iopub.status.busy": "2022-09-05T10:33:55.975200Z",
     "iopub.status.idle": "2022-09-05T10:33:55.984171Z",
     "shell.execute_reply": "2022-09-05T10:33:55.982878Z"
    },
    "papermill": {
     "duration": 0.019355,
     "end_time": "2022-09-05T10:33:55.986356",
     "exception": false,
     "start_time": "2022-09-05T10:33:55.967001",
     "status": "completed"
    },
    "tags": []
   },
   "outputs": [],
   "source": [
    "top_minilml12 = top_minilml12.reset_index(drop=True)\n",
    "top_msmarco = top_msmarco.reset_index(drop=True)\n",
    "top_use = top_use.reset_index(drop=True)\n",
    "top_minilml6 = top_minilml6.reset_index(drop=True)\n",
    "top_mpnetv2 = top_mpnetv2.reset_index(drop=True)"
   ]
  },
  {
   "cell_type": "code",
   "execution_count": 10,
   "id": "da1c3dc5",
   "metadata": {
    "execution": {
     "iopub.execute_input": "2022-09-05T10:33:56.002528Z",
     "iopub.status.busy": "2022-09-05T10:33:56.001912Z",
     "iopub.status.idle": "2022-09-05T10:33:56.009618Z",
     "shell.execute_reply": "2022-09-05T10:33:56.008373Z"
    },
    "papermill": {
     "duration": 0.018261,
     "end_time": "2022-09-05T10:33:56.012032",
     "exception": false,
     "start_time": "2022-09-05T10:33:55.993771",
     "status": "completed"
    },
    "tags": []
   },
   "outputs": [
    {
     "data": {
      "text/plain": [
       "(4950, 1845, 213, 371, 1217)"
      ]
     },
     "execution_count": 10,
     "metadata": {},
     "output_type": "execute_result"
    }
   ],
   "source": [
    "len(top_minilml12), len(top_msmarco), len(top_use), len(top_minilml6), len(top_mpnetv2)"
   ]
  },
  {
   "cell_type": "code",
   "execution_count": 11,
   "id": "38972e70",
   "metadata": {
    "execution": {
     "iopub.execute_input": "2022-09-05T10:33:56.028302Z",
     "iopub.status.busy": "2022-09-05T10:33:56.027916Z",
     "iopub.status.idle": "2022-09-05T10:33:56.042488Z",
     "shell.execute_reply": "2022-09-05T10:33:56.041387Z"
    },
    "papermill": {
     "duration": 0.025279,
     "end_time": "2022-09-05T10:33:56.044784",
     "exception": false,
     "start_time": "2022-09-05T10:33:56.019505",
     "status": "completed"
    },
    "tags": []
   },
   "outputs": [],
   "source": [
    "merged_df = pd.concat([top_minilml12,top_msmarco,top_use,top_minilml6,top_mpnetv2],ignore_index=True)\n",
    "merged_df = merged_df.reset_index(drop=True)"
   ]
  },
  {
   "cell_type": "code",
   "execution_count": 12,
   "id": "8bbce264",
   "metadata": {
    "execution": {
     "iopub.execute_input": "2022-09-05T10:33:56.061331Z",
     "iopub.status.busy": "2022-09-05T10:33:56.060941Z",
     "iopub.status.idle": "2022-09-05T10:33:56.067358Z",
     "shell.execute_reply": "2022-09-05T10:33:56.066356Z"
    },
    "papermill": {
     "duration": 0.016852,
     "end_time": "2022-09-05T10:33:56.069521",
     "exception": false,
     "start_time": "2022-09-05T10:33:56.052669",
     "status": "completed"
    },
    "tags": []
   },
   "outputs": [
    {
     "data": {
      "text/plain": [
       "8596"
      ]
     },
     "execution_count": 12,
     "metadata": {},
     "output_type": "execute_result"
    }
   ],
   "source": [
    "len(merged_df)"
   ]
  },
  {
   "cell_type": "code",
   "execution_count": 13,
   "id": "f8140e42",
   "metadata": {
    "execution": {
     "iopub.execute_input": "2022-09-05T10:33:56.085782Z",
     "iopub.status.busy": "2022-09-05T10:33:56.085400Z",
     "iopub.status.idle": "2022-09-05T10:33:56.108070Z",
     "shell.execute_reply": "2022-09-05T10:33:56.107019Z"
    },
    "papermill": {
     "duration": 0.033664,
     "end_time": "2022-09-05T10:33:56.110402",
     "exception": false,
     "start_time": "2022-09-05T10:33:56.076738",
     "status": "completed"
    },
    "tags": []
   },
   "outputs": [],
   "source": [
    "merged_df = merged_df.drop_duplicates(subset=merged_df.columns.difference(['similarity_score']), keep='first')\n"
   ]
  },
  {
   "cell_type": "code",
   "execution_count": 14,
   "id": "bea0fbda",
   "metadata": {
    "execution": {
     "iopub.execute_input": "2022-09-05T10:33:56.126511Z",
     "iopub.status.busy": "2022-09-05T10:33:56.126125Z",
     "iopub.status.idle": "2022-09-05T10:33:56.246871Z",
     "shell.execute_reply": "2022-09-05T10:33:56.245870Z"
    },
    "papermill": {
     "duration": 0.131982,
     "end_time": "2022-09-05T10:33:56.249708",
     "exception": false,
     "start_time": "2022-09-05T10:33:56.117726",
     "status": "completed"
    },
    "tags": []
   },
   "outputs": [
    {
     "data": {
      "text/html": [
       "<div>\n",
       "<style scoped>\n",
       "    .dataframe tbody tr th:only-of-type {\n",
       "        vertical-align: middle;\n",
       "    }\n",
       "\n",
       "    .dataframe tbody tr th {\n",
       "        vertical-align: top;\n",
       "    }\n",
       "\n",
       "    .dataframe thead th {\n",
       "        text-align: right;\n",
       "    }\n",
       "</style>\n",
       "<table border=\"1\" class=\"dataframe\">\n",
       "  <thead>\n",
       "    <tr style=\"text-align: right;\">\n",
       "      <th></th>\n",
       "      <th>t_citation</th>\n",
       "      <th>t_book</th>\n",
       "      <th>t_chapter</th>\n",
       "      <th>t_verse</th>\n",
       "      <th>t_text</th>\n",
       "      <th>q_Name</th>\n",
       "      <th>q_Surah</th>\n",
       "      <th>q_Ayat</th>\n",
       "      <th>q_Verse</th>\n",
       "      <th>similarity_score</th>\n",
       "    </tr>\n",
       "  </thead>\n",
       "  <tbody>\n",
       "    <tr>\n",
       "      <th>0</th>\n",
       "      <td>Exodus 7:6</td>\n",
       "      <td>Exodus</td>\n",
       "      <td>7</td>\n",
       "      <td>6</td>\n",
       "      <td>And Moses and Aaron did as the LORD commanded them, so did they. \\n</td>\n",
       "      <td>The Poets</td>\n",
       "      <td>26</td>\n",
       "      <td>48</td>\n",
       "      <td>The Lord of Moses and Aaron.</td>\n",
       "      <td>89</td>\n",
       "    </tr>\n",
       "    <tr>\n",
       "      <th>1</th>\n",
       "      <td>Exodus 2:15</td>\n",
       "      <td>Exodus</td>\n",
       "      <td>2</td>\n",
       "      <td>15</td>\n",
       "      <td>Now when Pharaoh heard this thing, he sought to slay Moses. But Moses fled from the face of Pharaoh, and dwelt in the land of Midian: and he sat down by a well. \\n</td>\n",
       "      <td>The Believer</td>\n",
       "      <td>40</td>\n",
       "      <td>26</td>\n",
       "      <td>And Pharaoh said: Suffer me to kill Moses, and let him cry unto his Lord. Lo! I fear that he will alter your religion or that he will cause confusion in the land.</td>\n",
       "      <td>88</td>\n",
       "    </tr>\n",
       "  </tbody>\n",
       "</table>\n",
       "</div>"
      ],
      "text/plain": [
       "    t_citation  t_book  t_chapter  t_verse  \\\n",
       "0   Exodus 7:6  Exodus          7        6   \n",
       "1  Exodus 2:15  Exodus          2       15   \n",
       "\n",
       "                                                                                                                                                                t_text  \\\n",
       "0                                                                                                  And Moses and Aaron did as the LORD commanded them, so did they. \\n   \n",
       "1  Now when Pharaoh heard this thing, he sought to slay Moses. But Moses fled from the face of Pharaoh, and dwelt in the land of Midian: and he sat down by a well. \\n   \n",
       "\n",
       "         q_Name  q_Surah  q_Ayat  \\\n",
       "0     The Poets       26      48   \n",
       "1  The Believer       40      26   \n",
       "\n",
       "                                                                                                                                                              q_Verse  \\\n",
       "0                                                                                                                                        The Lord of Moses and Aaron.   \n",
       "1  And Pharaoh said: Suffer me to kill Moses, and let him cry unto his Lord. Lo! I fear that he will alter your religion or that he will cause confusion in the land.   \n",
       "\n",
       "   similarity_score  \n",
       "0                89  \n",
       "1                88  "
      ]
     },
     "execution_count": 14,
     "metadata": {},
     "output_type": "execute_result"
    }
   ],
   "source": [
    "merged_df.head(2)"
   ]
  },
  {
   "cell_type": "code",
   "execution_count": 15,
   "id": "f5708278",
   "metadata": {
    "execution": {
     "iopub.execute_input": "2022-09-05T10:33:56.266196Z",
     "iopub.status.busy": "2022-09-05T10:33:56.265558Z",
     "iopub.status.idle": "2022-09-05T10:33:56.272775Z",
     "shell.execute_reply": "2022-09-05T10:33:56.272044Z"
    },
    "papermill": {
     "duration": 0.017675,
     "end_time": "2022-09-05T10:33:56.274731",
     "exception": false,
     "start_time": "2022-09-05T10:33:56.257056",
     "status": "completed"
    },
    "tags": []
   },
   "outputs": [],
   "source": [
    "merged_df = merged_df.sort_values(by=['similarity_score'], ascending=False)\n",
    "merged_df = merged_df.reset_index(drop=True)"
   ]
  },
  {
   "cell_type": "code",
   "execution_count": 16,
   "id": "5414a863",
   "metadata": {
    "execution": {
     "iopub.execute_input": "2022-09-05T10:33:56.291224Z",
     "iopub.status.busy": "2022-09-05T10:33:56.290838Z",
     "iopub.status.idle": "2022-09-05T10:33:56.306070Z",
     "shell.execute_reply": "2022-09-05T10:33:56.304973Z"
    },
    "papermill": {
     "duration": 0.025931,
     "end_time": "2022-09-05T10:33:56.308161",
     "exception": false,
     "start_time": "2022-09-05T10:33:56.282230",
     "status": "completed"
    },
    "tags": []
   },
   "outputs": [
    {
     "data": {
      "text/html": [
       "<div>\n",
       "<style scoped>\n",
       "    .dataframe tbody tr th:only-of-type {\n",
       "        vertical-align: middle;\n",
       "    }\n",
       "\n",
       "    .dataframe tbody tr th {\n",
       "        vertical-align: top;\n",
       "    }\n",
       "\n",
       "    .dataframe thead th {\n",
       "        text-align: right;\n",
       "    }\n",
       "</style>\n",
       "<table border=\"1\" class=\"dataframe\">\n",
       "  <thead>\n",
       "    <tr style=\"text-align: right;\">\n",
       "      <th></th>\n",
       "      <th>t_citation</th>\n",
       "      <th>t_book</th>\n",
       "      <th>t_chapter</th>\n",
       "      <th>t_verse</th>\n",
       "      <th>t_text</th>\n",
       "      <th>q_Name</th>\n",
       "      <th>q_Surah</th>\n",
       "      <th>q_Ayat</th>\n",
       "      <th>q_Verse</th>\n",
       "      <th>similarity_score</th>\n",
       "    </tr>\n",
       "  </thead>\n",
       "  <tbody>\n",
       "    <tr>\n",
       "      <th>0</th>\n",
       "      <td>Jeremiah 51:15</td>\n",
       "      <td>Jeremiah</td>\n",
       "      <td>51</td>\n",
       "      <td>15</td>\n",
       "      <td>He hath made the earth by his power, he hath established the world by his wisdom, and hath stretched out the heaven by his understanding. \\n</td>\n",
       "      <td>The Bee</td>\n",
       "      <td>16</td>\n",
       "      <td>3</td>\n",
       "      <td>He hath created the heavens and the earth with truth. High be He Exalted above all that they associate (with Him).</td>\n",
       "      <td>93</td>\n",
       "    </tr>\n",
       "    <tr>\n",
       "      <th>1</th>\n",
       "      <td>Deuteronomy 10:14</td>\n",
       "      <td>Deuteronomy</td>\n",
       "      <td>10</td>\n",
       "      <td>14</td>\n",
       "      <td>Behold, the heaven and the heaven of heavens is the LORD's thy God, the earth also, with all that therein is. \\n</td>\n",
       "      <td>Smoke</td>\n",
       "      <td>44</td>\n",
       "      <td>7</td>\n",
       "      <td>Lord of the heavens and the earth and all that is between them, if ye would be sure.</td>\n",
       "      <td>93</td>\n",
       "    </tr>\n",
       "    <tr>\n",
       "      <th>2</th>\n",
       "      <td>Psalms 119:67</td>\n",
       "      <td>Psalms</td>\n",
       "      <td>119</td>\n",
       "      <td>67</td>\n",
       "      <td>Before I was afflicted I went astray: but now have I kept thy word. \\n</td>\n",
       "      <td>The Poets</td>\n",
       "      <td>26</td>\n",
       "      <td>20</td>\n",
       "      <td>He said: I did it then, when I was of those who are astray.</td>\n",
       "      <td>93</td>\n",
       "    </tr>\n",
       "    <tr>\n",
       "      <th>3</th>\n",
       "      <td>Deuteronomy 10:20</td>\n",
       "      <td>Deuteronomy</td>\n",
       "      <td>10</td>\n",
       "      <td>20</td>\n",
       "      <td>Thou shalt fear the LORD thy God; him shalt thou serve, and to him shalt thou cleave, and swear by his name. \\n</td>\n",
       "      <td>Those Who Drag Forth</td>\n",
       "      <td>79</td>\n",
       "      <td>19</td>\n",
       "      <td>Then I will guide thee to thy Lord and thou shalt fear (Him).</td>\n",
       "      <td>93</td>\n",
       "    </tr>\n",
       "    <tr>\n",
       "      <th>4</th>\n",
       "      <td>Genesis 12:20</td>\n",
       "      <td>Genesis</td>\n",
       "      <td>12</td>\n",
       "      <td>20</td>\n",
       "      <td>And Pharaoh commanded his men concerning him: and they sent him away, and his wife, and all that he had. \\n</td>\n",
       "      <td>Hûd</td>\n",
       "      <td>11</td>\n",
       "      <td>97</td>\n",
       "      <td>Unto Pharaoh and his chiefs, but they did follow the command of Pharaoh, and the command of Pharaoh was no right guide.</td>\n",
       "      <td>93</td>\n",
       "    </tr>\n",
       "  </tbody>\n",
       "</table>\n",
       "</div>"
      ],
      "text/plain": [
       "          t_citation       t_book  t_chapter  t_verse  \\\n",
       "0     Jeremiah 51:15     Jeremiah         51       15   \n",
       "1  Deuteronomy 10:14  Deuteronomy         10       14   \n",
       "2      Psalms 119:67       Psalms        119       67   \n",
       "3  Deuteronomy 10:20  Deuteronomy         10       20   \n",
       "4      Genesis 12:20      Genesis         12       20   \n",
       "\n",
       "                                                                                                                                         t_text  \\\n",
       "0  He hath made the earth by his power, he hath established the world by his wisdom, and hath stretched out the heaven by his understanding. \\n   \n",
       "1                              Behold, the heaven and the heaven of heavens is the LORD's thy God, the earth also, with all that therein is. \\n   \n",
       "2                                                                        Before I was afflicted I went astray: but now have I kept thy word. \\n   \n",
       "3                               Thou shalt fear the LORD thy God; him shalt thou serve, and to him shalt thou cleave, and swear by his name. \\n   \n",
       "4                                   And Pharaoh commanded his men concerning him: and they sent him away, and his wife, and all that he had. \\n   \n",
       "\n",
       "                 q_Name  q_Surah  q_Ayat  \\\n",
       "0               The Bee       16       3   \n",
       "1                 Smoke       44       7   \n",
       "2             The Poets       26      20   \n",
       "3  Those Who Drag Forth       79      19   \n",
       "4                   Hûd       11      97   \n",
       "\n",
       "                                                                                                                   q_Verse  \\\n",
       "0       He hath created the heavens and the earth with truth. High be He Exalted above all that they associate (with Him).   \n",
       "1                                     Lord of the heavens and the earth and all that is between them, if ye would be sure.   \n",
       "2                                                              He said: I did it then, when I was of those who are astray.   \n",
       "3                                                            Then I will guide thee to thy Lord and thou shalt fear (Him).   \n",
       "4  Unto Pharaoh and his chiefs, but they did follow the command of Pharaoh, and the command of Pharaoh was no right guide.   \n",
       "\n",
       "   similarity_score  \n",
       "0                93  \n",
       "1                93  \n",
       "2                93  \n",
       "3                93  \n",
       "4                93  "
      ]
     },
     "execution_count": 16,
     "metadata": {},
     "output_type": "execute_result"
    }
   ],
   "source": [
    "merged_df.head()"
   ]
  },
  {
   "cell_type": "code",
   "execution_count": 17,
   "id": "1e2b2b4d",
   "metadata": {
    "execution": {
     "iopub.execute_input": "2022-09-05T10:33:56.325541Z",
     "iopub.status.busy": "2022-09-05T10:33:56.325149Z",
     "iopub.status.idle": "2022-09-05T10:33:56.331721Z",
     "shell.execute_reply": "2022-09-05T10:33:56.330649Z"
    },
    "papermill": {
     "duration": 0.017784,
     "end_time": "2022-09-05T10:33:56.333879",
     "exception": false,
     "start_time": "2022-09-05T10:33:56.316095",
     "status": "completed"
    },
    "tags": []
   },
   "outputs": [
    {
     "data": {
      "text/plain": [
       "7963"
      ]
     },
     "execution_count": 17,
     "metadata": {},
     "output_type": "execute_result"
    }
   ],
   "source": [
    "len(merged_df)"
   ]
  },
  {
   "cell_type": "code",
   "execution_count": 18,
   "id": "7941dd8c",
   "metadata": {
    "execution": {
     "iopub.execute_input": "2022-09-05T10:33:56.351038Z",
     "iopub.status.busy": "2022-09-05T10:33:56.350659Z",
     "iopub.status.idle": "2022-09-05T10:33:56.572047Z",
     "shell.execute_reply": "2022-09-05T10:33:56.570970Z"
    },
    "papermill": {
     "duration": 0.232768,
     "end_time": "2022-09-05T10:33:56.574525",
     "exception": false,
     "start_time": "2022-09-05T10:33:56.341757",
     "status": "completed"
    },
    "tags": []
   },
   "outputs": [
    {
     "data": {
      "text/plain": [
       "<AxesSubplot:>"
      ]
     },
     "execution_count": 18,
     "metadata": {},
     "output_type": "execute_result"
    },
    {
     "data": {
      "image/png": "[encoded data removed]",
      "text/plain": [
       "<Figure size 432x288 with 1 Axes>"
      ]
     },
     "metadata": {
      "needs_background": "light"
     },
     "output_type": "display_data"
    }
   ],
   "source": [
    "merged_df['similarity_score'].hist()"
   ]
  },
  {
   "cell_type": "code",
   "execution_count": 19,
   "id": "51d978f8",
   "metadata": {
    "execution": {
     "iopub.execute_input": "2022-09-05T10:33:56.592807Z",
     "iopub.status.busy": "2022-09-05T10:33:56.592058Z",
     "iopub.status.idle": "2022-09-05T10:33:56.674617Z",
     "shell.execute_reply": "2022-09-05T10:33:56.673774Z"
    },
    "papermill": {
     "duration": 0.094347,
     "end_time": "2022-09-05T10:33:56.677173",
     "exception": false,
     "start_time": "2022-09-05T10:33:56.582826",
     "status": "completed"
    },
    "tags": []
   },
   "outputs": [],
   "source": [
    "merged_df.to_csv(\"ensemble_preds_most_sim_pairs_quran_and_old_testament.csv\",index = False)"
   ]
  },
  {
   "cell_type": "code",
   "execution_count": 20,
   "id": "029331cc",
   "metadata": {
    "execution": {
     "iopub.execute_input": "2022-09-05T10:33:56.695899Z",
     "iopub.status.busy": "2022-09-05T10:33:56.695161Z",
     "iopub.status.idle": "2022-09-05T10:33:56.703672Z",
     "shell.execute_reply": "2022-09-05T10:33:56.702660Z"
    },
    "papermill": {
     "duration": 0.02036,
     "end_time": "2022-09-05T10:33:56.705936",
     "exception": false,
     "start_time": "2022-09-05T10:33:56.685576",
     "status": "completed"
    },
    "tags": []
   },
   "outputs": [
    {
     "data": {
      "text/plain": [
       "7958                                                                                                                                                                                                                                  And Mizpeh, and Chephirah, and Mozah, \\n\n",
       "7959    And when the LORD raised them up judges, then the LORD was with the judge, and delivered them out of the hand of their enemies all the days of the judge: for it repented the LORD because of their groanings by reason of them that oppressed them and vexed them. \\n\n",
       "7960                                                            And Moses said unto Pharaoh, Glory over me: when shall I entreat for thee, and for thy servants, and for thy people, to destroy the frogs from thee and thy houses, that they may remain in the river only? \\n\n",
       "7961                                                                                                                                                                                                                                 And Moses spake unto the LORD, saying, \\n\n",
       "7962                                                                                                                                                            I am the LORD your God, which brought you out of the land of Egypt, to be your God: I am the LORD your God. \\n\n",
       "Name: t_text, dtype: object"
      ]
     },
     "execution_count": 20,
     "metadata": {},
     "output_type": "execute_result"
    }
   ],
   "source": [
    "\n",
    "merged_df.iloc[-5:].t_text"
   ]
  },
  {
   "cell_type": "code",
   "execution_count": 21,
   "id": "3fc5b001",
   "metadata": {
    "execution": {
     "iopub.execute_input": "2022-09-05T10:33:56.724394Z",
     "iopub.status.busy": "2022-09-05T10:33:56.724038Z",
     "iopub.status.idle": "2022-09-05T10:33:56.731664Z",
     "shell.execute_reply": "2022-09-05T10:33:56.730409Z"
    },
    "papermill": {
     "duration": 0.019702,
     "end_time": "2022-09-05T10:33:56.734048",
     "exception": false,
     "start_time": "2022-09-05T10:33:56.714346",
     "status": "completed"
    },
    "tags": []
   },
   "outputs": [
    {
     "data": {
      "text/plain": [
       "7958                                                                                                                                                                                                                                                               And olive-trees and palm-trees\n",
       "7959                                                                                                     Then lo! thy Lord - for those who became fugitives after they had been persecuted, and then fought and were steadfast - lo! thy Lord afterward is (for them) indeed Forgiving, Merciful.\n",
       "7960    And Moses said: Our Lord! Lo! Thou hast given Pharaoh and his chiefs splendour and riches in the life of the world, Our Lord! that they may lead men astray from Thy way. Our Lord! Destroy their riches and harden their hearts so that they believe not till they see the painful doom.\n",
       "7961                                                                                                                                                                                                                         And when thy Lord called Moses, saying: Go unto the wrongdoing folk,\n",
       "7962                                                                                                                                                                                                                                      And proclaimed: \"I (Pharaoh) am your Lord the Highest.\"\n",
       "Name: q_Verse, dtype: object"
      ]
     },
     "execution_count": 21,
     "metadata": {},
     "output_type": "execute_result"
    }
   ],
   "source": [
    "merged_df.iloc[-5:].q_Verse"
   ]
  },
  {
   "cell_type": "code",
   "execution_count": null,
   "id": "5e079bc9",
   "metadata": {
    "papermill": {
     "duration": 0.008118,
     "end_time": "2022-09-05T10:33:56.750908",
     "exception": false,
     "start_time": "2022-09-05T10:33:56.742790",
     "status": "completed"
    },
    "tags": []
   },
   "outputs": [],
   "source": []
  }
 ],
 "metadata": {
  "kernelspec": {
   "display_name": "Python 3",
   "language": "python",
   "name": "python3"
  },
  "language_info": {
   "codemirror_mode": {
    "name": "ipython",
    "version": 3
   },
   "file_extension": ".py",
   "mimetype": "text/x-python",
   "name": "python",
   "nbconvert_exporter": "python",
   "pygments_lexer": "ipython3",
   "version": "3.7.12"
  },
  "papermill": {
   "default_parameters": {},
   "duration": 12.869034,
   "end_time": "2022-09-05T10:33:57.380457",
   "environment_variables": {},
   "exception": null,
   "input_path": "__notebook__.ipynb",
   "output_path": "__notebook__.ipynb",
   "parameters": {},
   "start_time": "2022-09-05T10:33:44.511423",
   "version": "2.3.4"
  }
 },
 "nbformat": 4,
 "nbformat_minor": 5
}

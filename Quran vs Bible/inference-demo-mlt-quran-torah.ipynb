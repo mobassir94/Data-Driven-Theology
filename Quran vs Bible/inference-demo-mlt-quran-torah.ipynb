{
 "cells": [
  {
   "cell_type": "code",
   "execution_count": 1,
   "id": "7c076955",
   "metadata": {
    "_cell_guid": "b1076dfc-b9ad-4769-8c92-a6c4dae69d19",
    "_uuid": "8f2839f25d086af736a60e9eeb907d3b93b6e0e5",
    "execution": {
     "iopub.execute_input": "2022-09-05T10:44:37.238206Z",
     "iopub.status.busy": "2022-09-05T10:44:37.237871Z",
     "iopub.status.idle": "2022-09-05T10:44:58.608167Z",
     "shell.execute_reply": "2022-09-05T10:44:58.606826Z"
    },
    "papermill": {
     "duration": 21.378359,
     "end_time": "2022-09-05T10:44:58.611337",
     "exception": false,
     "start_time": "2022-09-05T10:44:37.232978",
     "status": "completed"
    },
    "tags": []
   },
   "outputs": [
    {
     "name": "stdout",
     "output_type": "stream",
     "text": [
      "Collecting laserembeddings==1.1.2\r\n",
      "  Downloading laserembeddings-1.1.2-py3-none-any.whl (13 kB)\r\n",
      "Collecting sacremoses==0.0.35\r\n",
      "  Downloading sacremoses-0.0.35.tar.gz (859 kB)\r\n",
      "\u001b[2K     \u001b[90m━━━━━━━━━━━━━━━━━━━━━━━━━━━━━━━━━━━━━━\u001b[0m \u001b[32m859.8/859.8 kB\u001b[0m \u001b[31m11.5 MB/s\u001b[0m eta \u001b[36m0:00:00\u001b[0m\r\n",
      "\u001b[?25h  Preparing metadata (setup.py) ... \u001b[?25l-\b \bdone\r\n",
      "\u001b[?25hCollecting transliterate==1.10.2\r\n",
      "  Downloading transliterate-1.10.2-py2.py3-none-any.whl (45 kB)\r\n",
      "\u001b[2K     \u001b[90m━━━━━━━━━━━━━━━━━━━━━━━━━━━━━━━━━━━━━━━━\u001b[0m \u001b[32m45.8/45.8 kB\u001b[0m \u001b[31m3.7 MB/s\u001b[0m eta \u001b[36m0:00:00\u001b[0m\r\n",
      "\u001b[?25hRequirement already satisfied: numpy<2.0.0,>=1.15.4 in /opt/conda/lib/python3.7/site-packages (from laserembeddings==1.1.2) (1.21.6)\r\n",
      "Requirement already satisfied: torch<2.0.0,>=1.0.1.post2 in /opt/conda/lib/python3.7/site-packages (from laserembeddings==1.1.2) (1.11.0+cpu)\r\n",
      "Collecting subword-nmt<0.4.0,>=0.3.6\r\n",
      "  Downloading subword_nmt-0.3.8-py3-none-any.whl (27 kB)\r\n",
      "Requirement already satisfied: six in /opt/conda/lib/python3.7/site-packages (from sacremoses==0.0.35->laserembeddings==1.1.2) (1.15.0)\r\n",
      "Requirement already satisfied: click in /opt/conda/lib/python3.7/site-packages (from sacremoses==0.0.35->laserembeddings==1.1.2) (8.0.4)\r\n",
      "Requirement already satisfied: joblib in /opt/conda/lib/python3.7/site-packages (from sacremoses==0.0.35->laserembeddings==1.1.2) (1.0.1)\r\n",
      "Requirement already satisfied: tqdm in /opt/conda/lib/python3.7/site-packages (from sacremoses==0.0.35->laserembeddings==1.1.2) (4.64.0)\r\n",
      "Requirement already satisfied: mock in /opt/conda/lib/python3.7/site-packages (from subword-nmt<0.4.0,>=0.3.6->laserembeddings==1.1.2) (4.0.3)\r\n",
      "Requirement already satisfied: typing-extensions in /opt/conda/lib/python3.7/site-packages (from torch<2.0.0,>=1.0.1.post2->laserembeddings==1.1.2) (4.3.0)\r\n",
      "Requirement already satisfied: importlib-metadata in /opt/conda/lib/python3.7/site-packages (from click->sacremoses==0.0.35->laserembeddings==1.1.2) (4.12.0)\r\n",
      "Requirement already satisfied: zipp>=0.5 in /opt/conda/lib/python3.7/site-packages (from importlib-metadata->click->sacremoses==0.0.35->laserembeddings==1.1.2) (3.8.0)\r\n",
      "Building wheels for collected packages: sacremoses\r\n",
      "  Building wheel for sacremoses (setup.py) ... \u001b[?25l-\b \b\\\b \b|\b \bdone\r\n",
      "\u001b[?25h  Created wheel for sacremoses: filename=sacremoses-0.0.35-py3-none-any.whl size=883989 sha256=e70b716ff631013c44a26d4821a642555252ae7d4abdc110369690c9043043c4\r\n",
      "  Stored in directory: /root/.cache/pip/wheels/d1/ff/0e/e00ff1e22100702ac8b24e709551ae0fb29db9ffc843510a64\r\n",
      "Successfully built sacremoses\r\n",
      "Installing collected packages: transliterate, subword-nmt, sacremoses, laserembeddings\r\n",
      "  Attempting uninstall: sacremoses\r\n",
      "    Found existing installation: sacremoses 0.0.53\r\n",
      "    Uninstalling sacremoses-0.0.53:\r\n",
      "      Successfully uninstalled sacremoses-0.0.53\r\n",
      "\u001b[31mERROR: pip's dependency resolver does not currently take into account all the packages that are installed. This behaviour is the source of the following dependency conflicts.\r\n",
      "allennlp 2.10.0 requires protobuf==3.20.0, but you have protobuf 3.19.4 which is incompatible.\u001b[0m\u001b[31m\r\n",
      "\u001b[0mSuccessfully installed laserembeddings-1.1.2 sacremoses-0.0.35 subword-nmt-0.3.8 transliterate-1.10.2\r\n",
      "\u001b[33mWARNING: Running pip as the 'root' user can result in broken permissions and conflicting behaviour with the system package manager. It is recommended to use a virtual environment instead: https://pip.pypa.io/warnings/venv\u001b[0m\u001b[33m\r\n",
      "\u001b[0mDownloading models into /opt/conda/lib/python3.7/site-packages/laserembeddings/data\n",
      "\n",
      "✅   Downloaded https://dl.fbaipublicfiles.com/laser/models/93langs.fcodes    \n",
      "✅   Downloaded https://dl.fbaipublicfiles.com/laser/models/93langs.fvocab    \n",
      "✅   Downloaded https://dl.fbaipublicfiles.com/laser/models/bilstm.93langs.2018-12-26.pt    \n",
      "\n",
      "✨ You're all set!\n",
      "/kaggle/input/multilingual-quran-bible-embeddings/mlt_quran_torah_emb.npy\n",
      "/kaggle/input/multilingual-quran-bible-embeddings/__results__.html\n",
      "/kaggle/input/multilingual-quran-bible-embeddings/__notebook__.ipynb\n",
      "/kaggle/input/multilingual-quran-bible-embeddings/__output__.json\n",
      "/kaggle/input/multilingual-quran-bible-embeddings/custom.css\n",
      "/kaggle/input/quran-vs-bible/all-MiniLM-L12-v2_similarities_between_quran_and_torah.csv\n",
      "/kaggle/input/quran-vs-bible/msmarco_similarities_between_quran_and_torah.csv\n",
      "/kaggle/input/quran-vs-bible/google_USE_similarities_between_quran_and_torah.csv\n",
      "/kaggle/input/quran-vs-bible/MiniLM_L6_similarities_between_quran_and_torah.csv\n",
      "/kaggle/input/quran-vs-bible/ensemble_preds_most_sim_pairs_quran_and_old_testament.csv\n",
      "/kaggle/input/quran-vs-bible/mpnet_v2_similarities_between_quran_and_torah.csv\n",
      "/kaggle/input/quran-english/Quran_English.csv\n",
      "/kaggle/input/quran-english/Quran_English_with_Tafseer.csv\n",
      "/kaggle/input/assets/en_bn_quran_tafsir.csv\n",
      "/kaggle/input/assets/93langs.fcodes\n",
      "/kaggle/input/assets/Holy_Quran_mlt_emb.npy\n",
      "/kaggle/input/assets/93langs.fvocab\n",
      "/kaggle/input/assets/en_bn_bukhari_muslim.csv\n",
      "/kaggle/input/assets/bilstm.93langs.2018-12-26.pt\n",
      "/kaggle/input/assets/en_emb_bukhari_muslim.npy\n"
     ]
    }
   ],
   "source": [
    "# This Python 3 environment comes with many helpful analytics libraries installed\n",
    "# It is defined by the kaggle/python Docker image: https://github.com/kaggle/docker-python\n",
    "# For example, here's several helpful packages to load\n",
    "\n",
    "!pip install laserembeddings==1.1.2\n",
    "#!python -m laserembeddings download-models\n",
    "\n",
    "from tqdm.auto import tqdm\n",
    "import re\n",
    "tqdm.pandas()\n",
    "import numpy as np # linear algebra\n",
    "import pandas as pd # data processing, CSV file I/O (e.g. pd.read_csv)\n",
    "\n",
    "from laserembeddings import Laser\n",
    "\n",
    "# Input data files are available in the read-only \"../input/\" directory\n",
    "# For example, running this (by clicking run or pressing Shift+Enter) will list all files under the input directory\n",
    "import sys\n",
    "import os\n",
    "os.system('python -m laserembeddings download-models')\n",
    "\n",
    "for dirname, _, filenames in os.walk('/kaggle/input'):\n",
    "    for filename in filenames:\n",
    "        print(os.path.join(dirname, filename))\n",
    "\n",
    "# You can write up to 20GB to the current directory (/kaggle/working/) that gets preserved as output when you create a version using \"Save & Run All\" \n",
    "# You can also write temporary files to /kaggle/temp/, but they won't be saved outside of the current session"
   ]
  },
  {
   "cell_type": "code",
   "execution_count": 2,
   "id": "ffff5401",
   "metadata": {
    "execution": {
     "iopub.execute_input": "2022-09-05T10:44:58.623434Z",
     "iopub.status.busy": "2022-09-05T10:44:58.622071Z",
     "iopub.status.idle": "2022-09-05T10:44:58.952505Z",
     "shell.execute_reply": "2022-09-05T10:44:58.951315Z"
    },
    "papermill": {
     "duration": 0.33842,
     "end_time": "2022-09-05T10:44:58.954973",
     "exception": false,
     "start_time": "2022-09-05T10:44:58.616553",
     "status": "completed"
    },
    "tags": []
   },
   "outputs": [
    {
     "name": "stdout",
     "output_type": "stream",
     "text": [
      "93langs.fcodes  93langs.fvocab  bilstm.93langs.2018-12-26.pt\r\n"
     ]
    }
   ],
   "source": [
    "ls /opt/conda/lib/python3.7/site-packages/laserembeddings/data"
   ]
  },
  {
   "cell_type": "code",
   "execution_count": 3,
   "id": "031e643f",
   "metadata": {
    "execution": {
     "iopub.execute_input": "2022-09-05T10:44:58.965194Z",
     "iopub.status.busy": "2022-09-05T10:44:58.964594Z",
     "iopub.status.idle": "2022-09-05T10:44:58.974383Z",
     "shell.execute_reply": "2022-09-05T10:44:58.973444Z"
    },
    "papermill": {
     "duration": 0.016642,
     "end_time": "2022-09-05T10:44:58.975950",
     "exception": false,
     "start_time": "2022-09-05T10:44:58.959308",
     "status": "completed"
    },
    "tags": []
   },
   "outputs": [
    {
     "name": "stdout",
     "output_type": "stream",
     "text": [
      "/root/.local/lib/python3.7/site-packages\n"
     ]
    },
    {
     "data": {
      "text/plain": [
       "'/opt/conda/lib/python3.7/site-packages'"
      ]
     },
     "execution_count": 3,
     "metadata": {},
     "output_type": "execute_result"
    }
   ],
   "source": [
    "import site\n",
    "loc = site.getsitepackages() \n",
    "data_path = loc[0]+'/laserembeddings/data'\n",
    "print(site.getusersitepackages()) # String for user-specific package location)\n",
    "loc[0]"
   ]
  },
  {
   "cell_type": "code",
   "execution_count": 4,
   "id": "f7b176d9",
   "metadata": {
    "execution": {
     "iopub.execute_input": "2022-09-05T10:44:58.986851Z",
     "iopub.status.busy": "2022-09-05T10:44:58.986260Z",
     "iopub.status.idle": "2022-09-05T10:44:59.805581Z",
     "shell.execute_reply": "2022-09-05T10:44:59.804385Z"
    },
    "papermill": {
     "duration": 0.82729,
     "end_time": "2022-09-05T10:44:59.807820",
     "exception": false,
     "start_time": "2022-09-05T10:44:58.980530",
     "status": "completed"
    },
    "tags": []
   },
   "outputs": [],
   "source": [
    "def similarity(v1, v2):\n",
    "    n1 = np.linalg.norm(v1)\n",
    "    n2 = np.linalg.norm(v2)\n",
    "    return np.dot(v1, v2) / n1 / n2\n",
    "\n",
    "def pairwise_euclidean_dists(x, y):\n",
    "    dists = -2 * np.matmul(x, y.T)\n",
    "    dists +=  np.sum(x**2, axis=1)[:, np.newaxis]\n",
    "    dists += np.sum(y**2, axis=1)\n",
    "    return  np.sqrt(dists)\n",
    "\n",
    "\n",
    "laser = Laser()"
   ]
  },
  {
   "cell_type": "code",
   "execution_count": 5,
   "id": "918d7b8a",
   "metadata": {
    "execution": {
     "iopub.execute_input": "2022-09-05T10:44:59.817736Z",
     "iopub.status.busy": "2022-09-05T10:44:59.817384Z",
     "iopub.status.idle": "2022-09-05T10:45:00.589794Z",
     "shell.execute_reply": "2022-09-05T10:45:00.588684Z"
    },
    "papermill": {
     "duration": 0.779427,
     "end_time": "2022-09-05T10:45:00.591669",
     "exception": false,
     "start_time": "2022-09-05T10:44:59.812242",
     "status": "completed"
    },
    "tags": []
   },
   "outputs": [
    {
     "data": {
      "text/html": [
       "<div>\n",
       "<style scoped>\n",
       "    .dataframe tbody tr th:only-of-type {\n",
       "        vertical-align: middle;\n",
       "    }\n",
       "\n",
       "    .dataframe tbody tr th {\n",
       "        vertical-align: top;\n",
       "    }\n",
       "\n",
       "    .dataframe thead th {\n",
       "        text-align: right;\n",
       "    }\n",
       "</style>\n",
       "<table border=\"1\" class=\"dataframe\">\n",
       "  <thead>\n",
       "    <tr style=\"text-align: right;\">\n",
       "      <th></th>\n",
       "      <th>t_citation</th>\n",
       "      <th>t_book</th>\n",
       "      <th>t_chapter</th>\n",
       "      <th>t_verse</th>\n",
       "      <th>t_text</th>\n",
       "      <th>q_Name</th>\n",
       "      <th>q_Surah</th>\n",
       "      <th>q_Ayat</th>\n",
       "      <th>q_Verse</th>\n",
       "      <th>similarity_score</th>\n",
       "    </tr>\n",
       "  </thead>\n",
       "  <tbody>\n",
       "    <tr>\n",
       "      <th>0</th>\n",
       "      <td>Jeremiah 51:15</td>\n",
       "      <td>Jeremiah</td>\n",
       "      <td>51</td>\n",
       "      <td>15</td>\n",
       "      <td>He hath made the earth by his power, he hath e...</td>\n",
       "      <td>The Bee</td>\n",
       "      <td>16</td>\n",
       "      <td>3</td>\n",
       "      <td>He hath created the heavens and the earth with...</td>\n",
       "      <td>93</td>\n",
       "    </tr>\n",
       "  </tbody>\n",
       "</table>\n",
       "</div>"
      ],
      "text/plain": [
       "       t_citation    t_book  t_chapter  t_verse  \\\n",
       "0  Jeremiah 51:15  Jeremiah         51       15   \n",
       "\n",
       "                                              t_text   q_Name  q_Surah  \\\n",
       "0  He hath made the earth by his power, he hath e...  The Bee       16   \n",
       "\n",
       "   q_Ayat                                            q_Verse  similarity_score  \n",
       "0       3  He hath created the heavens and the earth with...                93  "
      ]
     },
     "execution_count": 5,
     "metadata": {},
     "output_type": "execute_result"
    }
   ],
   "source": [
    "sim_quran_torah = pd.read_csv('../input/quran-vs-bible/ensemble_preds_most_sim_pairs_quran_and_old_testament.csv')\n",
    "corpus_emb = np.load('../input/multilingual-quran-bible-embeddings/mlt_quran_torah_emb.npy')\n",
    "sim_quran_torah.head(1)"
   ]
  },
  {
   "cell_type": "code",
   "execution_count": 6,
   "id": "4cbd1e9e",
   "metadata": {
    "execution": {
     "iopub.execute_input": "2022-09-05T10:45:00.602360Z",
     "iopub.status.busy": "2022-09-05T10:45:00.602051Z",
     "iopub.status.idle": "2022-09-05T10:45:00.615349Z",
     "shell.execute_reply": "2022-09-05T10:45:00.614328Z"
    },
    "papermill": {
     "duration": 0.02081,
     "end_time": "2022-09-05T10:45:00.617031",
     "exception": false,
     "start_time": "2022-09-05T10:45:00.596221",
     "status": "completed"
    },
    "tags": []
   },
   "outputs": [],
   "source": [
    "def Multilingual_Quran_Bible_Search_Engine(query,size=10,language = 'en',metric = 'dot'):\n",
    "\n",
    "    query_embedding = laser.embed_sentences(query, lang=language)\n",
    "\n",
    "    if(metric == 'dot'):\n",
    "        query_embedding = np.squeeze(np.asarray(query_embedding))\n",
    "        linear_similarities = similarity(corpus_emb, query_embedding)\n",
    "    else:\n",
    "        linear_similarities = pairwise_euclidean_dists(corpus_emb, query_embedding)\n",
    "        linear_similarities = np.squeeze(np.asarray(linear_similarities))\n",
    "        linear_similarities = np.array(linear_similarities, dtype=np.float32)\n",
    "\n",
    "    if(metric == 'dot'):\n",
    "        Top_index_doc = linear_similarities.argsort()[:-(size+1):-1]\n",
    "    else:\n",
    "        Top_index_doc = linear_similarities.argsort()[:-(size+1):]\n",
    "        Top_index_doc = Top_index_doc[:size]\n",
    "\n",
    "  \n",
    "    linear_similarities.sort()\n",
    "    find = pd.DataFrame()\n",
    "    for i,index in enumerate(Top_index_doc):\n",
    "        find.loc[i,'t_citation'] = str(sim_quran_torah['t_citation'][index])\n",
    "        find.loc[i,'t_book'] = str(sim_quran_torah['t_book'][index])\n",
    "        find.loc[i,'t_chapter'] = str(sim_quran_torah['t_chapter'][index])\n",
    "        find.loc[i,'t_verse'] = str(sim_quran_torah['t_verse'][index]) \n",
    "        find.loc[i,'t_text'] = str(sim_quran_torah['t_text'][index]) \n",
    "        \n",
    "        find.loc[i,'q_Name'] = str(sim_quran_torah['q_Name'][index])\n",
    "        find.loc[i,'q_Surah'] = str(sim_quran_torah['q_Surah'][index])\n",
    "        find.loc[i,'q_Ayat'] = str(sim_quran_torah['q_Ayat'][index])\n",
    "        find.loc[i,'q_Verse'] = str(sim_quran_torah['q_Verse'][index])\n",
    "        find.loc[i,'similarity_score'] = str(sim_quran_torah['similarity_score'][index])\n",
    "\n",
    "    for j,simScore in enumerate(linear_similarities[:-(size+1):-1]):\n",
    "        find.loc[j,'Score'] = simScore\n",
    "  \n",
    "    return find"
   ]
  },
  {
   "cell_type": "code",
   "execution_count": 7,
   "id": "53a5a7a9",
   "metadata": {
    "execution": {
     "iopub.execute_input": "2022-09-05T10:45:00.627919Z",
     "iopub.status.busy": "2022-09-05T10:45:00.627593Z",
     "iopub.status.idle": "2022-09-05T10:45:01.000572Z",
     "shell.execute_reply": "2022-09-05T10:45:00.999605Z"
    },
    "papermill": {
     "duration": 0.382136,
     "end_time": "2022-09-05T10:45:01.004059",
     "exception": false,
     "start_time": "2022-09-05T10:45:00.621923",
     "status": "completed"
    },
    "tags": []
   },
   "outputs": [
    {
     "name": "stdout",
     "output_type": "stream",
     "text": [
      "CPU times: user 381 ms, sys: 111 ms, total: 492 ms\n",
      "Wall time: 368 ms\n"
     ]
    }
   ],
   "source": [
    "%%time\n",
    "find = Multilingual_Quran_Bible_Search_Engine(\"who is near to allah?\",size=2,language = 'en',metric = 'l2')"
   ]
  },
  {
   "cell_type": "code",
   "execution_count": 8,
   "id": "897591f2",
   "metadata": {
    "execution": {
     "iopub.execute_input": "2022-09-05T10:45:01.019377Z",
     "iopub.status.busy": "2022-09-05T10:45:01.018275Z",
     "iopub.status.idle": "2022-09-05T10:45:01.039081Z",
     "shell.execute_reply": "2022-09-05T10:45:01.038280Z"
    },
    "papermill": {
     "duration": 0.030574,
     "end_time": "2022-09-05T10:45:01.041612",
     "exception": false,
     "start_time": "2022-09-05T10:45:01.011038",
     "status": "completed"
    },
    "tags": []
   },
   "outputs": [
    {
     "data": {
      "text/html": [
       "<div>\n",
       "<style scoped>\n",
       "    .dataframe tbody tr th:only-of-type {\n",
       "        vertical-align: middle;\n",
       "    }\n",
       "\n",
       "    .dataframe tbody tr th {\n",
       "        vertical-align: top;\n",
       "    }\n",
       "\n",
       "    .dataframe thead th {\n",
       "        text-align: right;\n",
       "    }\n",
       "</style>\n",
       "<table border=\"1\" class=\"dataframe\">\n",
       "  <thead>\n",
       "    <tr style=\"text-align: right;\">\n",
       "      <th></th>\n",
       "      <th>t_citation</th>\n",
       "      <th>t_book</th>\n",
       "      <th>t_chapter</th>\n",
       "      <th>t_verse</th>\n",
       "      <th>t_text</th>\n",
       "      <th>q_Name</th>\n",
       "      <th>q_Surah</th>\n",
       "      <th>q_Ayat</th>\n",
       "      <th>q_Verse</th>\n",
       "      <th>similarity_score</th>\n",
       "      <th>Score</th>\n",
       "    </tr>\n",
       "  </thead>\n",
       "  <tbody>\n",
       "    <tr>\n",
       "      <th>0</th>\n",
       "      <td>Job 11:7</td>\n",
       "      <td>Job</td>\n",
       "      <td>11</td>\n",
       "      <td>7</td>\n",
       "      <td>Canst thou by searching find out God? canst th...</td>\n",
       "      <td>The Criterion</td>\n",
       "      <td>25</td>\n",
       "      <td>43</td>\n",
       "      <td>Hast thou seen him who chooseth for his god hi...</td>\n",
       "      <td>89</td>\n",
       "      <td>0.805662</td>\n",
       "    </tr>\n",
       "    <tr>\n",
       "      <th>1</th>\n",
       "      <td>Psalms 78:10</td>\n",
       "      <td>Psalms</td>\n",
       "      <td>78</td>\n",
       "      <td>10</td>\n",
       "      <td>They kept not the covenant of God, and refused...</td>\n",
       "      <td>The Ascending Stairways</td>\n",
       "      <td>70</td>\n",
       "      <td>32</td>\n",
       "      <td>And those who keep their pledges and their cov...</td>\n",
       "      <td>78</td>\n",
       "      <td>0.782018</td>\n",
       "    </tr>\n",
       "  </tbody>\n",
       "</table>\n",
       "</div>"
      ],
      "text/plain": [
       "     t_citation  t_book t_chapter t_verse  \\\n",
       "0      Job 11:7     Job        11       7   \n",
       "1  Psalms 78:10  Psalms        78      10   \n",
       "\n",
       "                                              t_text                   q_Name  \\\n",
       "0  Canst thou by searching find out God? canst th...            The Criterion   \n",
       "1  They kept not the covenant of God, and refused...  The Ascending Stairways   \n",
       "\n",
       "  q_Surah q_Ayat                                            q_Verse  \\\n",
       "0      25     43  Hast thou seen him who chooseth for his god hi...   \n",
       "1      70     32  And those who keep their pledges and their cov...   \n",
       "\n",
       "  similarity_score     Score  \n",
       "0               89  0.805662  \n",
       "1               78  0.782018  "
      ]
     },
     "execution_count": 8,
     "metadata": {},
     "output_type": "execute_result"
    }
   ],
   "source": [
    "find"
   ]
  },
  {
   "cell_type": "code",
   "execution_count": 9,
   "id": "2fc62ee1",
   "metadata": {
    "execution": {
     "iopub.execute_input": "2022-09-05T10:45:01.056558Z",
     "iopub.status.busy": "2022-09-05T10:45:01.056234Z",
     "iopub.status.idle": "2022-09-05T10:45:01.195516Z",
     "shell.execute_reply": "2022-09-05T10:45:01.194594Z"
    },
    "papermill": {
     "duration": 0.149037,
     "end_time": "2022-09-05T10:45:01.197849",
     "exception": false,
     "start_time": "2022-09-05T10:45:01.048812",
     "status": "completed"
    },
    "tags": []
   },
   "outputs": [
    {
     "name": "stdout",
     "output_type": "stream",
     "text": [
      "CPU times: user 233 ms, sys: 114 ms, total: 347 ms\n",
      "Wall time: 119 ms\n"
     ]
    },
    {
     "data": {
      "text/html": [
       "<div>\n",
       "<style scoped>\n",
       "    .dataframe tbody tr th:only-of-type {\n",
       "        vertical-align: middle;\n",
       "    }\n",
       "\n",
       "    .dataframe tbody tr th {\n",
       "        vertical-align: top;\n",
       "    }\n",
       "\n",
       "    .dataframe thead th {\n",
       "        text-align: right;\n",
       "    }\n",
       "</style>\n",
       "<table border=\"1\" class=\"dataframe\">\n",
       "  <thead>\n",
       "    <tr style=\"text-align: right;\">\n",
       "      <th></th>\n",
       "      <th>t_citation</th>\n",
       "      <th>t_book</th>\n",
       "      <th>t_chapter</th>\n",
       "      <th>t_verse</th>\n",
       "      <th>t_text</th>\n",
       "      <th>q_Name</th>\n",
       "      <th>q_Surah</th>\n",
       "      <th>q_Ayat</th>\n",
       "      <th>q_Verse</th>\n",
       "      <th>similarity_score</th>\n",
       "      <th>Score</th>\n",
       "    </tr>\n",
       "  </thead>\n",
       "  <tbody>\n",
       "    <tr>\n",
       "      <th>0</th>\n",
       "      <td>Psalms 35:12</td>\n",
       "      <td>Psalms</td>\n",
       "      <td>35</td>\n",
       "      <td>12</td>\n",
       "      <td>They rewarded me evil for good to the spoiling...</td>\n",
       "      <td>The Tidings</td>\n",
       "      <td>78</td>\n",
       "      <td>26</td>\n",
       "      <td>Reward proportioned (to their evil deeds).</td>\n",
       "      <td>76</td>\n",
       "      <td>0.787434</td>\n",
       "    </tr>\n",
       "    <tr>\n",
       "      <th>1</th>\n",
       "      <td>Job 28:12</td>\n",
       "      <td>Job</td>\n",
       "      <td>28</td>\n",
       "      <td>12</td>\n",
       "      <td>But where shall wisdom be found? and where is ...</td>\n",
       "      <td>Yâ Sîn</td>\n",
       "      <td>36</td>\n",
       "      <td>23</td>\n",
       "      <td>Shall I take (other) gods in place of Him when...</td>\n",
       "      <td>77</td>\n",
       "      <td>0.771004</td>\n",
       "    </tr>\n",
       "    <tr>\n",
       "      <th>2</th>\n",
       "      <td>Hosea 2:14</td>\n",
       "      <td>Hosea</td>\n",
       "      <td>2</td>\n",
       "      <td>14</td>\n",
       "      <td>Therefore, behold, I will allure her, and brin...</td>\n",
       "      <td>The Calamity</td>\n",
       "      <td>101</td>\n",
       "      <td>10</td>\n",
       "      <td>Ah, what will convey unto thee what she is! -</td>\n",
       "      <td>73</td>\n",
       "      <td>0.753783</td>\n",
       "    </tr>\n",
       "    <tr>\n",
       "      <th>3</th>\n",
       "      <td>Song of Solomon 8:3</td>\n",
       "      <td>Song of Solomon</td>\n",
       "      <td>8</td>\n",
       "      <td>3</td>\n",
       "      <td>His left hand should be under my head, and his...</td>\n",
       "      <td>The Event</td>\n",
       "      <td>56</td>\n",
       "      <td>9</td>\n",
       "      <td>And (then) those on the left hand; what of tho...</td>\n",
       "      <td>80</td>\n",
       "      <td>0.740025</td>\n",
       "    </tr>\n",
       "    <tr>\n",
       "      <th>4</th>\n",
       "      <td>Proverbs 24:22</td>\n",
       "      <td>Proverbs</td>\n",
       "      <td>24</td>\n",
       "      <td>22</td>\n",
       "      <td>For their calamity shall rise suddenly; and wh...</td>\n",
       "      <td>The Calamity</td>\n",
       "      <td>101</td>\n",
       "      <td>3</td>\n",
       "      <td>Ah, what will convey unto thee what the Calami...</td>\n",
       "      <td>71</td>\n",
       "      <td>0.715760</td>\n",
       "    </tr>\n",
       "  </tbody>\n",
       "</table>\n",
       "</div>"
      ],
      "text/plain": [
       "            t_citation           t_book t_chapter t_verse  \\\n",
       "0         Psalms 35:12           Psalms        35      12   \n",
       "1            Job 28:12              Job        28      12   \n",
       "2           Hosea 2:14            Hosea         2      14   \n",
       "3  Song of Solomon 8:3  Song of Solomon         8       3   \n",
       "4       Proverbs 24:22         Proverbs        24      22   \n",
       "\n",
       "                                              t_text        q_Name q_Surah  \\\n",
       "0  They rewarded me evil for good to the spoiling...   The Tidings      78   \n",
       "1  But where shall wisdom be found? and where is ...        Yâ Sîn      36   \n",
       "2  Therefore, behold, I will allure her, and brin...  The Calamity     101   \n",
       "3  His left hand should be under my head, and his...     The Event      56   \n",
       "4  For their calamity shall rise suddenly; and wh...  The Calamity     101   \n",
       "\n",
       "  q_Ayat                                            q_Verse similarity_score  \\\n",
       "0     26         Reward proportioned (to their evil deeds).               76   \n",
       "1     23  Shall I take (other) gods in place of Him when...               77   \n",
       "2     10      Ah, what will convey unto thee what she is! -               73   \n",
       "3      9  And (then) those on the left hand; what of tho...               80   \n",
       "4      3  Ah, what will convey unto thee what the Calami...               71   \n",
       "\n",
       "      Score  \n",
       "0  0.787434  \n",
       "1  0.771004  \n",
       "2  0.753783  \n",
       "3  0.740025  \n",
       "4  0.715760  "
      ]
     },
     "execution_count": 9,
     "metadata": {},
     "output_type": "execute_result"
    }
   ],
   "source": [
    "%%time\n",
    "find = Multilingual_Quran_Bible_Search_Engine(\"আমি কি পুরস্কার পেতে পারি?\",size=5,language = 'bn',metric = 'l2')\n",
    "find"
   ]
  },
  {
   "cell_type": "code",
   "execution_count": null,
   "id": "1fcad46a",
   "metadata": {
    "papermill": {
     "duration": 0.006299,
     "end_time": "2022-09-05T10:45:01.211291",
     "exception": false,
     "start_time": "2022-09-05T10:45:01.204992",
     "status": "completed"
    },
    "tags": []
   },
   "outputs": [],
   "source": []
  },
  {
   "cell_type": "code",
   "execution_count": null,
   "id": "43ab4793",
   "metadata": {
    "papermill": {
     "duration": 0.006433,
     "end_time": "2022-09-05T10:45:01.224537",
     "exception": false,
     "start_time": "2022-09-05T10:45:01.218104",
     "status": "completed"
    },
    "tags": []
   },
   "outputs": [],
   "source": []
  }
 ],
 "metadata": {
  "kernelspec": {
   "display_name": "Python 3",
   "language": "python",
   "name": "python3"
  },
  "language_info": {
   "codemirror_mode": {
    "name": "ipython",
    "version": 3
   },
   "file_extension": ".py",
   "mimetype": "text/x-python",
   "name": "python",
   "nbconvert_exporter": "python",
   "pygments_lexer": "ipython3",
   "version": "3.7.12"
  },
  "papermill": {
   "default_parameters": {},
   "duration": 32.182736,
   "end_time": "2022-09-05T10:45:01.951618",
   "environment_variables": {},
   "exception": null,
   "input_path": "__notebook__.ipynb",
   "output_path": "__notebook__.ipynb",
   "parameters": {},
   "start_time": "2022-09-05T10:44:29.768882",
   "version": "2.3.4"
  }
 },
 "nbformat": 4,
 "nbformat_minor": 5
}

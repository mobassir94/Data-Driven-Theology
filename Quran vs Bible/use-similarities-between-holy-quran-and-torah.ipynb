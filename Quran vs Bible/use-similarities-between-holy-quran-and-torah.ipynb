{
 "cells": [
  {
   "cell_type": "code",
   "execution_count": 1,
   "id": "7459d27a",
   "metadata": {
    "_cell_guid": "b1076dfc-b9ad-4769-8c92-a6c4dae69d19",
    "_uuid": "8f2839f25d086af736a60e9eeb907d3b93b6e0e5",
    "execution": {
     "iopub.execute_input": "2022-09-03T11:26:49.596063Z",
     "iopub.status.busy": "2022-09-03T11:26:49.595243Z",
     "iopub.status.idle": "2022-09-03T11:36:47.639573Z",
     "shell.execute_reply": "2022-09-03T11:36:47.638332Z"
    },
    "papermill": {
     "duration": 598.056348,
     "end_time": "2022-09-03T11:36:47.641999",
     "exception": false,
     "start_time": "2022-09-03T11:26:49.585651",
     "status": "completed"
    },
    "tags": []
   },
   "outputs": [
    {
     "name": "stdout",
     "output_type": "stream",
     "text": [
      "Collecting package metadata (current_repodata.json): - \b\b\\ \b\b| \b\b/ \b\b- \b\b\\ \b\b| \b\b/ \b\b- \b\b\\ \b\b| \b\b/ \b\b- \b\b\\ \b\b| \b\b/ \b\b- \b\b\\ \b\b| \b\b/ \b\b- \b\b\\ \b\b| \b\b/ \b\b- \b\b\\ \b\b| \b\b/ \b\b- \b\b\\ \b\b| \b\b/ \b\b- \b\b\\ \b\b| \b\b/ \b\b- \b\b\\ \b\b| \b\b/ \b\b- \b\b\\ \b\b| \b\b/ \b\b- \b\b\\ \b\b| \b\b/ \b\b- \b\b\\ \b\b| \b\b/ \b\b- \b\b\\ \b\b| \b\b/ \b\b- \b\b\\ \b\b| \b\b/ \b\b- \b\b\\ \b\b| \b\b/ \b\b- \b\b\\ \b\b| \b\b/ \b\b- \b\b\\ \b\b| \b\b/ \b\b- \b\b\\ \b\b| \b\b/ \b\b- \b\b\\ \b\b| \b\b/ \b\b- \b\b\\ \b\b| \b\b/ \b\b- \b\b\\ \b\b| \b\b/ \b\b- \b\b\\ \b\b| \b\b/ \b\b- \b\b\\ \b\b| \b\b/ \b\b- \b\b\\ \b\b| \b\b/ \b\b- \b\b\\ \b\b| \b\b/ \b\b- \b\b\\ \b\b| \b\b/ \b\b- \b\b\\ \b\b| \b\b/ \b\b- \b\b\\ \b\b| \b\b/ \b\b- \b\b\\ \b\b| \b\b/ \b\b- \b\b\\ \b\b| \b\b/ \b\b- \b\b\\ \b\b| \b\b/ \b\b- \b\b\\ \b\b| \b\b/ \b\b- \b\b\\ \b\b| \b\b/ \b\b- \b\b\\ \b\b| \b\b/ \b\b- \b\b\\ \b\b| \b\b/ \b\b- \b\b\\ \b\b| \b\b/ \b\b- \b\b\\ \b\b| \b\b/ \b\b- \b\b\\ \b\b| \b\b/ \b\b- \b\b\\ \b\b| \b\b/ \b\b- \b\b\\ \b\b| \b\b/ \b\b- \b\b\\ \b\b| \b\b/ \b\b- \b\b\\ \b\b| \b\b/ \b\b- \b\b\\ \b\b| \b\b/ \b\b- \b\b\\ \b\b| \b\b/ \b\b- \b\b\\ \b\b| \b\b/ \b\b- \b\b\\ \b\b| \b\b/ \b\b- \b\b\\ \b\b| \b\b/ \b\b- \b\b\\ \b\b| \b\b/ \b\b- \b\b\\ \b\b| \b\b/ \b\b- \b\b\\ \b\b| \b\b/ \b\b- \b\b\\ \b\b| \b\b/ \b\bdone\r\n",
      "Solving environment: \\ \b\b| \b\b/ \b\b- \b\b\\ \b\b| \b\b/ \b\b- \b\b\\ \b\b| \b\b/ \b\b- \b\b\\ \b\b| \b\b/ \b\b- \b\b\\ \b\b| \b\b/ \b\b- \b\b\\ \b\b| \b\b/ \b\b- \b\b\\ \b\b| \b\b/ \b\b- \b\b\\ \b\b| \b\b/ \b\b- \b\b\\ \b\b| \b\b/ \b\b- \b\b\\ \b\b| \b\b/ \b\b- \b\b\\ \b\b| \b\b/ \b\b- \b\b\\ \b\b| \b\b/ \b\b- \b\b\\ \b\b| \b\b/ \b\b- \b\b\\ \b\b| \b\b/ \b\b- \b\b\\ \b\b| \b\b/ \b\b- \b\b\\ \b\b| \b\b/ \b\b- \b\b\\ \b\b| \b\b/ \b\b- \b\b\\ \b\b| \b\b/ \b\b- \b\b\\ \b\b| \b\b/ \b\b- \b\b\\ \b\b| \b\b/ \b\b- \b\b\\ \b\b| \b\b/ \b\b- \b\b\\ \b\b| \b\b/ \b\b- \b\b\\ \b\b| \b\b/ \b\b- \b\b\\ \b\b| \b\b/ \b\b- \b\b\\ \b\b| \b\b/ \b\b- \b\b\\ \b\b| \b\b/ \b\b- \b\b\\ \b\b| \b\b/ \b\b- \b\b\\ \b\b| \b\b/ \b\b- \b\b\\ \b\b| \b\b/ \b\b- \b\b\\ \b\b| \b\b/ \b\b- \b\b\\ \b\b| \b\b/ \b\b- \b\b\\ \b\b| \b\b/ \b\b- \b\b\\ \b\b| \b\b/ \b\b- \b\b\\ \b\b| \b\b/ \b\b- \b\b\\ \b\b| \b\b/ \b\b- \b\b\\ \b\b| \b\b/ \b\b- \b\b\\ \b\b| \b\b/ \b\b- \b\b\\ \b\b| \b\b/ \b\b- \b\b\\ \b\bdone\r\n",
      "\r\n",
      "## Package Plan ##\r\n",
      "\r\n",
      "  environment location: /opt/conda\r\n",
      "\r\n",
      "  added / updated specs:\r\n",
      "    - cuda\r\n",
      "\r\n",
      "\r\n",
      "The following packages will be downloaded:\r\n",
      "\r\n",
      "    package                    |            build\r\n",
      "    ---------------------------|-----------------\r\n",
      "    certifi-2022.6.15          |     pyhd8ed1ab_1         154 KB  conda-forge\r\n",
      "    cuda-11.7.1                |                0           1 KB  nvidia\r\n",
      "    cuda-cccl-11.7.91          |                0         1.2 MB  nvidia\r\n",
      "    cuda-command-line-tools-11.7.1|                0           1 KB  nvidia\r\n",
      "    cuda-compiler-11.7.1       |                0           1 KB  nvidia\r\n",
      "    cuda-cudart-11.7.99        |                0         194 KB  nvidia\r\n",
      "    cuda-cudart-dev-11.7.99    |                0         1.1 MB  nvidia\r\n",
      "    cuda-cuobjdump-11.7.91     |                0         158 KB  nvidia\r\n",
      "    cuda-cupti-11.7.101        |                0        22.9 MB  nvidia\r\n",
      "    cuda-cuxxfilt-11.7.91      |                0         293 KB  nvidia\r\n",
      "    cuda-demo-suite-11.7.91    |                0         4.9 MB  nvidia\r\n",
      "    cuda-documentation-11.7.91 |                0          88 KB  nvidia\r\n",
      "    cuda-driver-dev-11.7.99    |                0          16 KB  nvidia\r\n",
      "    cuda-gdb-11.7.91           |                0         4.8 MB  nvidia\r\n",
      "    cuda-libraries-11.7.1      |                0           1 KB  nvidia\r\n",
      "    cuda-libraries-dev-11.7.1  |                0           2 KB  nvidia\r\n",
      "    cuda-memcheck-11.7.91      |                0         168 KB  nvidia\r\n",
      "    cuda-nsight-11.7.91        |                0       113.6 MB  nvidia\r\n",
      "    cuda-nsight-compute-11.7.1 |                0           1 KB  nvidia\r\n",
      "    cuda-nvcc-11.7.99          |                0        42.7 MB  nvidia\r\n",
      "    cuda-nvdisasm-11.7.91      |                0        31.5 MB  nvidia\r\n",
      "    cuda-nvml-dev-11.7.91      |                0          80 KB  nvidia\r\n",
      "    cuda-nvprof-11.7.101       |                0         4.3 MB  nvidia\r\n",
      "    cuda-nvprune-11.7.91       |                0          64 KB  nvidia\r\n",
      "    cuda-nvrtc-11.7.99         |                0        17.3 MB  nvidia\r\n",
      "    cuda-nvrtc-dev-11.7.99     |                0        16.9 MB  nvidia\r\n",
      "    cuda-nvtx-11.7.91          |                0          57 KB  nvidia\r\n",
      "    cuda-nvvp-11.7.101         |                0       114.3 MB  nvidia\r\n",
      "    cuda-runtime-11.7.1        |                0           1 KB  nvidia\r\n",
      "    cuda-sanitizer-api-11.7.91 |                0        16.8 MB  nvidia\r\n",
      "    cuda-toolkit-11.7.1        |                0           1 KB  nvidia\r\n",
      "    cuda-tools-11.7.1          |                0           1 KB  nvidia\r\n",
      "    cuda-visual-tools-11.7.1   |                0           1 KB  nvidia\r\n",
      "    gds-tools-1.3.1.18         |                0           2 KB  nvidia\r\n",
      "    libcublas-11.10.3.66       |                0       286.1 MB  nvidia\r\n",
      "    libcublas-dev-11.10.3.66   |                0       296.4 MB  nvidia\r\n",
      "    libcufft-10.7.2.124        |       h4fbf590_0        93.6 MB  nvidia\r\n",
      "    libcufft-dev-10.7.2.124    |       h98a8f43_0       197.3 MB  nvidia\r\n",
      "    libcufile-1.3.1.18         |                0         545 KB  nvidia\r\n",
      "    libcufile-dev-1.3.1.18     |                0        12.4 MB  nvidia\r\n",
      "    libcurand-10.2.10.91       |                0        50.3 MB  nvidia\r\n",
      "    libcurand-dev-10.2.10.91   |                0        50.7 MB  nvidia\r\n",
      "    libcusolver-11.4.0.1       |                0        78.7 MB  nvidia\r\n",
      "    libcusolver-dev-11.4.0.1   |                0        55.9 MB  nvidia\r\n",
      "    libcusparse-11.7.4.91      |                0       151.1 MB  nvidia\r\n",
      "    libcusparse-dev-11.7.4.91  |                0       309.5 MB  nvidia\r\n",
      "    libnpp-11.7.4.75           |                0       129.3 MB  nvidia\r\n",
      "    libnpp-dev-11.7.4.75       |                0       126.6 MB  nvidia\r\n",
      "    libnvjpeg-11.8.0.2         |                0         2.2 MB  nvidia\r\n",
      "    libnvjpeg-dev-11.8.0.2     |                0         1.9 MB  nvidia\r\n",
      "    nsight-compute-2022.2.1.3  |                0       461.4 MB  nvidia\r\n",
      "    ------------------------------------------------------------\r\n",
      "                                           Total:        2.63 GB\r\n",
      "\r\n",
      "The following NEW packages will be INSTALLED:\r\n",
      "\r\n",
      "  cuda               nvidia/linux-64::cuda-11.7.1-0\r\n",
      "  cuda-cccl          nvidia/linux-64::cuda-cccl-11.7.91-0\r\n",
      "  cuda-command-line~ nvidia/linux-64::cuda-command-line-tools-11.7.1-0\r\n",
      "  cuda-compiler      nvidia/linux-64::cuda-compiler-11.7.1-0\r\n",
      "  cuda-cudart        nvidia/linux-64::cuda-cudart-11.7.99-0\r\n",
      "  cuda-cudart-dev    nvidia/linux-64::cuda-cudart-dev-11.7.99-0\r\n",
      "  cuda-cuobjdump     nvidia/linux-64::cuda-cuobjdump-11.7.91-0\r\n",
      "  cuda-cupti         nvidia/linux-64::cuda-cupti-11.7.101-0\r\n",
      "  cuda-cuxxfilt      nvidia/linux-64::cuda-cuxxfilt-11.7.91-0\r\n",
      "  cuda-demo-suite    nvidia/linux-64::cuda-demo-suite-11.7.91-0\r\n",
      "  cuda-documentation nvidia/linux-64::cuda-documentation-11.7.91-0\r\n",
      "  cuda-driver-dev    nvidia/linux-64::cuda-driver-dev-11.7.99-0\r\n",
      "  cuda-gdb           nvidia/linux-64::cuda-gdb-11.7.91-0\r\n",
      "  cuda-libraries     nvidia/linux-64::cuda-libraries-11.7.1-0\r\n",
      "  cuda-libraries-dev nvidia/linux-64::cuda-libraries-dev-11.7.1-0\r\n",
      "  cuda-memcheck      nvidia/linux-64::cuda-memcheck-11.7.91-0\r\n",
      "  cuda-nsight        nvidia/linux-64::cuda-nsight-11.7.91-0\r\n",
      "  cuda-nsight-compu~ nvidia/linux-64::cuda-nsight-compute-11.7.1-0\r\n",
      "  cuda-nvcc          nvidia/linux-64::cuda-nvcc-11.7.99-0\r\n",
      "  cuda-nvdisasm      nvidia/linux-64::cuda-nvdisasm-11.7.91-0\r\n",
      "  cuda-nvml-dev      nvidia/linux-64::cuda-nvml-dev-11.7.91-0\r\n",
      "  cuda-nvprof        nvidia/linux-64::cuda-nvprof-11.7.101-0\r\n",
      "  cuda-nvprune       nvidia/linux-64::cuda-nvprune-11.7.91-0\r\n",
      "  cuda-nvrtc         nvidia/linux-64::cuda-nvrtc-11.7.99-0\r\n",
      "  cuda-nvrtc-dev     nvidia/linux-64::cuda-nvrtc-dev-11.7.99-0\r\n",
      "  cuda-nvtx          nvidia/linux-64::cuda-nvtx-11.7.91-0\r\n",
      "  cuda-nvvp          nvidia/linux-64::cuda-nvvp-11.7.101-0\r\n",
      "  cuda-runtime       nvidia/linux-64::cuda-runtime-11.7.1-0\r\n",
      "  cuda-sanitizer-api nvidia/linux-64::cuda-sanitizer-api-11.7.91-0\r\n",
      "  cuda-toolkit       nvidia/linux-64::cuda-toolkit-11.7.1-0\r\n",
      "  cuda-tools         nvidia/linux-64::cuda-tools-11.7.1-0\r\n",
      "  cuda-visual-tools  nvidia/linux-64::cuda-visual-tools-11.7.1-0\r\n",
      "  gds-tools          nvidia/linux-64::gds-tools-1.3.1.18-0\r\n",
      "  libcublas          nvidia/linux-64::libcublas-11.10.3.66-0\r\n",
      "  libcublas-dev      nvidia/linux-64::libcublas-dev-11.10.3.66-0\r\n",
      "  libcufft           nvidia/linux-64::libcufft-10.7.2.124-h4fbf590_0\r\n",
      "  libcufft-dev       nvidia/linux-64::libcufft-dev-10.7.2.124-h98a8f43_0\r\n",
      "  libcufile          nvidia/linux-64::libcufile-1.3.1.18-0\r\n",
      "  libcufile-dev      nvidia/linux-64::libcufile-dev-1.3.1.18-0\r\n",
      "  libcurand          nvidia/linux-64::libcurand-10.2.10.91-0\r\n",
      "  libcurand-dev      nvidia/linux-64::libcurand-dev-10.2.10.91-0\r\n",
      "  libcusolver        nvidia/linux-64::libcusolver-11.4.0.1-0\r\n",
      "  libcusolver-dev    nvidia/linux-64::libcusolver-dev-11.4.0.1-0\r\n",
      "  libcusparse        nvidia/linux-64::libcusparse-11.7.4.91-0\r\n",
      "  libcusparse-dev    nvidia/linux-64::libcusparse-dev-11.7.4.91-0\r\n",
      "  libnpp             nvidia/linux-64::libnpp-11.7.4.75-0\r\n",
      "  libnpp-dev         nvidia/linux-64::libnpp-dev-11.7.4.75-0\r\n",
      "  libnvjpeg          nvidia/linux-64::libnvjpeg-11.8.0.2-0\r\n",
      "  libnvjpeg-dev      nvidia/linux-64::libnvjpeg-dev-11.8.0.2-0\r\n",
      "  nsight-compute     nvidia/linux-64::nsight-compute-2022.2.1.3-0\r\n",
      "\r\n",
      "The following packages will be UPDATED:\r\n",
      "\r\n",
      "  certifi            conda-forge/linux-64::certifi-2022.6.~ --> conda-forge/noarch::certifi-2022.6.15-pyhd8ed1ab_1\r\n",
      "\r\n",
      "\r\n",
      "\r\n",
      "Downloading and Extracting Packages\r\n",
      "cuda-driver-dev-11.7 | 16 KB     | ##################################### | 100% \r\n",
      "cuda-nvprof-11.7.101 | 4.3 MB    | ##################################### | 100% \r\n",
      "cuda-nvdisasm-11.7.9 | 31.5 MB   | ##################################### | 100% \r\n",
      "cuda-nvrtc-11.7.99   | 17.3 MB   | ##################################### | 100% \r\n",
      "cuda-sanitizer-api-1 | 16.8 MB   | ##################################### | 100% \r\n",
      "cuda-nvprune-11.7.91 | 64 KB     | ##################################### | 100% \r\n",
      "cuda-cudart-dev-11.7 | 1.1 MB    | ##################################### | 100% \r\n",
      "cuda-cupti-11.7.101  | 22.9 MB   | ##################################### | 100% \r\n",
      "cuda-cccl-11.7.91    | 1.2 MB    | ##################################### | 100% \r\n",
      "certifi-2022.6.15    | 154 KB    | ##################################### | 100% \r\n",
      "libcusparse-11.7.4.9 | 151.1 MB  | ##################################### | 100% \r\n",
      "libcusolver-11.4.0.1 | 78.7 MB   | ##################################### | 100% \r\n",
      "cuda-nvtx-11.7.91    | 57 KB     | ##################################### | 100% \r\n",
      "cuda-nvcc-11.7.99    | 42.7 MB   | ##################################### | 100% \r\n",
      "libnpp-dev-11.7.4.75 | 126.6 MB  | ##################################### | 100% \r\n",
      "cuda-cuxxfilt-11.7.9 | 293 KB    | ##################################### | 100% \r\n",
      "libnvjpeg-dev-11.8.0 | 1.9 MB    | ##################################### | 100% \r\n",
      "cuda-visual-tools-11 | 1 KB      | ##################################### | 100% \r\n",
      "cuda-cudart-11.7.99  | 194 KB    | ##################################### | 100% \r\n",
      "cuda-toolkit-11.7.1  | 1 KB      | ##################################### | 100% \r\n",
      "libnvjpeg-11.8.0.2   | 2.2 MB    | ##################################### | 100% \r\n",
      "libcurand-10.2.10.91 | 50.3 MB   | ##################################### | 100% \r\n",
      "cuda-nvvp-11.7.101   | 114.3 MB  | ##################################### | 100% \r\n",
      "cuda-nvrtc-dev-11.7. | 16.9 MB   | ##################################### | 100% \r\n",
      "libcufile-dev-1.3.1. | 12.4 MB   | ##################################### | 100% \r\n",
      "nsight-compute-2022. | 461.4 MB  | ##################################### | 100% \r\n",
      "libnpp-11.7.4.75     | 129.3 MB  | ##################################### | 100% \r\n",
      "libcublas-dev-11.10. | 296.4 MB  | ##################################### | 100% \r\n",
      "cuda-demo-suite-11.7 | 4.9 MB    | ##################################### | 100% \r\n",
      "libcusparse-dev-11.7 | 309.5 MB  | ##################################### | 100% \r\n",
      "cuda-nvml-dev-11.7.9 | 80 KB     | ##################################### | 100% \r\n",
      "cuda-11.7.1          | 1 KB      | ##################################### | 100% \r\n",
      "gds-tools-1.3.1.18   | 2 KB      | ##################################### | 100% \r\n",
      "libcufft-dev-10.7.2. | 197.3 MB  | ##################################### | 100% \r\n",
      "libcufile-1.3.1.18   | 545 KB    | ##################################### | 100% \r\n",
      "cuda-cuobjdump-11.7. | 158 KB    | ##################################### | 100% \r\n",
      "cuda-command-line-to | 1 KB      | ##################################### | 100% \r\n",
      "cuda-nsight-compute- | 1 KB      | ##################################### | 100% \r\n",
      "libcublas-11.10.3.66 | 286.1 MB  | ##################################### | 100% \r\n",
      "cuda-documentation-1 | 88 KB     | ##################################### | 100% \r\n",
      "cuda-memcheck-11.7.9 | 168 KB    | ##################################### | 100% \r\n",
      "libcufft-10.7.2.124  | 93.6 MB   | ##################################### | 100% \r\n",
      "cuda-tools-11.7.1    | 1 KB      | ##################################### | 100% \r\n",
      "cuda-nsight-11.7.91  | 113.6 MB  | ##################################### | 100% \r\n",
      "libcusolver-dev-11.4 | 55.9 MB   | ##################################### | 100% \r\n",
      "cuda-compiler-11.7.1 | 1 KB      | ##################################### | 100% \r\n",
      "cuda-libraries-11.7. | 1 KB      | ##################################### | 100% \r\n",
      "cuda-gdb-11.7.91     | 4.8 MB    | ##################################### | 100% \r\n",
      "cuda-runtime-11.7.1  | 1 KB      | ##################################### | 100% \r\n",
      "libcurand-dev-10.2.1 | 50.7 MB   | ##################################### | 100% \r\n",
      "cuda-libraries-dev-1 | 2 KB      | ##################################### | 100% \r\n",
      "Preparing transaction: / \b\b- \b\b\\ \b\bdone\r\n",
      "Verifying transaction: / \b\b- \b\b\\ \b\b| \b\b/ \b\b- \b\b\\ \b\b| \b\bdone\r\n",
      "Executing transaction: - \b\b\\ \b\b| \b\b/ \b\b- \b\b\\ \b\b| \b\b/ \b\b- \b\b\\ \b\b| \b\b/ \b\b- \b\b\\ \b\b| \b\b/ \b\b- \b\b\\ \b\b| \b\b/ \b\b- \b\b\\ \b\b| \b\b/ \b\b- \b\b\\ \b\b| \b\b/ \b\b- \b\b\\ \b\b| \b\b/ \b\b- \b\b\\ \b\b| \b\b/ \b\b- \b\b\\ \b\b| \b\b/ \b\b- \b\b\\ \b\b| \b\b/ \b\b- \b\b\\ \b\b| \b\b/ \b\b- \b\b\\ \b\b| \b\b/ \b\b- \b\b\\ \b\b| \b\b/ \b\b- \b\b\\ \b\b| \b\b/ \b\b- \b\b\\ \b\b| \b\b/ \b\b- \b\b\\ \b\b| \b\b/ \b\b- \b\b\\ \b\b| \b\b/ \b\b- \b\b\\ \b\b| \b\b/ \b\b- \b\b\\ \b\b| \b\b/ \b\b- \b\b\\ \b\b| \b\b/ \b\b- \b\b\\ \b\b| \b\b/ \b\b- \b\bdone\r\n",
      "Retrieving notices: ...working... done\r\n",
      "Collecting tensorflow_text\r\n",
      "  Downloading tensorflow_text-2.9.0-cp37-cp37m-manylinux_2_17_x86_64.manylinux2014_x86_64.whl (4.6 MB)\r\n",
      "\u001b[2K     \u001b[90m━━━━━━━━━━━━━━━━━━━━━━━━━━━━━━━━━━━━━━━━\u001b[0m \u001b[32m4.6/4.6 MB\u001b[0m \u001b[31m11.4 MB/s\u001b[0m eta \u001b[36m0:00:00\u001b[0m\r\n",
      "\u001b[?25hCollecting tensorflow<2.10,>=2.9.0\r\n",
      "  Downloading tensorflow-2.9.2-cp37-cp37m-manylinux_2_17_x86_64.manylinux2014_x86_64.whl (511.8 MB)\r\n",
      "\u001b[2K     \u001b[90m━━━━━━━━━━━━━━━━━━━━━━━━━━━━━━━━━━━━━━━\u001b[0m \u001b[32m511.8/511.8 MB\u001b[0m \u001b[31m2.4 MB/s\u001b[0m eta \u001b[36m0:00:00\u001b[0m\r\n",
      "\u001b[?25hRequirement already satisfied: tensorflow-hub>=0.8.0 in /opt/conda/lib/python3.7/site-packages (from tensorflow_text) (0.12.0)\r\n",
      "Requirement already satisfied: protobuf<3.20,>=3.9.2 in /opt/conda/lib/python3.7/site-packages (from tensorflow<2.10,>=2.9.0->tensorflow_text) (3.19.4)\r\n",
      "Requirement already satisfied: astunparse>=1.6.0 in /opt/conda/lib/python3.7/site-packages (from tensorflow<2.10,>=2.9.0->tensorflow_text) (1.6.3)\r\n",
      "Requirement already satisfied: grpcio<2.0,>=1.24.3 in /opt/conda/lib/python3.7/site-packages (from tensorflow<2.10,>=2.9.0->tensorflow_text) (1.43.0)\r\n",
      "Requirement already satisfied: setuptools in /opt/conda/lib/python3.7/site-packages (from tensorflow<2.10,>=2.9.0->tensorflow_text) (59.8.0)\r\n",
      "Requirement already satisfied: gast<=0.4.0,>=0.2.1 in /opt/conda/lib/python3.7/site-packages (from tensorflow<2.10,>=2.9.0->tensorflow_text) (0.4.0)\r\n",
      "Requirement already satisfied: numpy>=1.20 in /opt/conda/lib/python3.7/site-packages (from tensorflow<2.10,>=2.9.0->tensorflow_text) (1.21.6)\r\n",
      "Requirement already satisfied: wrapt>=1.11.0 in /opt/conda/lib/python3.7/site-packages (from tensorflow<2.10,>=2.9.0->tensorflow_text) (1.12.1)\r\n",
      "Requirement already satisfied: packaging in /opt/conda/lib/python3.7/site-packages (from tensorflow<2.10,>=2.9.0->tensorflow_text) (21.3)\r\n",
      "Requirement already satisfied: typing-extensions>=3.6.6 in /opt/conda/lib/python3.7/site-packages (from tensorflow<2.10,>=2.9.0->tensorflow_text) (4.3.0)\r\n",
      "Collecting keras<2.10.0,>=2.9.0rc0\r\n",
      "  Downloading keras-2.9.0-py2.py3-none-any.whl (1.6 MB)\r\n",
      "\u001b[2K     \u001b[90m━━━━━━━━━━━━━━━━━━━━━━━━━━━━━━━━━━━━━━━━\u001b[0m \u001b[32m1.6/1.6 MB\u001b[0m \u001b[31m58.1 MB/s\u001b[0m eta \u001b[36m0:00:00\u001b[0m\r\n",
      "\u001b[?25hCollecting tensorboard<2.10,>=2.9\r\n",
      "  Downloading tensorboard-2.9.1-py3-none-any.whl (5.8 MB)\r\n",
      "\u001b[2K     \u001b[90m━━━━━━━━━━━━━━━━━━━━━━━━━━━━━━━━━━━━━━━━\u001b[0m \u001b[32m5.8/5.8 MB\u001b[0m \u001b[31m37.1 MB/s\u001b[0m eta \u001b[36m0:00:00\u001b[0m\r\n",
      "\u001b[?25hRequirement already satisfied: keras-preprocessing>=1.1.1 in /opt/conda/lib/python3.7/site-packages (from tensorflow<2.10,>=2.9.0->tensorflow_text) (1.1.2)\r\n",
      "Collecting tensorflow-estimator<2.10.0,>=2.9.0rc0\r\n",
      "  Downloading tensorflow_estimator-2.9.0-py2.py3-none-any.whl (438 kB)\r\n",
      "\u001b[2K     \u001b[90m━━━━━━━━━━━━━━━━━━━━━━━━━━━━━━━━━━━━━━\u001b[0m \u001b[32m438.7/438.7 kB\u001b[0m \u001b[31m27.3 MB/s\u001b[0m eta \u001b[36m0:00:00\u001b[0m\r\n",
      "\u001b[?25hCollecting absl-py>=1.0.0\r\n",
      "  Downloading absl_py-1.2.0-py3-none-any.whl (123 kB)\r\n",
      "\u001b[2K     \u001b[90m━━━━━━━━━━━━━━━━━━━━━━━━━━━━━━━━━━━━━━\u001b[0m \u001b[32m123.4/123.4 kB\u001b[0m \u001b[31m11.3 MB/s\u001b[0m eta \u001b[36m0:00:00\u001b[0m\r\n",
      "\u001b[?25hCollecting libclang>=13.0.0\r\n",
      "  Downloading libclang-14.0.6-py2.py3-none-manylinux2010_x86_64.whl (14.1 MB)\r\n",
      "\u001b[2K     \u001b[90m━━━━━━━━━━━━━━━━━━━━━━━━━━━━━━━━━━━━━━━━\u001b[0m \u001b[32m14.1/14.1 MB\u001b[0m \u001b[31m34.0 MB/s\u001b[0m eta \u001b[36m0:00:00\u001b[0m\r\n",
      "\u001b[?25hRequirement already satisfied: google-pasta>=0.1.1 in /opt/conda/lib/python3.7/site-packages (from tensorflow<2.10,>=2.9.0->tensorflow_text) (0.2.0)\r\n",
      "Requirement already satisfied: h5py>=2.9.0 in /opt/conda/lib/python3.7/site-packages (from tensorflow<2.10,>=2.9.0->tensorflow_text) (3.7.0)\r\n",
      "Collecting tensorflow-io-gcs-filesystem>=0.23.1\r\n",
      "  Downloading tensorflow_io_gcs_filesystem-0.26.0-cp37-cp37m-manylinux_2_12_x86_64.manylinux2010_x86_64.whl (2.4 MB)\r\n",
      "\u001b[2K     \u001b[90m━━━━━━━━━━━━━━━━━━━━━━━━━━━━━━━━━━━━━━━━\u001b[0m \u001b[32m2.4/2.4 MB\u001b[0m \u001b[31m62.9 MB/s\u001b[0m eta \u001b[36m0:00:00\u001b[0m\r\n",
      "\u001b[?25hRequirement already satisfied: termcolor>=1.1.0 in /opt/conda/lib/python3.7/site-packages (from tensorflow<2.10,>=2.9.0->tensorflow_text) (1.1.0)\r\n",
      "Requirement already satisfied: six>=1.12.0 in /opt/conda/lib/python3.7/site-packages (from tensorflow<2.10,>=2.9.0->tensorflow_text) (1.15.0)\r\n",
      "Requirement already satisfied: opt-einsum>=2.3.2 in /opt/conda/lib/python3.7/site-packages (from tensorflow<2.10,>=2.9.0->tensorflow_text) (3.3.0)\r\n",
      "Requirement already satisfied: flatbuffers<2,>=1.12 in /opt/conda/lib/python3.7/site-packages (from tensorflow<2.10,>=2.9.0->tensorflow_text) (1.12)\r\n",
      "Requirement already satisfied: wheel<1.0,>=0.23.0 in /opt/conda/lib/python3.7/site-packages (from astunparse>=1.6.0->tensorflow<2.10,>=2.9.0->tensorflow_text) (0.37.1)\r\n",
      "Requirement already satisfied: requests<3,>=2.21.0 in /opt/conda/lib/python3.7/site-packages (from tensorboard<2.10,>=2.9->tensorflow<2.10,>=2.9.0->tensorflow_text) (2.28.1)\r\n",
      "Requirement already satisfied: tensorboard-data-server<0.7.0,>=0.6.0 in /opt/conda/lib/python3.7/site-packages (from tensorboard<2.10,>=2.9->tensorflow<2.10,>=2.9.0->tensorflow_text) (0.6.1)\r\n",
      "Requirement already satisfied: tensorboard-plugin-wit>=1.6.0 in /opt/conda/lib/python3.7/site-packages (from tensorboard<2.10,>=2.9->tensorflow<2.10,>=2.9.0->tensorflow_text) (1.8.1)\r\n",
      "Requirement already satisfied: werkzeug>=1.0.1 in /opt/conda/lib/python3.7/site-packages (from tensorboard<2.10,>=2.9->tensorflow<2.10,>=2.9.0->tensorflow_text) (2.2.2)\r\n",
      "Requirement already satisfied: google-auth-oauthlib<0.5,>=0.4.1 in /opt/conda/lib/python3.7/site-packages (from tensorboard<2.10,>=2.9->tensorflow<2.10,>=2.9.0->tensorflow_text) (0.4.6)\r\n",
      "Requirement already satisfied: google-auth<3,>=1.6.3 in /opt/conda/lib/python3.7/site-packages (from tensorboard<2.10,>=2.9->tensorflow<2.10,>=2.9.0->tensorflow_text) (1.35.0)\r\n",
      "Requirement already satisfied: markdown>=2.6.8 in /opt/conda/lib/python3.7/site-packages (from tensorboard<2.10,>=2.9->tensorflow<2.10,>=2.9.0->tensorflow_text) (3.3.7)\r\n",
      "Requirement already satisfied: pyparsing!=3.0.5,>=2.0.2 in /opt/conda/lib/python3.7/site-packages (from packaging->tensorflow<2.10,>=2.9.0->tensorflow_text) (3.0.9)\r\n",
      "Requirement already satisfied: cachetools<5.0,>=2.0.0 in /opt/conda/lib/python3.7/site-packages (from google-auth<3,>=1.6.3->tensorboard<2.10,>=2.9->tensorflow<2.10,>=2.9.0->tensorflow_text) (4.2.4)\r\n",
      "Requirement already satisfied: rsa<5,>=3.1.4 in /opt/conda/lib/python3.7/site-packages (from google-auth<3,>=1.6.3->tensorboard<2.10,>=2.9->tensorflow<2.10,>=2.9.0->tensorflow_text) (4.8)\r\n",
      "Requirement already satisfied: pyasn1-modules>=0.2.1 in /opt/conda/lib/python3.7/site-packages (from google-auth<3,>=1.6.3->tensorboard<2.10,>=2.9->tensorflow<2.10,>=2.9.0->tensorflow_text) (0.2.7)\r\n",
      "Requirement already satisfied: requests-oauthlib>=0.7.0 in /opt/conda/lib/python3.7/site-packages (from google-auth-oauthlib<0.5,>=0.4.1->tensorboard<2.10,>=2.9->tensorflow<2.10,>=2.9.0->tensorflow_text) (1.3.1)\r\n",
      "Requirement already satisfied: importlib-metadata>=4.4 in /opt/conda/lib/python3.7/site-packages (from markdown>=2.6.8->tensorboard<2.10,>=2.9->tensorflow<2.10,>=2.9.0->tensorflow_text) (4.12.0)\r\n",
      "Requirement already satisfied: certifi>=2017.4.17 in /opt/conda/lib/python3.7/site-packages (from requests<3,>=2.21.0->tensorboard<2.10,>=2.9->tensorflow<2.10,>=2.9.0->tensorflow_text) (2022.6.15)\r\n",
      "Requirement already satisfied: urllib3<1.27,>=1.21.1 in /opt/conda/lib/python3.7/site-packages (from requests<3,>=2.21.0->tensorboard<2.10,>=2.9->tensorflow<2.10,>=2.9.0->tensorflow_text) (1.26.12)\r\n",
      "Requirement already satisfied: charset-normalizer<3,>=2 in /opt/conda/lib/python3.7/site-packages (from requests<3,>=2.21.0->tensorboard<2.10,>=2.9->tensorflow<2.10,>=2.9.0->tensorflow_text) (2.1.0)\r\n",
      "Requirement already satisfied: idna<4,>=2.5 in /opt/conda/lib/python3.7/site-packages (from requests<3,>=2.21.0->tensorboard<2.10,>=2.9->tensorflow<2.10,>=2.9.0->tensorflow_text) (3.3)\r\n",
      "Requirement already satisfied: MarkupSafe>=2.1.1 in /opt/conda/lib/python3.7/site-packages (from werkzeug>=1.0.1->tensorboard<2.10,>=2.9->tensorflow<2.10,>=2.9.0->tensorflow_text) (2.1.1)\r\n",
      "Requirement already satisfied: zipp>=0.5 in /opt/conda/lib/python3.7/site-packages (from importlib-metadata>=4.4->markdown>=2.6.8->tensorboard<2.10,>=2.9->tensorflow<2.10,>=2.9.0->tensorflow_text) (3.8.0)\r\n",
      "Requirement already satisfied: pyasn1<0.5.0,>=0.4.6 in /opt/conda/lib/python3.7/site-packages (from pyasn1-modules>=0.2.1->google-auth<3,>=1.6.3->tensorboard<2.10,>=2.9->tensorflow<2.10,>=2.9.0->tensorflow_text) (0.4.8)\r\n",
      "Requirement already satisfied: oauthlib>=3.0.0 in /opt/conda/lib/python3.7/site-packages (from requests-oauthlib>=0.7.0->google-auth-oauthlib<0.5,>=0.4.1->tensorboard<2.10,>=2.9->tensorflow<2.10,>=2.9.0->tensorflow_text) (3.2.0)\r\n",
      "Installing collected packages: libclang, keras, tensorflow-io-gcs-filesystem, tensorflow-estimator, absl-py, tensorboard, tensorflow, tensorflow_text\r\n",
      "  Attempting uninstall: keras\r\n",
      "    Found existing installation: keras 2.6.0\r\n",
      "    Uninstalling keras-2.6.0:\r\n",
      "      Successfully uninstalled keras-2.6.0\r\n",
      "  Attempting uninstall: tensorflow-estimator\r\n",
      "    Found existing installation: tensorflow-estimator 2.6.0\r\n",
      "    Uninstalling tensorflow-estimator-2.6.0:\r\n",
      "      Successfully uninstalled tensorflow-estimator-2.6.0\r\n",
      "  Attempting uninstall: absl-py\r\n",
      "    Found existing installation: absl-py 0.15.0\r\n",
      "    Uninstalling absl-py-0.15.0:\r\n",
      "      Successfully uninstalled absl-py-0.15.0\r\n",
      "  Attempting uninstall: tensorboard\r\n",
      "    Found existing installation: tensorboard 2.10.0\r\n",
      "    Uninstalling tensorboard-2.10.0:\r\n",
      "      Successfully uninstalled tensorboard-2.10.0\r\n",
      "  Attempting uninstall: tensorflow\r\n",
      "    Found existing installation: tensorflow 2.6.4\r\n",
      "    Uninstalling tensorflow-2.6.4:\r\n",
      "      Successfully uninstalled tensorflow-2.6.4\r\n",
      "\u001b[31mERROR: pip's dependency resolver does not currently take into account all the packages that are installed. This behaviour is the source of the following dependency conflicts.\r\n",
      "tensorflow-io 0.21.0 requires tensorflow<2.7.0,>=2.6.0, but you have tensorflow 2.9.2 which is incompatible.\r\n",
      "tensorflow-io 0.21.0 requires tensorflow-io-gcs-filesystem==0.21.0, but you have tensorflow-io-gcs-filesystem 0.26.0 which is incompatible.\r\n",
      "flax 0.6.0 requires rich~=11.1, but you have rich 12.1.0 which is incompatible.\u001b[0m\u001b[31m\r\n",
      "\u001b[0mSuccessfully installed absl-py-1.2.0 keras-2.9.0 libclang-14.0.6 tensorboard-2.9.1 tensorflow-2.9.2 tensorflow-estimator-2.9.0 tensorflow-io-gcs-filesystem-0.26.0 tensorflow_text-2.9.0\r\n",
      "\u001b[33mWARNING: Running pip as the 'root' user can result in broken permissions and conflicting behaviour with the system package manager. It is recommended to use a virtual environment instead: https://pip.pypa.io/warnings/venv\u001b[0m\u001b[33m\r\n",
      "\u001b[0m"
     ]
    },
    {
     "name": "stderr",
     "output_type": "stream",
     "text": [
      "[nltk_data] Downloading package averaged_perceptron_tagger to\n",
      "[nltk_data]     /usr/share/nltk_data...\n",
      "[nltk_data]   Package averaged_perceptron_tagger is already up-to-\n",
      "[nltk_data]       date!\n",
      "[nltk_data] Downloading package omw-1.4 to /usr/share/nltk_data...\n"
     ]
    },
    {
     "data": {
      "text/plain": [
       "True"
      ]
     },
     "execution_count": 1,
     "metadata": {},
     "output_type": "execute_result"
    }
   ],
   "source": [
    "#!yes |conda install cuda -c nvidia\n",
    "!conda install -y cuda -c nvidia\n",
    "# This Python 3 environment comes with many helpful analytics libraries installed\n",
    "# It is defined by the kaggle/python Docker image: https://github.com/kaggle/docker-python\n",
    "# For example, here's several helpful packages to load\n",
    "\n",
    "import numpy as np # linear algebra\n",
    "import pandas as pd # data processing, CSV file I/O (e.g. pd.read_csv)\n",
    "\n",
    "# Input data files are available in the read-only \"../input/\" directory\n",
    "# For example, running this (by clicking run or pressing Shift+Enter) will list all files under the input directory\n",
    "\n",
    "# !pip3 install tensorflow_text>=2.0.0rc0\n",
    "!pip install tensorflow_text\n",
    "import tensorflow_hub as hub\n",
    "import numpy as np\n",
    "import tensorflow_text\n",
    "\n",
    "import os\n",
    "\n",
    "import nltk\n",
    "import re\n",
    "import string\n",
    "from nltk.corpus import stopwords, brown\n",
    "from nltk.tokenize import word_tokenize, sent_tokenize, RegexpTokenizer\n",
    "import tensorflow as tf\n",
    "import tensorflow_hub as hub\n",
    "from tqdm import tqdm\n",
    "from nltk.corpus import wordnet as wn\n",
    "from nltk.stem import WordNetLemmatizer\n",
    "from nltk import pos_tag\n",
    "from nltk.corpus import stopwords\n",
    "import collections\n",
    "nltk.download('averaged_perceptron_tagger')\n",
    "nltk.download('omw-1.4')\n",
    "\n",
    "\n",
    "# You can write up to 20GB to the current directory (/kaggle/working/) that gets preserved as output when you create a version using \"Save & Run All\" \n",
    "# You can also write temporary files to /kaggle/temp/, but they won't be saved outside of the current session"
   ]
  },
  {
   "cell_type": "markdown",
   "id": "078835d5",
   "metadata": {
    "papermill": {
     "duration": 0.046765,
     "end_time": "2022-09-03T11:36:47.736803",
     "exception": false,
     "start_time": "2022-09-03T11:36:47.690038",
     "status": "completed"
    },
    "tags": []
   },
   "source": [
    "1. [quran dataset](https://www.kaggle.com/datasets/alizahidraja/quran-english)\n",
    "2. [bible dataset](https://www.kaggle.com/datasets/phyred23/bibleverses)"
   ]
  },
  {
   "cell_type": "code",
   "execution_count": 2,
   "id": "c29c17c0",
   "metadata": {
    "execution": {
     "iopub.execute_input": "2022-09-03T11:36:47.833608Z",
     "iopub.status.busy": "2022-09-03T11:36:47.832997Z",
     "iopub.status.idle": "2022-09-03T11:36:47.917314Z",
     "shell.execute_reply": "2022-09-03T11:36:47.916180Z"
    },
    "papermill": {
     "duration": 0.136339,
     "end_time": "2022-09-03T11:36:47.920106",
     "exception": false,
     "start_time": "2022-09-03T11:36:47.783767",
     "status": "completed"
    },
    "tags": []
   },
   "outputs": [
    {
     "data": {
      "text/html": [
       "<div>\n",
       "<style scoped>\n",
       "    .dataframe tbody tr th:only-of-type {\n",
       "        vertical-align: middle;\n",
       "    }\n",
       "\n",
       "    .dataframe tbody tr th {\n",
       "        vertical-align: top;\n",
       "    }\n",
       "\n",
       "    .dataframe thead th {\n",
       "        text-align: right;\n",
       "    }\n",
       "</style>\n",
       "<table border=\"1\" class=\"dataframe\">\n",
       "  <thead>\n",
       "    <tr style=\"text-align: right;\">\n",
       "      <th></th>\n",
       "      <th>Name</th>\n",
       "      <th>Surah</th>\n",
       "      <th>Ayat</th>\n",
       "      <th>Verse</th>\n",
       "    </tr>\n",
       "  </thead>\n",
       "  <tbody>\n",
       "    <tr>\n",
       "      <th>0</th>\n",
       "      <td>The Opening</td>\n",
       "      <td>1</td>\n",
       "      <td>1</td>\n",
       "      <td>In the name of Allah, the Beneficent, the Merc...</td>\n",
       "    </tr>\n",
       "  </tbody>\n",
       "</table>\n",
       "</div>"
      ],
      "text/plain": [
       "          Name  Surah  Ayat                                              Verse\n",
       "0  The Opening      1     1  In the name of Allah, the Beneficent, the Merc..."
      ]
     },
     "execution_count": 2,
     "metadata": {},
     "output_type": "execute_result"
    }
   ],
   "source": [
    "en_quran = pd.read_csv('../input/quran-english/Quran_English.csv')\n",
    "en_quran.head(1)"
   ]
  },
  {
   "cell_type": "code",
   "execution_count": 3,
   "id": "0c079044",
   "metadata": {
    "execution": {
     "iopub.execute_input": "2022-09-03T11:36:48.016805Z",
     "iopub.status.busy": "2022-09-03T11:36:48.016501Z",
     "iopub.status.idle": "2022-09-03T11:36:48.186600Z",
     "shell.execute_reply": "2022-09-03T11:36:48.185509Z"
    },
    "papermill": {
     "duration": 0.220539,
     "end_time": "2022-09-03T11:36:48.188695",
     "exception": false,
     "start_time": "2022-09-03T11:36:47.968156",
     "status": "completed"
    },
    "tags": []
   },
   "outputs": [
    {
     "data": {
      "text/plain": [
       "array(['Genesis', 'Exodus', 'Leviticus', 'Numbers', 'Deuteronomy',\n",
       "       'Joshua', 'Judges', 'Ruth', '1 Samuel', '2 Samuel', '1 Kings',\n",
       "       '2 Kings', '1 Chronicles', '2 Chronicles', 'Ezra', 'Nehemiah',\n",
       "       'Esther', 'Job', 'Psalms', 'Proverbs', 'Ecclesiastes',\n",
       "       'Song of Solomon', 'Isaiah', 'Jeremiah', 'Lamentations', 'Ezekiel',\n",
       "       'Daniel', 'Hosea', 'Joel', 'Amos', 'Obadiah', 'Jonah', 'Micah',\n",
       "       'Nahum', 'Habakkuk', 'Zephaniah', 'Haggai', 'Zechariah', 'Malachi',\n",
       "       'Matthew', 'Mark', 'Luke', 'John', 'Acts', 'Romans',\n",
       "       '1 Corinthians', '2 Corinthians', 'Galatians', 'Ephesians',\n",
       "       'Philippians', 'Colossians', '1 Thessalonians', '2 Thessalonians',\n",
       "       '1 Timothy', '2 Timothy', 'Titus', 'Philemon', 'Hebrews', 'James',\n",
       "       '1 Peter', '2 Peter', '1 John', '2 John', '3 John', 'Jude',\n",
       "       'Revelation'], dtype=object)"
      ]
     },
     "execution_count": 3,
     "metadata": {},
     "output_type": "execute_result"
    }
   ],
   "source": [
    "kjv = pd.read_csv('/kaggle/input/bibleverses/bible_data_set.csv')\n",
    "kjv.book.unique()"
   ]
  },
  {
   "cell_type": "code",
   "execution_count": 4,
   "id": "fb237f47",
   "metadata": {
    "execution": {
     "iopub.execute_input": "2022-09-03T11:36:48.286833Z",
     "iopub.status.busy": "2022-09-03T11:36:48.286227Z",
     "iopub.status.idle": "2022-09-03T11:36:48.293746Z",
     "shell.execute_reply": "2022-09-03T11:36:48.292848Z"
    },
    "papermill": {
     "duration": 0.05868,
     "end_time": "2022-09-03T11:36:48.295635",
     "exception": false,
     "start_time": "2022-09-03T11:36:48.236955",
     "status": "completed"
    },
    "tags": []
   },
   "outputs": [
    {
     "data": {
      "text/plain": [
       "39"
      ]
     },
     "execution_count": 4,
     "metadata": {},
     "output_type": "execute_result"
    }
   ],
   "source": [
    "old = ['Genesis', 'Exodus', 'Leviticus', 'Numbers', 'Deuteronomy',\n",
    "       'Joshua', 'Judges', 'Ruth', '1 Samuel', '2 Samuel', '1 Kings',\n",
    "       '2 Kings', '1 Chronicles', '2 Chronicles', 'Ezra', 'Nehemiah',\n",
    "       'Esther', 'Job', 'Psalms', 'Proverbs', 'Ecclesiastes',\n",
    "       'Song of Solomon', 'Isaiah', 'Jeremiah', 'Lamentations', 'Ezekiel',\n",
    "       'Daniel', 'Hosea', 'Joel', 'Amos', 'Obadiah', 'Jonah', 'Micah',\n",
    "       'Nahum','Habakkuk','Zephaniah','Haggai','Zechariah','Malachi']\n",
    "\n",
    "len(old) \n"
   ]
  },
  {
   "cell_type": "code",
   "execution_count": 5,
   "id": "e84929d9",
   "metadata": {
    "execution": {
     "iopub.execute_input": "2022-09-03T11:36:48.394262Z",
     "iopub.status.busy": "2022-09-03T11:36:48.393272Z",
     "iopub.status.idle": "2022-09-03T11:36:48.407472Z",
     "shell.execute_reply": "2022-09-03T11:36:48.406588Z"
    },
    "papermill": {
     "duration": 0.065786,
     "end_time": "2022-09-03T11:36:48.409484",
     "exception": false,
     "start_time": "2022-09-03T11:36:48.343698",
     "status": "completed"
    },
    "tags": []
   },
   "outputs": [],
   "source": [
    "old_kjv = kjv[kjv.book.isin(old)]\n",
    "\n",
    "en_torah = old_kjv.copy()"
   ]
  },
  {
   "cell_type": "code",
   "execution_count": 6,
   "id": "1b6e532b",
   "metadata": {
    "execution": {
     "iopub.execute_input": "2022-09-03T11:36:48.505961Z",
     "iopub.status.busy": "2022-09-03T11:36:48.505658Z",
     "iopub.status.idle": "2022-09-03T11:36:48.511925Z",
     "shell.execute_reply": "2022-09-03T11:36:48.510966Z"
    },
    "papermill": {
     "duration": 0.056812,
     "end_time": "2022-09-03T11:36:48.513917",
     "exception": false,
     "start_time": "2022-09-03T11:36:48.457105",
     "status": "completed"
    },
    "tags": []
   },
   "outputs": [
    {
     "data": {
      "text/plain": [
       "7957"
      ]
     },
     "execution_count": 6,
     "metadata": {},
     "output_type": "execute_result"
    }
   ],
   "source": [
    "len(kjv) - len(old_kjv)\n"
   ]
  },
  {
   "cell_type": "code",
   "execution_count": 7,
   "id": "d1480af0",
   "metadata": {
    "execution": {
     "iopub.execute_input": "2022-09-03T11:36:48.610918Z",
     "iopub.status.busy": "2022-09-03T11:36:48.610623Z",
     "iopub.status.idle": "2022-09-03T11:36:48.620224Z",
     "shell.execute_reply": "2022-09-03T11:36:48.619350Z"
    },
    "papermill": {
     "duration": 0.060713,
     "end_time": "2022-09-03T11:36:48.622128",
     "exception": false,
     "start_time": "2022-09-03T11:36:48.561415",
     "status": "completed"
    },
    "tags": []
   },
   "outputs": [
    {
     "data": {
      "text/html": [
       "<div>\n",
       "<style scoped>\n",
       "    .dataframe tbody tr th:only-of-type {\n",
       "        vertical-align: middle;\n",
       "    }\n",
       "\n",
       "    .dataframe tbody tr th {\n",
       "        vertical-align: top;\n",
       "    }\n",
       "\n",
       "    .dataframe thead th {\n",
       "        text-align: right;\n",
       "    }\n",
       "</style>\n",
       "<table border=\"1\" class=\"dataframe\">\n",
       "  <thead>\n",
       "    <tr style=\"text-align: right;\">\n",
       "      <th></th>\n",
       "      <th>citation</th>\n",
       "      <th>book</th>\n",
       "      <th>chapter</th>\n",
       "      <th>verse</th>\n",
       "      <th>text</th>\n",
       "    </tr>\n",
       "  </thead>\n",
       "  <tbody>\n",
       "    <tr>\n",
       "      <th>0</th>\n",
       "      <td>Genesis 1:1</td>\n",
       "      <td>Genesis</td>\n",
       "      <td>1</td>\n",
       "      <td>1</td>\n",
       "      <td>In the beginning God created the heaven and th...</td>\n",
       "    </tr>\n",
       "  </tbody>\n",
       "</table>\n",
       "</div>"
      ],
      "text/plain": [
       "      citation     book  chapter  verse  \\\n",
       "0  Genesis 1:1  Genesis        1      1   \n",
       "\n",
       "                                                text  \n",
       "0  In the beginning God created the heaven and th...  "
      ]
     },
     "execution_count": 7,
     "metadata": {},
     "output_type": "execute_result"
    }
   ],
   "source": [
    "en_torah.head(1)"
   ]
  },
  {
   "cell_type": "code",
   "execution_count": 8,
   "id": "07ae6f6f",
   "metadata": {
    "execution": {
     "iopub.execute_input": "2022-09-03T11:36:48.721555Z",
     "iopub.status.busy": "2022-09-03T11:36:48.720139Z",
     "iopub.status.idle": "2022-09-03T11:36:48.753303Z",
     "shell.execute_reply": "2022-09-03T11:36:48.752281Z"
    },
    "papermill": {
     "duration": 0.084525,
     "end_time": "2022-09-03T11:36:48.755366",
     "exception": false,
     "start_time": "2022-09-03T11:36:48.670841",
     "status": "completed"
    },
    "tags": []
   },
   "outputs": [
    {
     "name": "stdout",
     "output_type": "stream",
     "text": [
      "273\n"
     ]
    },
    {
     "data": {
      "text/plain": [
       "288"
      ]
     },
     "execution_count": 8,
     "metadata": {},
     "output_type": "execute_result"
    }
   ],
   "source": [
    "max_len = en_quran.Verse.str.split().map(lambda x: len(x))\n",
    "max_len = max_len.tolist()\n",
    "max_val =  max(max_len)\n",
    "print(max_val)\n",
    "max_idx = max_len.index(max_val)\n",
    "max_idx"
   ]
  },
  {
   "cell_type": "code",
   "execution_count": 9,
   "id": "354573cb",
   "metadata": {
    "execution": {
     "iopub.execute_input": "2022-09-03T11:36:48.853476Z",
     "iopub.status.busy": "2022-09-03T11:36:48.852466Z",
     "iopub.status.idle": "2022-09-03T11:36:48.860335Z",
     "shell.execute_reply": "2022-09-03T11:36:48.859218Z"
    },
    "papermill": {
     "duration": 0.059026,
     "end_time": "2022-09-03T11:36:48.862488",
     "exception": false,
     "start_time": "2022-09-03T11:36:48.803462",
     "status": "completed"
    },
    "tags": []
   },
   "outputs": [
    {
     "data": {
      "text/plain": [
       "'And God said, Let the earth bring forth grass, the herb yielding seed, and the fruit tree yielding fruit after his kind, whose seed is in itself, upon the earth: and it was so. \\n'"
      ]
     },
     "execution_count": 9,
     "metadata": {},
     "output_type": "execute_result"
    }
   ],
   "source": [
    "en_torah.text[10]"
   ]
  },
  {
   "cell_type": "code",
   "execution_count": 10,
   "id": "638fa098",
   "metadata": {
    "execution": {
     "iopub.execute_input": "2022-09-03T11:36:48.961681Z",
     "iopub.status.busy": "2022-09-03T11:36:48.961403Z",
     "iopub.status.idle": "2022-09-03T11:36:49.254732Z",
     "shell.execute_reply": "2022-09-03T11:36:49.253606Z"
    },
    "papermill": {
     "duration": 0.354416,
     "end_time": "2022-09-03T11:36:49.265929",
     "exception": false,
     "start_time": "2022-09-03T11:36:48.911513",
     "status": "completed"
    },
    "tags": []
   },
   "outputs": [
    {
     "name": "stdout",
     "output_type": "stream",
     "text": [
      "86\n"
     ]
    },
    {
     "data": {
      "text/plain": [
       "12826"
      ]
     },
     "execution_count": 10,
     "metadata": {},
     "output_type": "execute_result"
    }
   ],
   "source": [
    "max_len = en_torah.text.str.split().map(lambda x: len(x))\n",
    "max_len = max_len.tolist()\n",
    "max_val =  max(max_len)\n",
    "print(max_val)\n",
    "max_idx = max_len.index(max_val)\n",
    "max_idx"
   ]
  },
  {
   "cell_type": "code",
   "execution_count": 11,
   "id": "f58236a1",
   "metadata": {
    "execution": {
     "iopub.execute_input": "2022-09-03T11:36:49.374985Z",
     "iopub.status.busy": "2022-09-03T11:36:49.374348Z",
     "iopub.status.idle": "2022-09-03T11:36:49.383026Z",
     "shell.execute_reply": "2022-09-03T11:36:49.382050Z"
    },
    "papermill": {
     "duration": 0.060925,
     "end_time": "2022-09-03T11:36:49.385335",
     "exception": false,
     "start_time": "2022-09-03T11:36:49.324410",
     "status": "completed"
    },
    "tags": []
   },
   "outputs": [],
   "source": [
    "def wordLemmatizer(data):\n",
    "    tag_map = collections.defaultdict(lambda : wn.NOUN)\n",
    "    tag_map['J'] = wn.ADJ\n",
    "    tag_map['V'] = wn.VERB\n",
    "    tag_map['R'] = wn.ADV\n",
    "    clean_k =pd.DataFrame()\n",
    "    word_Lemmatized = WordNetLemmatizer()\n",
    "    for index,entry in tqdm(enumerate(data)):\n",
    "        \n",
    "        Final_words = []\n",
    "        for word, tag in pos_tag(entry):\n",
    "            if len(word)>1 and word not in stopwords.words('english') and word.isalpha():\n",
    "                word_Final = word_Lemmatized.lemmatize(word,tag_map[tag[0]])\n",
    "                Final_words.append(word_Final)\n",
    "        \n",
    "        clean_k.loc[index,'Keyword_final'] = str(Final_words)\n",
    "    clean_k=clean_k.replace(to_replace =\"'\", value = '', regex = True)\n",
    "    clean_k=clean_k.replace(to_replace =\" \", value = '', regex = True)\n",
    "    clean_k=clean_k.replace(to_replace =\"\\[\", value = '', regex = True)\n",
    "    clean_k=clean_k.replace(to_replace ='\\]', value = '', regex = True)\n",
    "    return clean_k\n",
    "\n"
   ]
  },
  {
   "cell_type": "code",
   "execution_count": 12,
   "id": "f6167136",
   "metadata": {
    "execution": {
     "iopub.execute_input": "2022-09-03T11:36:49.484932Z",
     "iopub.status.busy": "2022-09-03T11:36:49.484646Z",
     "iopub.status.idle": "2022-09-03T11:39:07.000254Z",
     "shell.execute_reply": "2022-09-03T11:39:06.999211Z"
    },
    "papermill": {
     "duration": 137.567242,
     "end_time": "2022-09-03T11:39:07.002386",
     "exception": false,
     "start_time": "2022-09-03T11:36:49.435144",
     "status": "completed"
    },
    "tags": []
   },
   "outputs": [
    {
     "name": "stderr",
     "output_type": "stream",
     "text": [
      "100%|██████████| 23145/23145 [00:03<00:00, 6832.85it/s]\n",
      "23145it [02:11, 175.73it/s]\n"
     ]
    },
    {
     "name": "stdout",
     "output_type": "stream",
     "text": [
      "CPU times: user 2min 4s, sys: 11.4 s, total: 2min 15s\n",
      "Wall time: 2min 17s\n"
     ]
    },
    {
     "data": {
      "text/html": [
       "<div>\n",
       "<style scoped>\n",
       "    .dataframe tbody tr th:only-of-type {\n",
       "        vertical-align: middle;\n",
       "    }\n",
       "\n",
       "    .dataframe tbody tr th {\n",
       "        vertical-align: top;\n",
       "    }\n",
       "\n",
       "    .dataframe thead th {\n",
       "        text-align: right;\n",
       "    }\n",
       "</style>\n",
       "<table border=\"1\" class=\"dataframe\">\n",
       "  <thead>\n",
       "    <tr style=\"text-align: right;\">\n",
       "      <th></th>\n",
       "      <th>citation</th>\n",
       "      <th>book</th>\n",
       "      <th>chapter</th>\n",
       "      <th>verse</th>\n",
       "      <th>text</th>\n",
       "      <th>useful_info</th>\n",
       "      <th>info_tokenize</th>\n",
       "      <th>Keyword_final</th>\n",
       "    </tr>\n",
       "  </thead>\n",
       "  <tbody>\n",
       "    <tr>\n",
       "      <th>0</th>\n",
       "      <td>Genesis 1:1</td>\n",
       "      <td>Genesis</td>\n",
       "      <td>1</td>\n",
       "      <td>1</td>\n",
       "      <td>In the beginning God created the heaven and th...</td>\n",
       "      <td>in the beginning god created the heaven and th...</td>\n",
       "      <td>[in, the, beginning, god, created, the, heaven...</td>\n",
       "      <td>beginning,god,create,heaven,earth</td>\n",
       "    </tr>\n",
       "    <tr>\n",
       "      <th>1</th>\n",
       "      <td>Genesis 1:2</td>\n",
       "      <td>Genesis</td>\n",
       "      <td>1</td>\n",
       "      <td>2</td>\n",
       "      <td>And the earth was without form, and void; and ...</td>\n",
       "      <td>and the earth was without form and void and da...</td>\n",
       "      <td>[and, the, earth, was, without, form, and, voi...</td>\n",
       "      <td>earth,without,form,void,darkness,upon,face,dee...</td>\n",
       "    </tr>\n",
       "    <tr>\n",
       "      <th>2</th>\n",
       "      <td>Genesis 1:3</td>\n",
       "      <td>Genesis</td>\n",
       "      <td>1</td>\n",
       "      <td>3</td>\n",
       "      <td>And God said, Let there be light: and there wa...</td>\n",
       "      <td>and god said let there be light and there was ...</td>\n",
       "      <td>[and, god, said, let, there, be, light, and, t...</td>\n",
       "      <td>god,say,let,light,light</td>\n",
       "    </tr>\n",
       "    <tr>\n",
       "      <th>3</th>\n",
       "      <td>Genesis 1:4</td>\n",
       "      <td>Genesis</td>\n",
       "      <td>1</td>\n",
       "      <td>4</td>\n",
       "      <td>And God saw the light, that it was good: and G...</td>\n",
       "      <td>and god saw the light that it was good and god...</td>\n",
       "      <td>[and, god, saw, the, light, that, it, was, goo...</td>\n",
       "      <td>god,saw,light,good,god,divide,light,darkness</td>\n",
       "    </tr>\n",
       "    <tr>\n",
       "      <th>4</th>\n",
       "      <td>Genesis 1:5</td>\n",
       "      <td>Genesis</td>\n",
       "      <td>1</td>\n",
       "      <td>5</td>\n",
       "      <td>And God called the light Day, and the darkness...</td>\n",
       "      <td>and god called the light day and the darkness ...</td>\n",
       "      <td>[and, god, called, the, light, day, and, the, ...</td>\n",
       "      <td>god,call,light,day,darkness,call,night,evening...</td>\n",
       "    </tr>\n",
       "  </tbody>\n",
       "</table>\n",
       "</div>"
      ],
      "text/plain": [
       "      citation     book  chapter  verse  \\\n",
       "0  Genesis 1:1  Genesis        1      1   \n",
       "1  Genesis 1:2  Genesis        1      2   \n",
       "2  Genesis 1:3  Genesis        1      3   \n",
       "3  Genesis 1:4  Genesis        1      4   \n",
       "4  Genesis 1:5  Genesis        1      5   \n",
       "\n",
       "                                                text  \\\n",
       "0  In the beginning God created the heaven and th...   \n",
       "1  And the earth was without form, and void; and ...   \n",
       "2  And God said, Let there be light: and there wa...   \n",
       "3  And God saw the light, that it was good: and G...   \n",
       "4  And God called the light Day, and the darkness...   \n",
       "\n",
       "                                         useful_info  \\\n",
       "0  in the beginning god created the heaven and th...   \n",
       "1  and the earth was without form and void and da...   \n",
       "2  and god said let there be light and there was ...   \n",
       "3  and god saw the light that it was good and god...   \n",
       "4  and god called the light day and the darkness ...   \n",
       "\n",
       "                                       info_tokenize  \\\n",
       "0  [in, the, beginning, god, created, the, heaven...   \n",
       "1  [and, the, earth, was, without, form, and, voi...   \n",
       "2  [and, god, said, let, there, be, light, and, t...   \n",
       "3  [and, god, saw, the, light, that, it, was, goo...   \n",
       "4  [and, god, called, the, light, day, and, the, ...   \n",
       "\n",
       "                                       Keyword_final  \n",
       "0                  beginning,god,create,heaven,earth  \n",
       "1  earth,without,form,void,darkness,upon,face,dee...  \n",
       "2                            god,say,let,light,light  \n",
       "3       god,saw,light,good,god,divide,light,darkness  \n",
       "4  god,call,light,day,darkness,call,night,evening...  "
      ]
     },
     "execution_count": 12,
     "metadata": {},
     "output_type": "execute_result"
    }
   ],
   "source": [
    "%%time\n",
    "#from -> https://github.com/alizahidraja/QURAN-NLP/blob/master/Quran%2C%20Tafseer%20%26%20NLP.ipynb\n",
    "\n",
    "en_torah['useful_info'] = en_torah.text.astype(str) \n",
    "en_torah[\"useful_info\"] = en_torah.useful_info.replace(to_replace='[!\"#$%&\\'()*+,/:;<=>?@[\\\\]^_`{|}~]',value=' ',regex=True) \n",
    "#remove punctuation\n",
    "en_torah.useful_info =en_torah.useful_info.replace(to_replace='-',value=' ',regex=True)\n",
    "en_torah.useful_info =en_torah.useful_info.replace(to_replace='\\s+',value=' ',regex=True)    #remove new line\n",
    "en_torah.useful_info =en_torah.useful_info.replace(to_replace='  ',value='',regex=True)   #remove double white space  \n",
    "en_torah.useful_info =en_torah.useful_info.replace(to_replace=\"'\",value='',regex=True)   \n",
    "\n",
    "\n",
    "en_torah.useful_info = en_torah.useful_info.apply(lambda x:x.strip().lower())  # Ltrim and Rtrim of whitespace\n",
    "en_torah[\"info_tokenize\"]= [word_tokenize(entry) for entry in tqdm(en_torah[\"useful_info\"])] \n",
    "\n",
    "\n",
    "en_torah[\"Keyword_final\"] = wordLemmatizer(en_torah['info_tokenize'])\n",
    "en_torah.head()"
   ]
  },
  {
   "cell_type": "code",
   "execution_count": 13,
   "id": "1e6e32ed",
   "metadata": {
    "execution": {
     "iopub.execute_input": "2022-09-03T11:39:07.359066Z",
     "iopub.status.busy": "2022-09-03T11:39:07.358646Z",
     "iopub.status.idle": "2022-09-03T11:39:39.985369Z",
     "shell.execute_reply": "2022-09-03T11:39:39.984320Z"
    },
    "papermill": {
     "duration": 32.798701,
     "end_time": "2022-09-03T11:39:39.987429",
     "exception": false,
     "start_time": "2022-09-03T11:39:07.188728",
     "status": "completed"
    },
    "tags": []
   },
   "outputs": [
    {
     "name": "stderr",
     "output_type": "stream",
     "text": [
      "100%|██████████| 6236/6236 [00:01<00:00, 3483.18it/s]\n",
      "6236it [00:30, 204.37it/s]\n"
     ]
    },
    {
     "name": "stdout",
     "output_type": "stream",
     "text": [
      "CPU times: user 29.6 s, sys: 2.83 s, total: 32.4 s\n",
      "Wall time: 32.6 s\n"
     ]
    },
    {
     "data": {
      "text/html": [
       "<div>\n",
       "<style scoped>\n",
       "    .dataframe tbody tr th:only-of-type {\n",
       "        vertical-align: middle;\n",
       "    }\n",
       "\n",
       "    .dataframe tbody tr th {\n",
       "        vertical-align: top;\n",
       "    }\n",
       "\n",
       "    .dataframe thead th {\n",
       "        text-align: right;\n",
       "    }\n",
       "</style>\n",
       "<table border=\"1\" class=\"dataframe\">\n",
       "  <thead>\n",
       "    <tr style=\"text-align: right;\">\n",
       "      <th></th>\n",
       "      <th>Name</th>\n",
       "      <th>Surah</th>\n",
       "      <th>Ayat</th>\n",
       "      <th>Verse</th>\n",
       "      <th>useful_info</th>\n",
       "      <th>info_tokenize</th>\n",
       "      <th>Keyword_final</th>\n",
       "    </tr>\n",
       "  </thead>\n",
       "  <tbody>\n",
       "    <tr>\n",
       "      <th>0</th>\n",
       "      <td>The Opening</td>\n",
       "      <td>1</td>\n",
       "      <td>1</td>\n",
       "      <td>In the name of Allah, the Beneficent, the Merc...</td>\n",
       "      <td>in the name of allah the beneficent the merciful.</td>\n",
       "      <td>[in, the, name, of, allah, the, beneficent, th...</td>\n",
       "      <td>name,allah,beneficent,merciful</td>\n",
       "    </tr>\n",
       "    <tr>\n",
       "      <th>1</th>\n",
       "      <td>The Opening</td>\n",
       "      <td>1</td>\n",
       "      <td>2</td>\n",
       "      <td>Praise be to Allah, Lord of the Worlds,</td>\n",
       "      <td>praise be to allah lord of the worlds</td>\n",
       "      <td>[praise, be, to, allah, lord, of, the, worlds]</td>\n",
       "      <td>praise,allah,lord,world</td>\n",
       "    </tr>\n",
       "    <tr>\n",
       "      <th>2</th>\n",
       "      <td>The Opening</td>\n",
       "      <td>1</td>\n",
       "      <td>3</td>\n",
       "      <td>The Beneficent, the Merciful.</td>\n",
       "      <td>the beneficent the merciful.</td>\n",
       "      <td>[the, beneficent, the, merciful, .]</td>\n",
       "      <td>beneficent,merciful</td>\n",
       "    </tr>\n",
       "    <tr>\n",
       "      <th>3</th>\n",
       "      <td>The Opening</td>\n",
       "      <td>1</td>\n",
       "      <td>4</td>\n",
       "      <td>Owner of the Day of Judgment,</td>\n",
       "      <td>owner of the day of judgment</td>\n",
       "      <td>[owner, of, the, day, of, judgment]</td>\n",
       "      <td>owner,day,judgment</td>\n",
       "    </tr>\n",
       "    <tr>\n",
       "      <th>4</th>\n",
       "      <td>The Opening</td>\n",
       "      <td>1</td>\n",
       "      <td>5</td>\n",
       "      <td>Thee (alone) we worship; Thee (alone) we ask f...</td>\n",
       "      <td>thee alone we worship thee alone we ask for help</td>\n",
       "      <td>[thee, alone, we, worship, thee, alone, we, as...</td>\n",
       "      <td>thee,alone,worship,thee,alone,ask,help</td>\n",
       "    </tr>\n",
       "  </tbody>\n",
       "</table>\n",
       "</div>"
      ],
      "text/plain": [
       "          Name  Surah  Ayat  \\\n",
       "0  The Opening      1     1   \n",
       "1  The Opening      1     2   \n",
       "2  The Opening      1     3   \n",
       "3  The Opening      1     4   \n",
       "4  The Opening      1     5   \n",
       "\n",
       "                                               Verse  \\\n",
       "0  In the name of Allah, the Beneficent, the Merc...   \n",
       "1            Praise be to Allah, Lord of the Worlds,   \n",
       "2                      The Beneficent, the Merciful.   \n",
       "3                      Owner of the Day of Judgment,   \n",
       "4  Thee (alone) we worship; Thee (alone) we ask f...   \n",
       "\n",
       "                                         useful_info  \\\n",
       "0  in the name of allah the beneficent the merciful.   \n",
       "1              praise be to allah lord of the worlds   \n",
       "2                       the beneficent the merciful.   \n",
       "3                       owner of the day of judgment   \n",
       "4   thee alone we worship thee alone we ask for help   \n",
       "\n",
       "                                       info_tokenize  \\\n",
       "0  [in, the, name, of, allah, the, beneficent, th...   \n",
       "1     [praise, be, to, allah, lord, of, the, worlds]   \n",
       "2                [the, beneficent, the, merciful, .]   \n",
       "3                [owner, of, the, day, of, judgment]   \n",
       "4  [thee, alone, we, worship, thee, alone, we, as...   \n",
       "\n",
       "                            Keyword_final  \n",
       "0          name,allah,beneficent,merciful  \n",
       "1                 praise,allah,lord,world  \n",
       "2                     beneficent,merciful  \n",
       "3                      owner,day,judgment  \n",
       "4  thee,alone,worship,thee,alone,ask,help  "
      ]
     },
     "execution_count": 13,
     "metadata": {},
     "output_type": "execute_result"
    }
   ],
   "source": [
    "%%time\n",
    "\n",
    "en_quran['useful_info'] = en_quran.Verse.astype(str) \n",
    "en_quran[\"useful_info\"] = en_quran.useful_info.replace(to_replace='[!\"#$%&\\'()*+,/:;<=>?@[\\\\]^_`{|}~]',value=' ',regex=True) \n",
    "#remove punctuation\n",
    "en_quran.useful_info =en_quran.useful_info.replace(to_replace='-',value=' ',regex=True)\n",
    "en_quran.useful_info =en_quran.useful_info.replace(to_replace='\\s+',value=' ',regex=True)    #remove new line\n",
    "en_quran.useful_info =en_quran.useful_info.replace(to_replace='  ',value='',regex=True)   #remove double white space  \n",
    "en_quran.useful_info =en_quran.useful_info.replace(to_replace=\"'\",value='',regex=True)   \n",
    "\n",
    "\n",
    "en_quran.useful_info = en_quran.useful_info.apply(lambda x:x.strip().lower())  # Ltrim and Rtrim of whitespace\n",
    "en_quran[\"info_tokenize\"]= [word_tokenize(entry) for entry in tqdm(en_quran[\"useful_info\"])] \n",
    "\n",
    "\n",
    "en_quran[\"Keyword_final\"] = wordLemmatizer(en_quran['info_tokenize'])\n",
    "en_quran.head()"
   ]
  },
  {
   "cell_type": "code",
   "execution_count": 14,
   "id": "ecde6847",
   "metadata": {
    "execution": {
     "iopub.execute_input": "2022-09-03T11:39:40.236084Z",
     "iopub.status.busy": "2022-09-03T11:39:40.235429Z",
     "iopub.status.idle": "2022-09-03T11:39:40.243243Z",
     "shell.execute_reply": "2022-09-03T11:39:40.242343Z"
    },
    "papermill": {
     "duration": 0.134505,
     "end_time": "2022-09-03T11:39:40.245244",
     "exception": false,
     "start_time": "2022-09-03T11:39:40.110739",
     "status": "completed"
    },
    "tags": []
   },
   "outputs": [
    {
     "data": {
      "text/plain": [
       "(23145, 6236)"
      ]
     },
     "execution_count": 14,
     "metadata": {},
     "output_type": "execute_result"
    }
   ],
   "source": [
    "# torah_list = en_torah.Keyword_final.tolist()\n",
    "# quran_list = en_quran.Keyword_final.tolist()\n",
    "\n",
    "torah_list = en_torah.text.tolist()\n",
    "quran_list = en_quran.Verse.tolist()\n",
    "len(torah_list),len(quran_list)"
   ]
  },
  {
   "cell_type": "code",
   "execution_count": 15,
   "id": "2f4f1ad6",
   "metadata": {
    "execution": {
     "iopub.execute_input": "2022-09-03T11:39:40.502836Z",
     "iopub.status.busy": "2022-09-03T11:39:40.502492Z",
     "iopub.status.idle": "2022-09-03T11:39:40.519679Z",
     "shell.execute_reply": "2022-09-03T11:39:40.518636Z"
    },
    "papermill": {
     "duration": 0.144271,
     "end_time": "2022-09-03T11:39:40.521926",
     "exception": false,
     "start_time": "2022-09-03T11:39:40.377655",
     "status": "completed"
    },
    "tags": []
   },
   "outputs": [],
   "source": [
    "drop_columns = ['useful_info','info_tokenize','Keyword_final']\n",
    "en_torah = en_torah.drop(drop_columns, axis=1)\n",
    "en_quran = en_quran.drop(drop_columns, axis=1)\n"
   ]
  },
  {
   "cell_type": "code",
   "execution_count": 16,
   "id": "18bcc540",
   "metadata": {
    "execution": {
     "iopub.execute_input": "2022-09-03T11:39:40.771600Z",
     "iopub.status.busy": "2022-09-03T11:39:40.769713Z",
     "iopub.status.idle": "2022-09-03T11:40:02.352368Z",
     "shell.execute_reply": "2022-09-03T11:40:02.351023Z"
    },
    "papermill": {
     "duration": 21.708437,
     "end_time": "2022-09-03T11:40:02.354554",
     "exception": false,
     "start_time": "2022-09-03T11:39:40.646117",
     "status": "completed"
    },
    "tags": []
   },
   "outputs": [
    {
     "name": "stdout",
     "output_type": "stream",
     "text": [
      "CPU times: user 17.4 s, sys: 3.36 s, total: 20.8 s\n",
      "Wall time: 21.6 s\n"
     ]
    }
   ],
   "source": [
    "%%time\n",
    "\n",
    "# embed = hub.load(\"https://tfhub.dev/google/universal-sentence-encoder/4\")\n",
    "\n",
    "#https://tfhub.dev/google/universal-sentence-encoder-large/5\n",
    "\n",
    "embed = hub.load(\"https://tfhub.dev/google/universal-sentence-encoder-large/5\")\n",
    "\n"
   ]
  },
  {
   "cell_type": "code",
   "execution_count": 17,
   "id": "c9824dde",
   "metadata": {
    "execution": {
     "iopub.execute_input": "2022-09-03T11:40:02.603701Z",
     "iopub.status.busy": "2022-09-03T11:40:02.602761Z",
     "iopub.status.idle": "2022-09-03T11:40:02.623351Z",
     "shell.execute_reply": "2022-09-03T11:40:02.622316Z"
    },
    "papermill": {
     "duration": 0.147317,
     "end_time": "2022-09-03T11:40:02.625812",
     "exception": false,
     "start_time": "2022-09-03T11:40:02.478495",
     "status": "completed"
    },
    "tags": []
   },
   "outputs": [
    {
     "data": {
      "text/html": [
       "<div>\n",
       "<style scoped>\n",
       "    .dataframe tbody tr th:only-of-type {\n",
       "        vertical-align: middle;\n",
       "    }\n",
       "\n",
       "    .dataframe tbody tr th {\n",
       "        vertical-align: top;\n",
       "    }\n",
       "\n",
       "    .dataframe thead th {\n",
       "        text-align: right;\n",
       "    }\n",
       "</style>\n",
       "<table border=\"1\" class=\"dataframe\">\n",
       "  <thead>\n",
       "    <tr style=\"text-align: right;\">\n",
       "      <th></th>\n",
       "      <th>t_citation</th>\n",
       "      <th>t_book</th>\n",
       "      <th>t_chapter</th>\n",
       "      <th>t_verse</th>\n",
       "      <th>t_text</th>\n",
       "      <th>q_Name</th>\n",
       "      <th>q_Surah</th>\n",
       "      <th>q_Ayat</th>\n",
       "      <th>q_Verse</th>\n",
       "      <th>similarity_score</th>\n",
       "    </tr>\n",
       "  </thead>\n",
       "  <tbody>\n",
       "    <tr>\n",
       "      <th>0</th>\n",
       "      <td>Genesis 1:1</td>\n",
       "      <td>Genesis</td>\n",
       "      <td>1</td>\n",
       "      <td>1</td>\n",
       "      <td>In the beginning God created the heaven and th...</td>\n",
       "      <td>Quran Surah Name</td>\n",
       "      <td>Quran Surah Number</td>\n",
       "      <td>Quran Ayat Number of corresponding Surah</td>\n",
       "      <td>Quranic Verse of Corresponding surah and ayat</td>\n",
       "      <td>0.0</td>\n",
       "    </tr>\n",
       "  </tbody>\n",
       "</table>\n",
       "</div>"
      ],
      "text/plain": [
       "    t_citation   t_book  t_chapter  t_verse  \\\n",
       "0  Genesis 1:1  Genesis          1        1   \n",
       "\n",
       "                                              t_text            q_Name  \\\n",
       "0  In the beginning God created the heaven and th...  Quran Surah Name   \n",
       "\n",
       "              q_Surah                                    q_Ayat  \\\n",
       "0  Quran Surah Number  Quran Ayat Number of corresponding Surah   \n",
       "\n",
       "                                         q_Verse  similarity_score  \n",
       "0  Quranic Verse of Corresponding surah and ayat               0.0  "
      ]
     },
     "execution_count": 17,
     "metadata": {},
     "output_type": "execute_result"
    }
   ],
   "source": [
    "sim_quran_torah = en_torah.copy()\n",
    "sim_quran_torah = sim_quran_torah.rename(columns={\"citation\": \"t_citation\", \"book\": \"t_book\", \"chapter\": \"t_chapter\", \"verse\": \"t_verse\", \"text\": \"t_text\"})\n",
    "\n",
    "\n",
    "sim_quran_torah['q_Name'] = \"Quran Surah Name\"\n",
    "sim_quran_torah['q_Surah'] = \"Quran Surah Number\"\n",
    "sim_quran_torah['q_Ayat'] = \"Quran Ayat Number of corresponding Surah\"\n",
    "sim_quran_torah['q_Verse'] = \"Quranic Verse of Corresponding surah and ayat\"\n",
    "\n",
    "sim_quran_torah['similarity_score'] = 0.0\n",
    "\n",
    "sim_quran_torah.head(1)"
   ]
  },
  {
   "cell_type": "code",
   "execution_count": 18,
   "id": "f396f004",
   "metadata": {
    "execution": {
     "iopub.execute_input": "2022-09-03T11:40:02.876026Z",
     "iopub.status.busy": "2022-09-03T11:40:02.874098Z",
     "iopub.status.idle": "2022-09-03T11:40:02.881007Z",
     "shell.execute_reply": "2022-09-03T11:40:02.880054Z"
    },
    "papermill": {
     "duration": 0.133061,
     "end_time": "2022-09-03T11:40:02.883055",
     "exception": false,
     "start_time": "2022-09-03T11:40:02.749994",
     "status": "completed"
    },
    "tags": []
   },
   "outputs": [],
   "source": [
    "def embed_sentences(texts):\n",
    "    batch_size =  32\n",
    "    index      = 0\n",
    "    text_emb    = []\n",
    "\n",
    "    while index*batch_size < len(texts):\n",
    "        text_emb.append(embed(texts[index*batch_size:(index+1)*batch_size]))\n",
    "        index += 1  \n",
    "\n",
    "    emb = np.vstack(text_emb)\n",
    "    print( emb.shape )\n",
    "    del text_emb\n",
    "   \n",
    "    return emb"
   ]
  },
  {
   "cell_type": "code",
   "execution_count": 19,
   "id": "cd276d9c",
   "metadata": {
    "execution": {
     "iopub.execute_input": "2022-09-03T11:40:03.176922Z",
     "iopub.status.busy": "2022-09-03T11:40:03.176563Z",
     "iopub.status.idle": "2022-09-03T11:40:53.372324Z",
     "shell.execute_reply": "2022-09-03T11:40:53.371348Z"
    },
    "papermill": {
     "duration": 50.368263,
     "end_time": "2022-09-03T11:40:53.374539",
     "exception": false,
     "start_time": "2022-09-03T11:40:03.006276",
     "status": "completed"
    },
    "tags": []
   },
   "outputs": [
    {
     "name": "stdout",
     "output_type": "stream",
     "text": [
      "(23145, 512)\n",
      "(6236, 512)\n",
      "CPU times: user 41.7 s, sys: 2.95 s, total: 44.6 s\n",
      "Wall time: 50.2 s\n"
     ]
    }
   ],
   "source": [
    "%%time\n",
    "torah_batch_embeddings = embed_sentences(torah_list)\n",
    "quran_batch_embeddings = embed_sentences(quran_list)\n"
   ]
  },
  {
   "cell_type": "code",
   "execution_count": 20,
   "id": "0052f3d2",
   "metadata": {
    "execution": {
     "iopub.execute_input": "2022-09-03T11:40:53.624059Z",
     "iopub.status.busy": "2022-09-03T11:40:53.623702Z",
     "iopub.status.idle": "2022-09-03T11:40:53.630582Z",
     "shell.execute_reply": "2022-09-03T11:40:53.629490Z"
    },
    "papermill": {
     "duration": 0.134518,
     "end_time": "2022-09-03T11:40:53.633740",
     "exception": false,
     "start_time": "2022-09-03T11:40:53.499222",
     "status": "completed"
    },
    "tags": []
   },
   "outputs": [
    {
     "data": {
      "text/plain": [
       "0.12437436"
      ]
     },
     "execution_count": 20,
     "metadata": {},
     "output_type": "execute_result"
    }
   ],
   "source": [
    "dot_score= np.inner(torah_batch_embeddings[0], quran_batch_embeddings[0])\n",
    "dot_score"
   ]
  },
  {
   "cell_type": "code",
   "execution_count": 21,
   "id": "83fafbf6",
   "metadata": {
    "execution": {
     "iopub.execute_input": "2022-09-03T11:40:53.879457Z",
     "iopub.status.busy": "2022-09-03T11:40:53.879098Z",
     "iopub.status.idle": "2022-09-03T11:47:20.819315Z",
     "shell.execute_reply": "2022-09-03T11:47:20.818346Z"
    },
    "papermill": {
     "duration": 387.187385,
     "end_time": "2022-09-03T11:47:20.943849",
     "exception": false,
     "start_time": "2022-09-03T11:40:53.756464",
     "status": "completed"
    },
    "tags": []
   },
   "outputs": [
    {
     "name": "stdout",
     "output_type": "stream",
     "text": [
      "CPU times: user 6min 25s, sys: 326 ms, total: 6min 25s\n",
      "Wall time: 6min 26s\n"
     ]
    },
    {
     "data": {
      "text/html": [
       "<div>\n",
       "<style scoped>\n",
       "    .dataframe tbody tr th:only-of-type {\n",
       "        vertical-align: middle;\n",
       "    }\n",
       "\n",
       "    .dataframe tbody tr th {\n",
       "        vertical-align: top;\n",
       "    }\n",
       "\n",
       "    .dataframe thead th {\n",
       "        text-align: right;\n",
       "    }\n",
       "</style>\n",
       "<table border=\"1\" class=\"dataframe\">\n",
       "  <thead>\n",
       "    <tr style=\"text-align: right;\">\n",
       "      <th></th>\n",
       "      <th>t_citation</th>\n",
       "      <th>t_book</th>\n",
       "      <th>t_chapter</th>\n",
       "      <th>t_verse</th>\n",
       "      <th>t_text</th>\n",
       "      <th>q_Name</th>\n",
       "      <th>q_Surah</th>\n",
       "      <th>q_Ayat</th>\n",
       "      <th>q_Verse</th>\n",
       "      <th>similarity_score</th>\n",
       "    </tr>\n",
       "  </thead>\n",
       "  <tbody>\n",
       "    <tr>\n",
       "      <th>0</th>\n",
       "      <td>Genesis 1:1</td>\n",
       "      <td>Genesis</td>\n",
       "      <td>1</td>\n",
       "      <td>1</td>\n",
       "      <td>In the beginning God created the heaven and th...</td>\n",
       "      <td>The Prophets</td>\n",
       "      <td>21</td>\n",
       "      <td>16</td>\n",
       "      <td>We created not the heaven and the earth and al...</td>\n",
       "      <td>0.622596</td>\n",
       "    </tr>\n",
       "    <tr>\n",
       "      <th>1</th>\n",
       "      <td>Genesis 1:2</td>\n",
       "      <td>Genesis</td>\n",
       "      <td>1</td>\n",
       "      <td>2</td>\n",
       "      <td>And the earth was without form, and void; and ...</td>\n",
       "      <td>Cattle</td>\n",
       "      <td>6</td>\n",
       "      <td>59</td>\n",
       "      <td>And with Him are the keys of the Invisible. No...</td>\n",
       "      <td>0.413075</td>\n",
       "    </tr>\n",
       "    <tr>\n",
       "      <th>2</th>\n",
       "      <td>Genesis 1:3</td>\n",
       "      <td>Genesis</td>\n",
       "      <td>1</td>\n",
       "      <td>3</td>\n",
       "      <td>And God said, Let there be light: and there wa...</td>\n",
       "      <td>Noah</td>\n",
       "      <td>71</td>\n",
       "      <td>16</td>\n",
       "      <td>And hath made the moon a light therein, and ma...</td>\n",
       "      <td>0.587231</td>\n",
       "    </tr>\n",
       "    <tr>\n",
       "      <th>3</th>\n",
       "      <td>Genesis 1:4</td>\n",
       "      <td>Genesis</td>\n",
       "      <td>1</td>\n",
       "      <td>4</td>\n",
       "      <td>And God saw the light, that it was good: and G...</td>\n",
       "      <td>Those Who Drag Forth</td>\n",
       "      <td>79</td>\n",
       "      <td>29</td>\n",
       "      <td>And He made dark the night thereof, and He bro...</td>\n",
       "      <td>0.519808</td>\n",
       "    </tr>\n",
       "    <tr>\n",
       "      <th>4</th>\n",
       "      <td>Genesis 1:5</td>\n",
       "      <td>Genesis</td>\n",
       "      <td>1</td>\n",
       "      <td>5</td>\n",
       "      <td>And God called the light Day, and the darkness...</td>\n",
       "      <td>The Prophets</td>\n",
       "      <td>21</td>\n",
       "      <td>33</td>\n",
       "      <td>And He it is Who created the night and the day...</td>\n",
       "      <td>0.599696</td>\n",
       "    </tr>\n",
       "  </tbody>\n",
       "</table>\n",
       "</div>"
      ],
      "text/plain": [
       "    t_citation   t_book  t_chapter  t_verse  \\\n",
       "0  Genesis 1:1  Genesis          1        1   \n",
       "1  Genesis 1:2  Genesis          1        2   \n",
       "2  Genesis 1:3  Genesis          1        3   \n",
       "3  Genesis 1:4  Genesis          1        4   \n",
       "4  Genesis 1:5  Genesis          1        5   \n",
       "\n",
       "                                              t_text                q_Name  \\\n",
       "0  In the beginning God created the heaven and th...          The Prophets   \n",
       "1  And the earth was without form, and void; and ...                Cattle   \n",
       "2  And God said, Let there be light: and there wa...                  Noah   \n",
       "3  And God saw the light, that it was good: and G...  Those Who Drag Forth   \n",
       "4  And God called the light Day, and the darkness...          The Prophets   \n",
       "\n",
       "  q_Surah q_Ayat                                            q_Verse  \\\n",
       "0      21     16  We created not the heaven and the earth and al...   \n",
       "1       6     59  And with Him are the keys of the Invisible. No...   \n",
       "2      71     16  And hath made the moon a light therein, and ma...   \n",
       "3      79     29  And He made dark the night thereof, and He bro...   \n",
       "4      21     33  And He it is Who created the night and the day...   \n",
       "\n",
       "   similarity_score  \n",
       "0          0.622596  \n",
       "1          0.413075  \n",
       "2          0.587231  \n",
       "3          0.519808  \n",
       "4          0.599696  "
      ]
     },
     "execution_count": 21,
     "metadata": {},
     "output_type": "execute_result"
    }
   ],
   "source": [
    "%%time\n",
    "\n",
    "for i in range(len(torah_batch_embeddings)):\n",
    "    best_score = 0.0\n",
    "    idx = 0\n",
    "    for j in range(len(quran_batch_embeddings)):\n",
    "\n",
    "        # Compute similarity matrix. Higher score indicates greater similarity.\n",
    "        dot_score= np.inner(torah_batch_embeddings[i], quran_batch_embeddings[j])\n",
    "#         print(dot_score)\n",
    "        if(dot_score>best_score):\n",
    "            best_score = dot_score\n",
    "            idx = j\n",
    "\n",
    "\n",
    "    sim_quran_torah.loc[i, 'similarity_score'] = best_score\n",
    "    sim_quran_torah.loc[i, 'q_Name'] = en_quran.loc[idx, 'Name']\n",
    "    sim_quran_torah.loc[i, 'q_Surah'] = en_quran.loc[idx, 'Surah']\n",
    "    sim_quran_torah.loc[i, 'q_Ayat'] = en_quran.loc[idx, 'Ayat']\n",
    "    sim_quran_torah.loc[i, 'q_Verse'] = en_quran.loc[idx, 'Verse']\n",
    "    \n",
    "sim_quran_torah.head()"
   ]
  },
  {
   "cell_type": "code",
   "execution_count": 22,
   "id": "d0eae556",
   "metadata": {
    "execution": {
     "iopub.execute_input": "2022-09-03T11:47:21.193935Z",
     "iopub.status.busy": "2022-09-03T11:47:21.193581Z",
     "iopub.status.idle": "2022-09-03T11:47:21.208463Z",
     "shell.execute_reply": "2022-09-03T11:47:21.207581Z"
    },
    "papermill": {
     "duration": 0.142093,
     "end_time": "2022-09-03T11:47:21.210595",
     "exception": false,
     "start_time": "2022-09-03T11:47:21.068502",
     "status": "completed"
    },
    "tags": []
   },
   "outputs": [],
   "source": [
    "\n",
    "sim_quran_torah = sim_quran_torah.sort_values(by=['similarity_score'], ascending=False)"
   ]
  },
  {
   "cell_type": "code",
   "execution_count": 23,
   "id": "e318c429",
   "metadata": {
    "execution": {
     "iopub.execute_input": "2022-09-03T11:47:21.460165Z",
     "iopub.status.busy": "2022-09-03T11:47:21.459576Z",
     "iopub.status.idle": "2022-09-03T11:47:21.687997Z",
     "shell.execute_reply": "2022-09-03T11:47:21.686998Z"
    },
    "papermill": {
     "duration": 0.35667,
     "end_time": "2022-09-03T11:47:21.690445",
     "exception": false,
     "start_time": "2022-09-03T11:47:21.333775",
     "status": "completed"
    },
    "tags": []
   },
   "outputs": [],
   "source": [
    "sim_quran_torah.to_csv(\"google_USE_similarities_between_quran_and_torah.csv\",index = False)"
   ]
  },
  {
   "cell_type": "code",
   "execution_count": 24,
   "id": "b12cdcb3",
   "metadata": {
    "execution": {
     "iopub.execute_input": "2022-09-03T11:47:21.942877Z",
     "iopub.status.busy": "2022-09-03T11:47:21.942527Z",
     "iopub.status.idle": "2022-09-03T11:47:21.962427Z",
     "shell.execute_reply": "2022-09-03T11:47:21.961476Z"
    },
    "papermill": {
     "duration": 0.147552,
     "end_time": "2022-09-03T11:47:21.964581",
     "exception": false,
     "start_time": "2022-09-03T11:47:21.817029",
     "status": "completed"
    },
    "tags": []
   },
   "outputs": [
    {
     "data": {
      "text/html": [
       "<div>\n",
       "<style scoped>\n",
       "    .dataframe tbody tr th:only-of-type {\n",
       "        vertical-align: middle;\n",
       "    }\n",
       "\n",
       "    .dataframe tbody tr th {\n",
       "        vertical-align: top;\n",
       "    }\n",
       "\n",
       "    .dataframe thead th {\n",
       "        text-align: right;\n",
       "    }\n",
       "</style>\n",
       "<table border=\"1\" class=\"dataframe\">\n",
       "  <thead>\n",
       "    <tr style=\"text-align: right;\">\n",
       "      <th></th>\n",
       "      <th>t_citation</th>\n",
       "      <th>t_book</th>\n",
       "      <th>t_chapter</th>\n",
       "      <th>t_verse</th>\n",
       "      <th>t_text</th>\n",
       "      <th>q_Name</th>\n",
       "      <th>q_Surah</th>\n",
       "      <th>q_Ayat</th>\n",
       "      <th>q_Verse</th>\n",
       "      <th>similarity_score</th>\n",
       "    </tr>\n",
       "  </thead>\n",
       "  <tbody>\n",
       "    <tr>\n",
       "      <th>1260</th>\n",
       "      <td>Genesis 42:8</td>\n",
       "      <td>Genesis</td>\n",
       "      <td>42</td>\n",
       "      <td>8</td>\n",
       "      <td>And Joseph knew his brethren, but they knew no...</td>\n",
       "      <td>Joseph</td>\n",
       "      <td>12</td>\n",
       "      <td>58</td>\n",
       "      <td>And Joseph’s brethren came and presented thems...</td>\n",
       "      <td>81</td>\n",
       "    </tr>\n",
       "    <tr>\n",
       "      <th>2998</th>\n",
       "      <td>Leviticus 11:1</td>\n",
       "      <td>Leviticus</td>\n",
       "      <td>11</td>\n",
       "      <td>1</td>\n",
       "      <td>And the LORD spake unto Moses and to Aaron, sa...</td>\n",
       "      <td>Those Who Set The Ranks</td>\n",
       "      <td>37</td>\n",
       "      <td>114</td>\n",
       "      <td>And We verily gave grace unto Moses and Aaron,</td>\n",
       "      <td>75</td>\n",
       "    </tr>\n",
       "    <tr>\n",
       "      <th>3053</th>\n",
       "      <td>Leviticus 13:1</td>\n",
       "      <td>Leviticus</td>\n",
       "      <td>13</td>\n",
       "      <td>1</td>\n",
       "      <td>And the LORD spake unto Moses and Aaron, sayin...</td>\n",
       "      <td>Those Who Set The Ranks</td>\n",
       "      <td>37</td>\n",
       "      <td>114</td>\n",
       "      <td>And We verily gave grace unto Moses and Aaron,</td>\n",
       "      <td>74</td>\n",
       "    </tr>\n",
       "    <tr>\n",
       "      <th>4134</th>\n",
       "      <td>Numbers 14:26</td>\n",
       "      <td>Numbers</td>\n",
       "      <td>14</td>\n",
       "      <td>26</td>\n",
       "      <td>And the LORD spake unto Moses and unto Aaron, ...</td>\n",
       "      <td>Those Who Set The Ranks</td>\n",
       "      <td>37</td>\n",
       "      <td>114</td>\n",
       "      <td>And We verily gave grace unto Moses and Aaron,</td>\n",
       "      <td>74</td>\n",
       "    </tr>\n",
       "    <tr>\n",
       "      <th>1693</th>\n",
       "      <td>Exodus 7:8</td>\n",
       "      <td>Exodus</td>\n",
       "      <td>7</td>\n",
       "      <td>8</td>\n",
       "      <td>And the LORD spake unto Moses and unto Aaron, ...</td>\n",
       "      <td>Those Who Set The Ranks</td>\n",
       "      <td>37</td>\n",
       "      <td>114</td>\n",
       "      <td>And We verily gave grace unto Moses and Aaron,</td>\n",
       "      <td>74</td>\n",
       "    </tr>\n",
       "    <tr>\n",
       "      <th>...</th>\n",
       "      <td>...</td>\n",
       "      <td>...</td>\n",
       "      <td>...</td>\n",
       "      <td>...</td>\n",
       "      <td>...</td>\n",
       "      <td>...</td>\n",
       "      <td>...</td>\n",
       "      <td>...</td>\n",
       "      <td>...</td>\n",
       "      <td>...</td>\n",
       "    </tr>\n",
       "    <tr>\n",
       "      <th>8683</th>\n",
       "      <td>2 Samuel 23:30</td>\n",
       "      <td>2 Samuel</td>\n",
       "      <td>23</td>\n",
       "      <td>30</td>\n",
       "      <td>Benaiah the Pirathonite, Hiddai of the brooks ...</td>\n",
       "      <td>Mary</td>\n",
       "      <td>19</td>\n",
       "      <td>1</td>\n",
       "      <td>Kaf. Ha. Ya. A’in. Sad.</td>\n",
       "      <td>21</td>\n",
       "    </tr>\n",
       "    <tr>\n",
       "      <th>7513</th>\n",
       "      <td>1 Samuel 14:5</td>\n",
       "      <td>1 Samuel</td>\n",
       "      <td>14</td>\n",
       "      <td>5</td>\n",
       "      <td>The forefront of the one was situate northward...</td>\n",
       "      <td>Mary</td>\n",
       "      <td>19</td>\n",
       "      <td>69</td>\n",
       "      <td>Then We shall pluck out from every sect whiche...</td>\n",
       "      <td>20</td>\n",
       "    </tr>\n",
       "    <tr>\n",
       "      <th>12622</th>\n",
       "      <td>Nehemiah 11:34</td>\n",
       "      <td>Nehemiah</td>\n",
       "      <td>11</td>\n",
       "      <td>34</td>\n",
       "      <td>Hadid, Zeboim, Neballat, \\n</td>\n",
       "      <td>The Emissaries</td>\n",
       "      <td>77</td>\n",
       "      <td>32</td>\n",
       "      <td>Lo! it throweth up sparks like the castles,</td>\n",
       "      <td>19</td>\n",
       "    </tr>\n",
       "    <tr>\n",
       "      <th>10304</th>\n",
       "      <td>1 Chronicles 1:52</td>\n",
       "      <td>1 Chronicles</td>\n",
       "      <td>1</td>\n",
       "      <td>52</td>\n",
       "      <td>Duke Aholibamah, duke Elah, duke Pinon, \\n</td>\n",
       "      <td>The Mansions of the Stars</td>\n",
       "      <td>85</td>\n",
       "      <td>15</td>\n",
       "      <td>Lord of the Throne of Glory,</td>\n",
       "      <td>19</td>\n",
       "    </tr>\n",
       "    <tr>\n",
       "      <th>1081</th>\n",
       "      <td>Genesis 36:41</td>\n",
       "      <td>Genesis</td>\n",
       "      <td>36</td>\n",
       "      <td>41</td>\n",
       "      <td>Duke Aholibamah, duke Elah, duke Pinon, \\n</td>\n",
       "      <td>The Mansions of the Stars</td>\n",
       "      <td>85</td>\n",
       "      <td>15</td>\n",
       "      <td>Lord of the Throne of Glory,</td>\n",
       "      <td>19</td>\n",
       "    </tr>\n",
       "  </tbody>\n",
       "</table>\n",
       "<p>23145 rows × 10 columns</p>\n",
       "</div>"
      ],
      "text/plain": [
       "              t_citation        t_book  t_chapter  t_verse  \\\n",
       "1260        Genesis 42:8       Genesis         42        8   \n",
       "2998      Leviticus 11:1     Leviticus         11        1   \n",
       "3053      Leviticus 13:1     Leviticus         13        1   \n",
       "4134       Numbers 14:26       Numbers         14       26   \n",
       "1693          Exodus 7:8        Exodus          7        8   \n",
       "...                  ...           ...        ...      ...   \n",
       "8683      2 Samuel 23:30      2 Samuel         23       30   \n",
       "7513       1 Samuel 14:5      1 Samuel         14        5   \n",
       "12622     Nehemiah 11:34      Nehemiah         11       34   \n",
       "10304  1 Chronicles 1:52  1 Chronicles          1       52   \n",
       "1081       Genesis 36:41       Genesis         36       41   \n",
       "\n",
       "                                                  t_text  \\\n",
       "1260   And Joseph knew his brethren, but they knew no...   \n",
       "2998   And the LORD spake unto Moses and to Aaron, sa...   \n",
       "3053   And the LORD spake unto Moses and Aaron, sayin...   \n",
       "4134   And the LORD spake unto Moses and unto Aaron, ...   \n",
       "1693   And the LORD spake unto Moses and unto Aaron, ...   \n",
       "...                                                  ...   \n",
       "8683   Benaiah the Pirathonite, Hiddai of the brooks ...   \n",
       "7513   The forefront of the one was situate northward...   \n",
       "12622                        Hadid, Zeboim, Neballat, \\n   \n",
       "10304         Duke Aholibamah, duke Elah, duke Pinon, \\n   \n",
       "1081          Duke Aholibamah, duke Elah, duke Pinon, \\n   \n",
       "\n",
       "                          q_Name q_Surah q_Ayat  \\\n",
       "1260                      Joseph      12     58   \n",
       "2998     Those Who Set The Ranks      37    114   \n",
       "3053     Those Who Set The Ranks      37    114   \n",
       "4134     Those Who Set The Ranks      37    114   \n",
       "1693     Those Who Set The Ranks      37    114   \n",
       "...                          ...     ...    ...   \n",
       "8683                        Mary      19      1   \n",
       "7513                        Mary      19     69   \n",
       "12622             The Emissaries      77     32   \n",
       "10304  The Mansions of the Stars      85     15   \n",
       "1081   The Mansions of the Stars      85     15   \n",
       "\n",
       "                                                 q_Verse  similarity_score  \n",
       "1260   And Joseph’s brethren came and presented thems...                81  \n",
       "2998      And We verily gave grace unto Moses and Aaron,                75  \n",
       "3053      And We verily gave grace unto Moses and Aaron,                74  \n",
       "4134      And We verily gave grace unto Moses and Aaron,                74  \n",
       "1693      And We verily gave grace unto Moses and Aaron,                74  \n",
       "...                                                  ...               ...  \n",
       "8683                             Kaf. Ha. Ya. A’in. Sad.                21  \n",
       "7513   Then We shall pluck out from every sect whiche...                20  \n",
       "12622        Lo! it throweth up sparks like the castles,                19  \n",
       "10304                       Lord of the Throne of Glory,                19  \n",
       "1081                        Lord of the Throne of Glory,                19  \n",
       "\n",
       "[23145 rows x 10 columns]"
      ]
     },
     "execution_count": 24,
     "metadata": {},
     "output_type": "execute_result"
    }
   ],
   "source": [
    "sim_quran_torah['similarity_score'] =sim_quran_torah['similarity_score'] * 100\n",
    "sim_quran_torah['similarity_score'] =sim_quran_torah['similarity_score'].astype(int)\n",
    "sim_quran_torah"
   ]
  },
  {
   "cell_type": "code",
   "execution_count": 25,
   "id": "c1fc5850",
   "metadata": {
    "execution": {
     "iopub.execute_input": "2022-09-03T11:47:22.214553Z",
     "iopub.status.busy": "2022-09-03T11:47:22.214185Z",
     "iopub.status.idle": "2022-09-03T11:47:22.481396Z",
     "shell.execute_reply": "2022-09-03T11:47:22.480439Z"
    },
    "papermill": {
     "duration": 0.393825,
     "end_time": "2022-09-03T11:47:22.483706",
     "exception": false,
     "start_time": "2022-09-03T11:47:22.089881",
     "status": "completed"
    },
    "tags": []
   },
   "outputs": [
    {
     "data": {
      "text/plain": [
       "<AxesSubplot:>"
      ]
     },
     "execution_count": 25,
     "metadata": {},
     "output_type": "execute_result"
    },
    {
     "data": {
      "image/png": "[encoded data removed]",
      "text/plain": [
       "<Figure size 432x288 with 1 Axes>"
      ]
     },
     "metadata": {
      "needs_background": "light"
     },
     "output_type": "display_data"
    }
   ],
   "source": [
    "sim_quran_torah['similarity_score'].hist()"
   ]
  },
  {
   "cell_type": "code",
   "execution_count": 26,
   "id": "0e86817e",
   "metadata": {
    "execution": {
     "iopub.execute_input": "2022-09-03T11:47:22.782446Z",
     "iopub.status.busy": "2022-09-03T11:47:22.782076Z",
     "iopub.status.idle": "2022-09-03T11:47:22.789034Z",
     "shell.execute_reply": "2022-09-03T11:47:22.788145Z"
    },
    "papermill": {
     "duration": 0.181503,
     "end_time": "2022-09-03T11:47:22.790991",
     "exception": false,
     "start_time": "2022-09-03T11:47:22.609488",
     "status": "completed"
    },
    "tags": []
   },
   "outputs": [
    {
     "data": {
      "text/plain": [
       "'In the beginning God created the heaven and the earth. \\n'"
      ]
     },
     "execution_count": 26,
     "metadata": {},
     "output_type": "execute_result"
    }
   ],
   "source": [
    "sim_quran_torah.t_text[0]"
   ]
  },
  {
   "cell_type": "code",
   "execution_count": 27,
   "id": "263525a4",
   "metadata": {
    "execution": {
     "iopub.execute_input": "2022-09-03T11:47:23.041142Z",
     "iopub.status.busy": "2022-09-03T11:47:23.040590Z",
     "iopub.status.idle": "2022-09-03T11:47:23.047276Z",
     "shell.execute_reply": "2022-09-03T11:47:23.046361Z"
    },
    "papermill": {
     "duration": 0.134768,
     "end_time": "2022-09-03T11:47:23.049234",
     "exception": false,
     "start_time": "2022-09-03T11:47:22.914466",
     "status": "completed"
    },
    "tags": []
   },
   "outputs": [
    {
     "data": {
      "text/plain": [
       "'We created not the heaven and the earth and all that is between them in play.'"
      ]
     },
     "execution_count": 27,
     "metadata": {},
     "output_type": "execute_result"
    }
   ],
   "source": [
    "sim_quran_torah.q_Verse[0]"
   ]
  },
  {
   "cell_type": "code",
   "execution_count": 28,
   "id": "b24ed406",
   "metadata": {
    "execution": {
     "iopub.execute_input": "2022-09-03T11:47:23.344543Z",
     "iopub.status.busy": "2022-09-03T11:47:23.343751Z",
     "iopub.status.idle": "2022-09-03T11:47:23.355766Z",
     "shell.execute_reply": "2022-09-03T11:47:23.354592Z"
    },
    "papermill": {
     "duration": 0.185502,
     "end_time": "2022-09-03T11:47:23.358985",
     "exception": false,
     "start_time": "2022-09-03T11:47:23.173483",
     "status": "completed"
    },
    "tags": []
   },
   "outputs": [
    {
     "data": {
      "text/plain": [
       "62"
      ]
     },
     "execution_count": 28,
     "metadata": {},
     "output_type": "execute_result"
    }
   ],
   "source": [
    "sim_quran_torah.similarity_score[0]"
   ]
  },
  {
   "cell_type": "code",
   "execution_count": 29,
   "id": "44ede866",
   "metadata": {
    "execution": {
     "iopub.execute_input": "2022-09-03T11:47:23.779874Z",
     "iopub.status.busy": "2022-09-03T11:47:23.778695Z",
     "iopub.status.idle": "2022-09-03T11:47:23.793965Z",
     "shell.execute_reply": "2022-09-03T11:47:23.793008Z"
    },
    "papermill": {
     "duration": 0.211572,
     "end_time": "2022-09-03T11:47:23.796096",
     "exception": false,
     "start_time": "2022-09-03T11:47:23.584524",
     "status": "completed"
    },
    "tags": []
   },
   "outputs": [
    {
     "data": {
      "text/plain": [
       "758"
      ]
     },
     "execution_count": 29,
     "metadata": {},
     "output_type": "execute_result"
    }
   ],
   "source": [
    "df = sim_quran_torah[sim_quran_torah['similarity_score']>60]\n",
    "len(df)"
   ]
  },
  {
   "cell_type": "code",
   "execution_count": 30,
   "id": "e3e98073",
   "metadata": {
    "execution": {
     "iopub.execute_input": "2022-09-03T11:47:24.083923Z",
     "iopub.status.busy": "2022-09-03T11:47:24.083571Z",
     "iopub.status.idle": "2022-09-03T11:47:24.120045Z",
     "shell.execute_reply": "2022-09-03T11:47:24.119122Z"
    },
    "papermill": {
     "duration": 0.16465,
     "end_time": "2022-09-03T11:47:24.122550",
     "exception": false,
     "start_time": "2022-09-03T11:47:23.957900",
     "status": "completed"
    },
    "tags": []
   },
   "outputs": [],
   "source": [
    "df = sim_quran_torah[sim_quran_torah['similarity_score']>54]\n",
    "len(df)\n",
    "df.to_csv(\"most_sim_pairs_google_USE_quran_and_torah.csv\",index = False)"
   ]
  },
  {
   "cell_type": "code",
   "execution_count": 31,
   "id": "862f8d45",
   "metadata": {
    "execution": {
     "iopub.execute_input": "2022-09-03T11:47:24.372402Z",
     "iopub.status.busy": "2022-09-03T11:47:24.371647Z",
     "iopub.status.idle": "2022-09-03T11:47:24.390571Z",
     "shell.execute_reply": "2022-09-03T11:47:24.389638Z"
    },
    "papermill": {
     "duration": 0.146247,
     "end_time": "2022-09-03T11:47:24.392611",
     "exception": false,
     "start_time": "2022-09-03T11:47:24.246364",
     "status": "completed"
    },
    "tags": []
   },
   "outputs": [
    {
     "data": {
      "text/html": [
       "<div>\n",
       "<style scoped>\n",
       "    .dataframe tbody tr th:only-of-type {\n",
       "        vertical-align: middle;\n",
       "    }\n",
       "\n",
       "    .dataframe tbody tr th {\n",
       "        vertical-align: top;\n",
       "    }\n",
       "\n",
       "    .dataframe thead th {\n",
       "        text-align: right;\n",
       "    }\n",
       "</style>\n",
       "<table border=\"1\" class=\"dataframe\">\n",
       "  <thead>\n",
       "    <tr style=\"text-align: right;\">\n",
       "      <th></th>\n",
       "      <th>t_citation</th>\n",
       "      <th>t_book</th>\n",
       "      <th>t_chapter</th>\n",
       "      <th>t_verse</th>\n",
       "      <th>t_text</th>\n",
       "      <th>q_Name</th>\n",
       "      <th>q_Surah</th>\n",
       "      <th>q_Ayat</th>\n",
       "      <th>q_Verse</th>\n",
       "      <th>similarity_score</th>\n",
       "    </tr>\n",
       "  </thead>\n",
       "  <tbody>\n",
       "    <tr>\n",
       "      <th>1260</th>\n",
       "      <td>Genesis 42:8</td>\n",
       "      <td>Genesis</td>\n",
       "      <td>42</td>\n",
       "      <td>8</td>\n",
       "      <td>And Joseph knew his brethren, but they knew no...</td>\n",
       "      <td>Joseph</td>\n",
       "      <td>12</td>\n",
       "      <td>58</td>\n",
       "      <td>And Joseph’s brethren came and presented thems...</td>\n",
       "      <td>81</td>\n",
       "    </tr>\n",
       "    <tr>\n",
       "      <th>2998</th>\n",
       "      <td>Leviticus 11:1</td>\n",
       "      <td>Leviticus</td>\n",
       "      <td>11</td>\n",
       "      <td>1</td>\n",
       "      <td>And the LORD spake unto Moses and to Aaron, sa...</td>\n",
       "      <td>Those Who Set The Ranks</td>\n",
       "      <td>37</td>\n",
       "      <td>114</td>\n",
       "      <td>And We verily gave grace unto Moses and Aaron,</td>\n",
       "      <td>75</td>\n",
       "    </tr>\n",
       "    <tr>\n",
       "      <th>3053</th>\n",
       "      <td>Leviticus 13:1</td>\n",
       "      <td>Leviticus</td>\n",
       "      <td>13</td>\n",
       "      <td>1</td>\n",
       "      <td>And the LORD spake unto Moses and Aaron, sayin...</td>\n",
       "      <td>Those Who Set The Ranks</td>\n",
       "      <td>37</td>\n",
       "      <td>114</td>\n",
       "      <td>And We verily gave grace unto Moses and Aaron,</td>\n",
       "      <td>74</td>\n",
       "    </tr>\n",
       "    <tr>\n",
       "      <th>4134</th>\n",
       "      <td>Numbers 14:26</td>\n",
       "      <td>Numbers</td>\n",
       "      <td>14</td>\n",
       "      <td>26</td>\n",
       "      <td>And the LORD spake unto Moses and unto Aaron, ...</td>\n",
       "      <td>Those Who Set The Ranks</td>\n",
       "      <td>37</td>\n",
       "      <td>114</td>\n",
       "      <td>And We verily gave grace unto Moses and Aaron,</td>\n",
       "      <td>74</td>\n",
       "    </tr>\n",
       "    <tr>\n",
       "      <th>1693</th>\n",
       "      <td>Exodus 7:8</td>\n",
       "      <td>Exodus</td>\n",
       "      <td>7</td>\n",
       "      <td>8</td>\n",
       "      <td>And the LORD spake unto Moses and unto Aaron, ...</td>\n",
       "      <td>Those Who Set The Ranks</td>\n",
       "      <td>37</td>\n",
       "      <td>114</td>\n",
       "      <td>And We verily gave grace unto Moses and Aaron,</td>\n",
       "      <td>74</td>\n",
       "    </tr>\n",
       "    <tr>\n",
       "      <th>...</th>\n",
       "      <td>...</td>\n",
       "      <td>...</td>\n",
       "      <td>...</td>\n",
       "      <td>...</td>\n",
       "      <td>...</td>\n",
       "      <td>...</td>\n",
       "      <td>...</td>\n",
       "      <td>...</td>\n",
       "      <td>...</td>\n",
       "      <td>...</td>\n",
       "    </tr>\n",
       "    <tr>\n",
       "      <th>1324</th>\n",
       "      <td>Genesis 43:34</td>\n",
       "      <td>Genesis</td>\n",
       "      <td>43</td>\n",
       "      <td>34</td>\n",
       "      <td>And he took and sent messes unto them from bef...</td>\n",
       "      <td>Repentance</td>\n",
       "      <td>9</td>\n",
       "      <td>76</td>\n",
       "      <td>Yet when He gave them of His bounty, they hoar...</td>\n",
       "      <td>55</td>\n",
       "    </tr>\n",
       "    <tr>\n",
       "      <th>1240</th>\n",
       "      <td>Genesis 41:45</td>\n",
       "      <td>Genesis</td>\n",
       "      <td>41</td>\n",
       "      <td>45</td>\n",
       "      <td>And Pharaoh called Joseph's name Zaphnathpaane...</td>\n",
       "      <td>Joseph</td>\n",
       "      <td>12</td>\n",
       "      <td>21</td>\n",
       "      <td>And he of Egypt who purchased him said unto hi...</td>\n",
       "      <td>55</td>\n",
       "    </tr>\n",
       "    <tr>\n",
       "      <th>18894</th>\n",
       "      <td>Isaiah 64:9</td>\n",
       "      <td>Isaiah</td>\n",
       "      <td>64</td>\n",
       "      <td>9</td>\n",
       "      <td>Be not wroth very sore, O LORD, neither rememb...</td>\n",
       "      <td>She That is to be Examined</td>\n",
       "      <td>60</td>\n",
       "      <td>5</td>\n",
       "      <td>Our Lord! Make us not a prey for those who dis...</td>\n",
       "      <td>55</td>\n",
       "    </tr>\n",
       "    <tr>\n",
       "      <th>1455</th>\n",
       "      <td>Genesis 48:4</td>\n",
       "      <td>Genesis</td>\n",
       "      <td>48</td>\n",
       "      <td>4</td>\n",
       "      <td>And said unto me, Behold, I will make thee fru...</td>\n",
       "      <td>The Believers</td>\n",
       "      <td>23</td>\n",
       "      <td>29</td>\n",
       "      <td>And say: My Lord! Cause me to land at a blesse...</td>\n",
       "      <td>55</td>\n",
       "    </tr>\n",
       "    <tr>\n",
       "      <th>14405</th>\n",
       "      <td>Psalms 34:17</td>\n",
       "      <td>Psalms</td>\n",
       "      <td>34</td>\n",
       "      <td>17</td>\n",
       "      <td>The righteous cry, and the LORD heareth, and d...</td>\n",
       "      <td>Abraham</td>\n",
       "      <td>14</td>\n",
       "      <td>15</td>\n",
       "      <td>And they sought help (from their Lord) and eve...</td>\n",
       "      <td>55</td>\n",
       "    </tr>\n",
       "  </tbody>\n",
       "</table>\n",
       "<p>3448 rows × 10 columns</p>\n",
       "</div>"
      ],
      "text/plain": [
       "           t_citation     t_book  t_chapter  t_verse  \\\n",
       "1260     Genesis 42:8    Genesis         42        8   \n",
       "2998   Leviticus 11:1  Leviticus         11        1   \n",
       "3053   Leviticus 13:1  Leviticus         13        1   \n",
       "4134    Numbers 14:26    Numbers         14       26   \n",
       "1693       Exodus 7:8     Exodus          7        8   \n",
       "...               ...        ...        ...      ...   \n",
       "1324    Genesis 43:34    Genesis         43       34   \n",
       "1240    Genesis 41:45    Genesis         41       45   \n",
       "18894     Isaiah 64:9     Isaiah         64        9   \n",
       "1455     Genesis 48:4    Genesis         48        4   \n",
       "14405    Psalms 34:17     Psalms         34       17   \n",
       "\n",
       "                                                  t_text  \\\n",
       "1260   And Joseph knew his brethren, but they knew no...   \n",
       "2998   And the LORD spake unto Moses and to Aaron, sa...   \n",
       "3053   And the LORD spake unto Moses and Aaron, sayin...   \n",
       "4134   And the LORD spake unto Moses and unto Aaron, ...   \n",
       "1693   And the LORD spake unto Moses and unto Aaron, ...   \n",
       "...                                                  ...   \n",
       "1324   And he took and sent messes unto them from bef...   \n",
       "1240   And Pharaoh called Joseph's name Zaphnathpaane...   \n",
       "18894  Be not wroth very sore, O LORD, neither rememb...   \n",
       "1455   And said unto me, Behold, I will make thee fru...   \n",
       "14405  The righteous cry, and the LORD heareth, and d...   \n",
       "\n",
       "                           q_Name q_Surah q_Ayat  \\\n",
       "1260                       Joseph      12     58   \n",
       "2998      Those Who Set The Ranks      37    114   \n",
       "3053      Those Who Set The Ranks      37    114   \n",
       "4134      Those Who Set The Ranks      37    114   \n",
       "1693      Those Who Set The Ranks      37    114   \n",
       "...                           ...     ...    ...   \n",
       "1324                   Repentance       9     76   \n",
       "1240                       Joseph      12     21   \n",
       "18894  She That is to be Examined      60      5   \n",
       "1455                The Believers      23     29   \n",
       "14405                     Abraham      14     15   \n",
       "\n",
       "                                                 q_Verse  similarity_score  \n",
       "1260   And Joseph’s brethren came and presented thems...                81  \n",
       "2998      And We verily gave grace unto Moses and Aaron,                75  \n",
       "3053      And We verily gave grace unto Moses and Aaron,                74  \n",
       "4134      And We verily gave grace unto Moses and Aaron,                74  \n",
       "1693      And We verily gave grace unto Moses and Aaron,                74  \n",
       "...                                                  ...               ...  \n",
       "1324   Yet when He gave them of His bounty, they hoar...                55  \n",
       "1240   And he of Egypt who purchased him said unto hi...                55  \n",
       "18894  Our Lord! Make us not a prey for those who dis...                55  \n",
       "1455   And say: My Lord! Cause me to land at a blesse...                55  \n",
       "14405  And they sought help (from their Lord) and eve...                55  \n",
       "\n",
       "[3448 rows x 10 columns]"
      ]
     },
     "execution_count": 31,
     "metadata": {},
     "output_type": "execute_result"
    }
   ],
   "source": [
    "df"
   ]
  },
  {
   "cell_type": "code",
   "execution_count": null,
   "id": "051a234f",
   "metadata": {
    "papermill": {
     "duration": 0.124476,
     "end_time": "2022-09-03T11:47:24.642121",
     "exception": false,
     "start_time": "2022-09-03T11:47:24.517645",
     "status": "completed"
    },
    "tags": []
   },
   "outputs": [],
   "source": []
  }
 ],
 "metadata": {
  "kernelspec": {
   "display_name": "Python 3",
   "language": "python",
   "name": "python3"
  },
  "language_info": {
   "codemirror_mode": {
    "name": "ipython",
    "version": 3
   },
   "file_extension": ".py",
   "mimetype": "text/x-python",
   "name": "python",
   "nbconvert_exporter": "python",
   "pygments_lexer": "ipython3",
   "version": "3.7.12"
  },
  "papermill": {
   "default_parameters": {},
   "duration": 1246.001731,
   "end_time": "2022-09-03T11:47:27.791468",
   "environment_variables": {},
   "exception": null,
   "input_path": "__notebook__.ipynb",
   "output_path": "__notebook__.ipynb",
   "parameters": {},
   "start_time": "2022-09-03T11:26:41.789737",
   "version": "2.3.4"
  }
 },
 "nbformat": 4,
 "nbformat_minor": 5
}

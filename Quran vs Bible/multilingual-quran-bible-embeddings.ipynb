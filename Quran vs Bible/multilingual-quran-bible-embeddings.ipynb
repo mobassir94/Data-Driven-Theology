{
 "cells": [
  {
   "cell_type": "code",
   "execution_count": 1,
   "id": "a1ea9b21",
   "metadata": {
    "execution": {
     "iopub.execute_input": "2022-09-05T10:40:47.470000Z",
     "iopub.status.busy": "2022-09-05T10:40:47.469288Z",
     "iopub.status.idle": "2022-09-05T10:41:11.336781Z",
     "shell.execute_reply": "2022-09-05T10:41:11.335781Z"
    },
    "papermill": {
     "duration": 23.876393,
     "end_time": "2022-09-05T10:41:11.339957",
     "exception": false,
     "start_time": "2022-09-05T10:40:47.463564",
     "status": "completed"
    },
    "tags": []
   },
   "outputs": [
    {
     "name": "stdout",
     "output_type": "stream",
     "text": [
      "Collecting laserembeddings==1.1.2\r\n",
      "  Downloading laserembeddings-1.1.2-py3-none-any.whl (13 kB)\r\n",
      "Requirement already satisfied: numpy<2.0.0,>=1.15.4 in /opt/conda/lib/python3.7/site-packages (from laserembeddings==1.1.2) (1.21.6)\r\n",
      "Requirement already satisfied: torch<2.0.0,>=1.0.1.post2 in /opt/conda/lib/python3.7/site-packages (from laserembeddings==1.1.2) (1.11.0)\r\n",
      "Collecting sacremoses==0.0.35\r\n",
      "  Downloading sacremoses-0.0.35.tar.gz (859 kB)\r\n",
      "\u001b[2K     \u001b[90m━━━━━━━━━━━━━━━━━━━━━━━━━━━━━━━━━━━━━━━\u001b[0m \u001b[32m859.8/859.8 kB\u001b[0m \u001b[31m2.9 MB/s\u001b[0m eta \u001b[36m0:00:00\u001b[0m\r\n",
      "\u001b[?25h  Preparing metadata (setup.py) ... \u001b[?25l-\b \bdone\r\n",
      "\u001b[?25hCollecting transliterate==1.10.2\r\n",
      "  Downloading transliterate-1.10.2-py2.py3-none-any.whl (45 kB)\r\n",
      "\u001b[2K     \u001b[90m━━━━━━━━━━━━━━━━━━━━━━━━━━━━━━━━━━━━━━━━\u001b[0m \u001b[32m45.8/45.8 kB\u001b[0m \u001b[31m3.7 MB/s\u001b[0m eta \u001b[36m0:00:00\u001b[0m\r\n",
      "\u001b[?25hCollecting subword-nmt<0.4.0,>=0.3.6\r\n",
      "  Downloading subword_nmt-0.3.8-py3-none-any.whl (27 kB)\r\n",
      "Requirement already satisfied: six in /opt/conda/lib/python3.7/site-packages (from sacremoses==0.0.35->laserembeddings==1.1.2) (1.16.0)\r\n",
      "Requirement already satisfied: click in /opt/conda/lib/python3.7/site-packages (from sacremoses==0.0.35->laserembeddings==1.1.2) (8.0.4)\r\n",
      "Requirement already satisfied: joblib in /opt/conda/lib/python3.7/site-packages (from sacremoses==0.0.35->laserembeddings==1.1.2) (1.0.1)\r\n",
      "Requirement already satisfied: tqdm in /opt/conda/lib/python3.7/site-packages (from sacremoses==0.0.35->laserembeddings==1.1.2) (4.64.0)\r\n",
      "Requirement already satisfied: mock in /opt/conda/lib/python3.7/site-packages (from subword-nmt<0.4.0,>=0.3.6->laserembeddings==1.1.2) (4.0.3)\r\n",
      "Requirement already satisfied: typing-extensions in /opt/conda/lib/python3.7/site-packages (from torch<2.0.0,>=1.0.1.post2->laserembeddings==1.1.2) (4.1.1)\r\n",
      "Requirement already satisfied: importlib-metadata in /opt/conda/lib/python3.7/site-packages (from click->sacremoses==0.0.35->laserembeddings==1.1.2) (4.12.0)\r\n",
      "Requirement already satisfied: zipp>=0.5 in /opt/conda/lib/python3.7/site-packages (from importlib-metadata->click->sacremoses==0.0.35->laserembeddings==1.1.2) (3.8.0)\r\n",
      "Building wheels for collected packages: sacremoses\r\n",
      "  Building wheel for sacremoses (setup.py) ... \u001b[?25l-\b \b\\\b \b|\b \bdone\r\n",
      "\u001b[?25h  Created wheel for sacremoses: filename=sacremoses-0.0.35-py3-none-any.whl size=883989 sha256=d306032554c1d8b94cffabf5b965d9a0873c2b2f5a63a284d658ee69be891a00\r\n",
      "  Stored in directory: /root/.cache/pip/wheels/d1/ff/0e/e00ff1e22100702ac8b24e709551ae0fb29db9ffc843510a64\r\n",
      "Successfully built sacremoses\r\n",
      "Installing collected packages: transliterate, subword-nmt, sacremoses, laserembeddings\r\n",
      "  Attempting uninstall: sacremoses\r\n",
      "    Found existing installation: sacremoses 0.0.53\r\n",
      "    Uninstalling sacremoses-0.0.53:\r\n",
      "      Successfully uninstalled sacremoses-0.0.53\r\n",
      "\u001b[31mERROR: pip's dependency resolver does not currently take into account all the packages that are installed. This behaviour is the source of the following dependency conflicts.\r\n",
      "allennlp 2.10.0 requires protobuf==3.20.0, but you have protobuf 3.19.4 which is incompatible.\u001b[0m\u001b[31m\r\n",
      "\u001b[0mSuccessfully installed laserembeddings-1.1.2 sacremoses-0.0.35 subword-nmt-0.3.8 transliterate-1.10.2\r\n",
      "\u001b[33mWARNING: Running pip as the 'root' user can result in broken permissions and conflicting behaviour with the system package manager. It is recommended to use a virtual environment instead: https://pip.pypa.io/warnings/venv\u001b[0m\u001b[33m\r\n",
      "\u001b[0mDownloading models into /opt/conda/lib/python3.7/site-packages/laserembeddings/data\r\n",
      "\r\n",
      "✅   Downloaded https://dl.fbaipublicfiles.com/laser/models/93langs.fcodes    \r\n",
      "✅   Downloaded https://dl.fbaipublicfiles.com/laser/models/93langs.fvocab    \r\n",
      "✅   Downloaded https://dl.fbaipublicfiles.com/laser/models/bilstm.93langs.2018-12-26.pt    \r\n",
      "\r\n",
      "✨ You're all set!\r\n"
     ]
    }
   ],
   "source": [
    "# This Python 3 environment comes with many helpful analytics libraries installed\n",
    "# It is defined by the kaggle/python Docker image: https://github.com/kaggle/docker-python\n",
    "# For example, here's several helpful packages to load\n",
    "\n",
    "!pip install laserembeddings==1.1.2\n",
    "!python -m laserembeddings download-models\n",
    "\n",
    "import numpy as np # linear algebra\n",
    "import pandas as pd # data processing, CSV file I/O (e.g. pd.read_csv)\n",
    "from laserembeddings import Laser\n",
    "\n",
    "# You can write up to 20GB to the current directory (/kaggle/working/) that gets preserved as output when you create a version using \"Save & Run All\" \n",
    "# You can also write temporary files to /kaggle/temp/, but they won't be saved outside of the current session"
   ]
  },
  {
   "cell_type": "code",
   "execution_count": 2,
   "id": "e972b965",
   "metadata": {
    "execution": {
     "iopub.execute_input": "2022-09-05T10:41:11.353797Z",
     "iopub.status.busy": "2022-09-05T10:41:11.353213Z",
     "iopub.status.idle": "2022-09-05T10:41:11.476531Z",
     "shell.execute_reply": "2022-09-05T10:41:11.475580Z"
    },
    "papermill": {
     "duration": 0.132703,
     "end_time": "2022-09-05T10:41:11.478763",
     "exception": false,
     "start_time": "2022-09-05T10:41:11.346060",
     "status": "completed"
    },
    "tags": []
   },
   "outputs": [
    {
     "data": {
      "text/html": [
       "<div>\n",
       "<style scoped>\n",
       "    .dataframe tbody tr th:only-of-type {\n",
       "        vertical-align: middle;\n",
       "    }\n",
       "\n",
       "    .dataframe tbody tr th {\n",
       "        vertical-align: top;\n",
       "    }\n",
       "\n",
       "    .dataframe thead th {\n",
       "        text-align: right;\n",
       "    }\n",
       "</style>\n",
       "<table border=\"1\" class=\"dataframe\">\n",
       "  <thead>\n",
       "    <tr style=\"text-align: right;\">\n",
       "      <th></th>\n",
       "      <th>t_citation</th>\n",
       "      <th>t_book</th>\n",
       "      <th>t_chapter</th>\n",
       "      <th>t_verse</th>\n",
       "      <th>t_text</th>\n",
       "      <th>q_Name</th>\n",
       "      <th>q_Surah</th>\n",
       "      <th>q_Ayat</th>\n",
       "      <th>q_Verse</th>\n",
       "      <th>similarity_score</th>\n",
       "    </tr>\n",
       "  </thead>\n",
       "  <tbody>\n",
       "    <tr>\n",
       "      <th>0</th>\n",
       "      <td>Jeremiah 51:15</td>\n",
       "      <td>Jeremiah</td>\n",
       "      <td>51</td>\n",
       "      <td>15</td>\n",
       "      <td>He hath made the earth by his power, he hath e...</td>\n",
       "      <td>The Bee</td>\n",
       "      <td>16</td>\n",
       "      <td>3</td>\n",
       "      <td>He hath created the heavens and the earth with...</td>\n",
       "      <td>93</td>\n",
       "    </tr>\n",
       "  </tbody>\n",
       "</table>\n",
       "</div>"
      ],
      "text/plain": [
       "       t_citation    t_book  t_chapter  t_verse  \\\n",
       "0  Jeremiah 51:15  Jeremiah         51       15   \n",
       "\n",
       "                                              t_text   q_Name  q_Surah  \\\n",
       "0  He hath made the earth by his power, he hath e...  The Bee       16   \n",
       "\n",
       "   q_Ayat                                            q_Verse  similarity_score  \n",
       "0       3  He hath created the heavens and the earth with...                93  "
      ]
     },
     "execution_count": 2,
     "metadata": {},
     "output_type": "execute_result"
    }
   ],
   "source": [
    "quran_bible = pd.read_csv(\"../input/quran-vs-bible/ensemble_preds_most_sim_pairs_quran_and_old_testament.csv\")\n",
    "quran_bible.head(1)"
   ]
  },
  {
   "cell_type": "code",
   "execution_count": 3,
   "id": "3c0eef89",
   "metadata": {
    "execution": {
     "iopub.execute_input": "2022-09-05T10:41:11.488150Z",
     "iopub.status.busy": "2022-09-05T10:41:11.487586Z",
     "iopub.status.idle": "2022-09-05T10:41:34.054811Z",
     "shell.execute_reply": "2022-09-05T10:41:34.052776Z"
    },
    "papermill": {
     "duration": 22.574657,
     "end_time": "2022-09-05T10:41:34.057601",
     "exception": false,
     "start_time": "2022-09-05T10:41:11.482944",
     "status": "completed"
    },
    "tags": []
   },
   "outputs": [
    {
     "name": "stdout",
     "output_type": "stream",
     "text": [
      "CPU times: user 19.1 s, sys: 1.32 s, total: 20.4 s\n",
      "Wall time: 22.6 s\n"
     ]
    }
   ],
   "source": [
    "%%time\n",
    "laser = Laser()\n",
    "\n",
    "quran_bible['merged_text'] = quran_bible.t_text.astype(str) + quran_bible.q_Verse.astype(str) \n",
    "\n",
    "embeds = laser.embed_sentences(quran_bible['merged_text'].values, lang='en')\n",
    "np.save(\"mlt_quran_torah_emb.npy\",embeds)\n",
    "quran_bible = quran_bible.drop(columns=['merged_text'])"
   ]
  },
  {
   "cell_type": "code",
   "execution_count": 4,
   "id": "9fe9cfb8",
   "metadata": {
    "execution": {
     "iopub.execute_input": "2022-09-05T10:41:34.068713Z",
     "iopub.status.busy": "2022-09-05T10:41:34.067521Z",
     "iopub.status.idle": "2022-09-05T10:41:34.081653Z",
     "shell.execute_reply": "2022-09-05T10:41:34.080566Z"
    },
    "papermill": {
     "duration": 0.022099,
     "end_time": "2022-09-05T10:41:34.084331",
     "exception": false,
     "start_time": "2022-09-05T10:41:34.062232",
     "status": "completed"
    },
    "tags": []
   },
   "outputs": [
    {
     "data": {
      "text/html": [
       "<div>\n",
       "<style scoped>\n",
       "    .dataframe tbody tr th:only-of-type {\n",
       "        vertical-align: middle;\n",
       "    }\n",
       "\n",
       "    .dataframe tbody tr th {\n",
       "        vertical-align: top;\n",
       "    }\n",
       "\n",
       "    .dataframe thead th {\n",
       "        text-align: right;\n",
       "    }\n",
       "</style>\n",
       "<table border=\"1\" class=\"dataframe\">\n",
       "  <thead>\n",
       "    <tr style=\"text-align: right;\">\n",
       "      <th></th>\n",
       "      <th>t_citation</th>\n",
       "      <th>t_book</th>\n",
       "      <th>t_chapter</th>\n",
       "      <th>t_verse</th>\n",
       "      <th>t_text</th>\n",
       "      <th>q_Name</th>\n",
       "      <th>q_Surah</th>\n",
       "      <th>q_Ayat</th>\n",
       "      <th>q_Verse</th>\n",
       "      <th>similarity_score</th>\n",
       "    </tr>\n",
       "  </thead>\n",
       "  <tbody>\n",
       "    <tr>\n",
       "      <th>0</th>\n",
       "      <td>Jeremiah 51:15</td>\n",
       "      <td>Jeremiah</td>\n",
       "      <td>51</td>\n",
       "      <td>15</td>\n",
       "      <td>He hath made the earth by his power, he hath e...</td>\n",
       "      <td>The Bee</td>\n",
       "      <td>16</td>\n",
       "      <td>3</td>\n",
       "      <td>He hath created the heavens and the earth with...</td>\n",
       "      <td>93</td>\n",
       "    </tr>\n",
       "    <tr>\n",
       "      <th>1</th>\n",
       "      <td>Deuteronomy 10:14</td>\n",
       "      <td>Deuteronomy</td>\n",
       "      <td>10</td>\n",
       "      <td>14</td>\n",
       "      <td>Behold, the heaven and the heaven of heavens i...</td>\n",
       "      <td>Smoke</td>\n",
       "      <td>44</td>\n",
       "      <td>7</td>\n",
       "      <td>Lord of the heavens and the earth and all that...</td>\n",
       "      <td>93</td>\n",
       "    </tr>\n",
       "    <tr>\n",
       "      <th>2</th>\n",
       "      <td>Psalms 119:67</td>\n",
       "      <td>Psalms</td>\n",
       "      <td>119</td>\n",
       "      <td>67</td>\n",
       "      <td>Before I was afflicted I went astray: but now ...</td>\n",
       "      <td>The Poets</td>\n",
       "      <td>26</td>\n",
       "      <td>20</td>\n",
       "      <td>He said: I did it then, when I was of those wh...</td>\n",
       "      <td>93</td>\n",
       "    </tr>\n",
       "    <tr>\n",
       "      <th>3</th>\n",
       "      <td>Deuteronomy 10:20</td>\n",
       "      <td>Deuteronomy</td>\n",
       "      <td>10</td>\n",
       "      <td>20</td>\n",
       "      <td>Thou shalt fear the LORD thy God; him shalt th...</td>\n",
       "      <td>Those Who Drag Forth</td>\n",
       "      <td>79</td>\n",
       "      <td>19</td>\n",
       "      <td>Then I will guide thee to thy Lord and thou sh...</td>\n",
       "      <td>93</td>\n",
       "    </tr>\n",
       "    <tr>\n",
       "      <th>4</th>\n",
       "      <td>Genesis 12:20</td>\n",
       "      <td>Genesis</td>\n",
       "      <td>12</td>\n",
       "      <td>20</td>\n",
       "      <td>And Pharaoh commanded his men concerning him: ...</td>\n",
       "      <td>Hûd</td>\n",
       "      <td>11</td>\n",
       "      <td>97</td>\n",
       "      <td>Unto Pharaoh and his chiefs, but they did foll...</td>\n",
       "      <td>93</td>\n",
       "    </tr>\n",
       "  </tbody>\n",
       "</table>\n",
       "</div>"
      ],
      "text/plain": [
       "          t_citation       t_book  t_chapter  t_verse  \\\n",
       "0     Jeremiah 51:15     Jeremiah         51       15   \n",
       "1  Deuteronomy 10:14  Deuteronomy         10       14   \n",
       "2      Psalms 119:67       Psalms        119       67   \n",
       "3  Deuteronomy 10:20  Deuteronomy         10       20   \n",
       "4      Genesis 12:20      Genesis         12       20   \n",
       "\n",
       "                                              t_text                q_Name  \\\n",
       "0  He hath made the earth by his power, he hath e...               The Bee   \n",
       "1  Behold, the heaven and the heaven of heavens i...                 Smoke   \n",
       "2  Before I was afflicted I went astray: but now ...             The Poets   \n",
       "3  Thou shalt fear the LORD thy God; him shalt th...  Those Who Drag Forth   \n",
       "4  And Pharaoh commanded his men concerning him: ...                   Hûd   \n",
       "\n",
       "   q_Surah  q_Ayat                                            q_Verse  \\\n",
       "0       16       3  He hath created the heavens and the earth with...   \n",
       "1       44       7  Lord of the heavens and the earth and all that...   \n",
       "2       26      20  He said: I did it then, when I was of those wh...   \n",
       "3       79      19  Then I will guide thee to thy Lord and thou sh...   \n",
       "4       11      97  Unto Pharaoh and his chiefs, but they did foll...   \n",
       "\n",
       "   similarity_score  \n",
       "0                93  \n",
       "1                93  \n",
       "2                93  \n",
       "3                93  \n",
       "4                93  "
      ]
     },
     "execution_count": 4,
     "metadata": {},
     "output_type": "execute_result"
    }
   ],
   "source": [
    "quran_bible.head()"
   ]
  },
  {
   "cell_type": "markdown",
   "id": "3582fc78",
   "metadata": {
    "papermill": {
     "duration": 0.003717,
     "end_time": "2022-09-05T10:41:34.091896",
     "exception": false,
     "start_time": "2022-09-05T10:41:34.088179",
     "status": "completed"
    },
    "tags": []
   },
   "source": [
    "i am using this [Quran Vs Bible](https://www.kaggle.com/datasets/mobassir/quran-vs-bible) dataset for creating  Embeddings for cross lingual semantic similarity checking purpose."
   ]
  },
  {
   "cell_type": "code",
   "execution_count": null,
   "id": "ed6fcfd9",
   "metadata": {
    "papermill": {
     "duration": 0.003575,
     "end_time": "2022-09-05T10:41:34.099532",
     "exception": false,
     "start_time": "2022-09-05T10:41:34.095957",
     "status": "completed"
    },
    "tags": []
   },
   "outputs": [],
   "source": []
  }
 ],
 "metadata": {
  "kernelspec": {
   "display_name": "Python 3",
   "language": "python",
   "name": "python3"
  },
  "language_info": {
   "codemirror_mode": {
    "name": "ipython",
    "version": 3
   },
   "file_extension": ".py",
   "mimetype": "text/x-python",
   "name": "python",
   "nbconvert_exporter": "python",
   "pygments_lexer": "ipython3",
   "version": "3.7.12"
  },
  "papermill": {
   "default_parameters": {},
   "duration": 55.49016,
   "end_time": "2022-09-05T10:41:35.024476",
   "environment_variables": {},
   "exception": null,
   "input_path": "__notebook__.ipynb",
   "output_path": "__notebook__.ipynb",
   "parameters": {},
   "start_time": "2022-09-05T10:40:39.534316",
   "version": "2.3.4"
  }
 },
 "nbformat": 4,
 "nbformat_minor": 5
}
